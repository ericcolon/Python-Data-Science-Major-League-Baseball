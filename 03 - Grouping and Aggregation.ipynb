{
 "cells": [
  {
   "cell_type": "markdown",
   "metadata": {},
   "source": [
    "# Grouping and Aggregation"
   ]
  },
  {
   "cell_type": "code",
   "execution_count": 1,
   "metadata": {
    "collapsed": true
   },
   "outputs": [],
   "source": [
    "import pandas as pd"
   ]
  },
  {
   "cell_type": "markdown",
   "metadata": {},
   "source": [
    "In this notebook we will group the dataframes we made in the previous notebook and join them in order to prepare them for data visualization."
   ]
  },
  {
   "cell_type": "code",
   "execution_count": 2,
   "metadata": {
    "collapsed": false
   },
   "outputs": [],
   "source": [
    "pitching_last_decade = pd.read_pickle('/home/jnogle/finalproject/dataframes/pitching_last_decade')"
   ]
  },
  {
   "cell_type": "code",
   "execution_count": 3,
   "metadata": {
    "collapsed": true
   },
   "outputs": [],
   "source": [
    "pitching_post_last_decade = pd.read_pickle('/home/jnogle/finalproject/dataframes/pitching_post_last_decade')"
   ]
  },
  {
   "cell_type": "code",
   "execution_count": 4,
   "metadata": {
    "collapsed": true
   },
   "outputs": [],
   "source": [
    "batting_last_decade = pd.read_pickle('/home/jnogle/finalproject/dataframes/batting_last_decade')"
   ]
  },
  {
   "cell_type": "code",
   "execution_count": 5,
   "metadata": {
    "collapsed": true
   },
   "outputs": [],
   "source": [
    "batting_post_last_decade = pd.read_pickle('/home/jnogle/finalproject/dataframes/batting_post_last_decade')"
   ]
  },
  {
   "cell_type": "code",
   "execution_count": 6,
   "metadata": {
    "collapsed": true
   },
   "outputs": [],
   "source": [
    "fielding_last_decade = pd.read_pickle('/home/jnogle/finalproject/dataframes/fielding_last_decade')"
   ]
  },
  {
   "cell_type": "code",
   "execution_count": 7,
   "metadata": {
    "collapsed": true
   },
   "outputs": [],
   "source": [
    "fielding_post_last_decade = pd.read_pickle('/home/jnogle/finalproject/dataframes/fielding_post_last_decade')"
   ]
  },
  {
   "cell_type": "code",
   "execution_count": 8,
   "metadata": {
    "collapsed": false
   },
   "outputs": [],
   "source": [
    "team_last_decade = pd.read_pickle('/home/jnogle/finalproject/dataframes/team_last_decade')"
   ]
  },
  {
   "cell_type": "markdown",
   "metadata": {},
   "source": [
    "## Pitching"
   ]
  },
  {
   "cell_type": "code",
   "execution_count": 9,
   "metadata": {
    "collapsed": false,
    "scrolled": true
   },
   "outputs": [
    {
     "data": {
      "text/html": [
       "<div>\n",
       "<table border=\"1\" class=\"dataframe\">\n",
       "  <thead>\n",
       "    <tr style=\"text-align: right;\">\n",
       "      <th></th>\n",
       "      <th>player_id</th>\n",
       "      <th>year</th>\n",
       "      <th>team_id</th>\n",
       "      <th>era</th>\n",
       "    </tr>\n",
       "  </thead>\n",
       "  <tbody>\n",
       "    <tr>\n",
       "      <th>32900</th>\n",
       "      <td>abbotpa01</td>\n",
       "      <td>2000</td>\n",
       "      <td>SEA</td>\n",
       "      <td>4.22</td>\n",
       "    </tr>\n",
       "    <tr>\n",
       "      <th>32901</th>\n",
       "      <td>aceveju01</td>\n",
       "      <td>2000</td>\n",
       "      <td>MIL</td>\n",
       "      <td>3.81</td>\n",
       "    </tr>\n",
       "    <tr>\n",
       "      <th>32902</th>\n",
       "      <td>adamste01</td>\n",
       "      <td>2000</td>\n",
       "      <td>LAN</td>\n",
       "      <td>3.52</td>\n",
       "    </tr>\n",
       "    <tr>\n",
       "      <th>32903</th>\n",
       "      <td>aguilri01</td>\n",
       "      <td>2000</td>\n",
       "      <td>CHN</td>\n",
       "      <td>4.91</td>\n",
       "    </tr>\n",
       "    <tr>\n",
       "      <th>32904</th>\n",
       "      <td>aldresc01</td>\n",
       "      <td>2000</td>\n",
       "      <td>PHI</td>\n",
       "      <td>5.75</td>\n",
       "    </tr>\n",
       "  </tbody>\n",
       "</table>\n",
       "</div>"
      ],
      "text/plain": [
       "       player_id  year team_id   era\n",
       "32900  abbotpa01  2000     SEA  4.22\n",
       "32901  aceveju01  2000     MIL  3.81\n",
       "32902  adamste01  2000     LAN  3.52\n",
       "32903  aguilri01  2000     CHN  4.91\n",
       "32904  aldresc01  2000     PHI  5.75"
      ]
     },
     "execution_count": 9,
     "metadata": {},
     "output_type": "execute_result"
    }
   ],
   "source": [
    "pitching_last_decade.head()"
   ]
  },
  {
   "cell_type": "code",
   "execution_count": 10,
   "metadata": {
    "collapsed": false
   },
   "outputs": [
    {
     "data": {
      "text/html": [
       "<div>\n",
       "<table border=\"1\" class=\"dataframe\">\n",
       "  <thead>\n",
       "    <tr style=\"text-align: right;\">\n",
       "      <th></th>\n",
       "      <th>player_id</th>\n",
       "      <th>year</th>\n",
       "      <th>round</th>\n",
       "      <th>team_id</th>\n",
       "      <th>era</th>\n",
       "    </tr>\n",
       "  </thead>\n",
       "  <tbody>\n",
       "    <tr>\n",
       "      <th>2788</th>\n",
       "      <td>choatra01</td>\n",
       "      <td>2000</td>\n",
       "      <td>ALCS</td>\n",
       "      <td>NYA</td>\n",
       "      <td>0.0</td>\n",
       "    </tr>\n",
       "    <tr>\n",
       "      <th>2789</th>\n",
       "      <td>clemero02</td>\n",
       "      <td>2000</td>\n",
       "      <td>ALCS</td>\n",
       "      <td>NYA</td>\n",
       "      <td>0.0</td>\n",
       "    </tr>\n",
       "    <tr>\n",
       "      <th>2790</th>\n",
       "      <td>coneda01</td>\n",
       "      <td>2000</td>\n",
       "      <td>ALCS</td>\n",
       "      <td>NYA</td>\n",
       "      <td>0.0</td>\n",
       "    </tr>\n",
       "    <tr>\n",
       "      <th>2791</th>\n",
       "      <td>goodedw01</td>\n",
       "      <td>2000</td>\n",
       "      <td>ALCS</td>\n",
       "      <td>NYA</td>\n",
       "      <td>0.0</td>\n",
       "    </tr>\n",
       "    <tr>\n",
       "      <th>2792</th>\n",
       "      <td>grimsja01</td>\n",
       "      <td>2000</td>\n",
       "      <td>ALCS</td>\n",
       "      <td>NYA</td>\n",
       "      <td>0.0</td>\n",
       "    </tr>\n",
       "  </tbody>\n",
       "</table>\n",
       "</div>"
      ],
      "text/plain": [
       "      player_id  year round team_id  era\n",
       "2788  choatra01  2000  ALCS     NYA  0.0\n",
       "2789  clemero02  2000  ALCS     NYA  0.0\n",
       "2790   coneda01  2000  ALCS     NYA  0.0\n",
       "2791  goodedw01  2000  ALCS     NYA  0.0\n",
       "2792  grimsja01  2000  ALCS     NYA  0.0"
      ]
     },
     "execution_count": 10,
     "metadata": {},
     "output_type": "execute_result"
    }
   ],
   "source": [
    "pitching_post_last_decade.head()"
   ]
  },
  {
   "cell_type": "code",
   "execution_count": 12,
   "metadata": {
    "collapsed": false,
    "scrolled": true
   },
   "outputs": [
    {
     "data": {
      "text/html": [
       "<div>\n",
       "<table border=\"1\" class=\"dataframe\">\n",
       "  <thead>\n",
       "    <tr style=\"text-align: right;\">\n",
       "      <th></th>\n",
       "      <th>team_id</th>\n",
       "      <th>year</th>\n",
       "      <th>era</th>\n",
       "    </tr>\n",
       "  </thead>\n",
       "  <tbody>\n",
       "    <tr>\n",
       "      <th>0</th>\n",
       "      <td>ANA</td>\n",
       "      <td>2000</td>\n",
       "      <td>5.384400</td>\n",
       "    </tr>\n",
       "    <tr>\n",
       "      <th>1</th>\n",
       "      <td>ANA</td>\n",
       "      <td>2001</td>\n",
       "      <td>4.181667</td>\n",
       "    </tr>\n",
       "    <tr>\n",
       "      <th>2</th>\n",
       "      <td>ANA</td>\n",
       "      <td>2002</td>\n",
       "      <td>3.425556</td>\n",
       "    </tr>\n",
       "    <tr>\n",
       "      <th>3</th>\n",
       "      <td>ANA</td>\n",
       "      <td>2003</td>\n",
       "      <td>4.938421</td>\n",
       "    </tr>\n",
       "    <tr>\n",
       "      <th>4</th>\n",
       "      <td>ANA</td>\n",
       "      <td>2004</td>\n",
       "      <td>4.901875</td>\n",
       "    </tr>\n",
       "  </tbody>\n",
       "</table>\n",
       "</div>"
      ],
      "text/plain": [
       "  team_id  year       era\n",
       "0     ANA  2000  5.384400\n",
       "1     ANA  2001  4.181667\n",
       "2     ANA  2002  3.425556\n",
       "3     ANA  2003  4.938421\n",
       "4     ANA  2004  4.901875"
      ]
     },
     "execution_count": 12,
     "metadata": {},
     "output_type": "execute_result"
    }
   ],
   "source": [
    "group_pitching_last_decade = pitching_last_decade.groupby(['team_id','year'],as_index=False)['era'].aggregate('mean')\n",
    "group_pitching_last_decade.head()"
   ]
  },
  {
   "cell_type": "markdown",
   "metadata": {},
   "source": [
    "The above dataframe contains the average ERA per pitcher by team and year in the regular season."
   ]
  },
  {
   "cell_type": "code",
   "execution_count": 13,
   "metadata": {
    "collapsed": false
   },
   "outputs": [
    {
     "data": {
      "text/html": [
       "<div>\n",
       "<table border=\"1\" class=\"dataframe\">\n",
       "  <thead>\n",
       "    <tr style=\"text-align: right;\">\n",
       "      <th></th>\n",
       "      <th>team_id</th>\n",
       "      <th>year</th>\n",
       "      <th>era</th>\n",
       "    </tr>\n",
       "  </thead>\n",
       "  <tbody>\n",
       "    <tr>\n",
       "      <th>0</th>\n",
       "      <td>ANA</td>\n",
       "      <td>2002</td>\n",
       "      <td>5.655000</td>\n",
       "    </tr>\n",
       "    <tr>\n",
       "      <th>1</th>\n",
       "      <td>ANA</td>\n",
       "      <td>2004</td>\n",
       "      <td>5.394286</td>\n",
       "    </tr>\n",
       "    <tr>\n",
       "      <th>2</th>\n",
       "      <td>ARI</td>\n",
       "      <td>2001</td>\n",
       "      <td>5.511250</td>\n",
       "    </tr>\n",
       "    <tr>\n",
       "      <th>3</th>\n",
       "      <td>ARI</td>\n",
       "      <td>2002</td>\n",
       "      <td>10.817778</td>\n",
       "    </tr>\n",
       "    <tr>\n",
       "      <th>4</th>\n",
       "      <td>ARI</td>\n",
       "      <td>2007</td>\n",
       "      <td>1.976471</td>\n",
       "    </tr>\n",
       "  </tbody>\n",
       "</table>\n",
       "</div>"
      ],
      "text/plain": [
       "  team_id  year        era\n",
       "0     ANA  2002   5.655000\n",
       "1     ANA  2004   5.394286\n",
       "2     ARI  2001   5.511250\n",
       "3     ARI  2002  10.817778\n",
       "4     ARI  2007   1.976471"
      ]
     },
     "execution_count": 13,
     "metadata": {},
     "output_type": "execute_result"
    }
   ],
   "source": [
    "group_pitching_post_last_decade = pitching_post_last_decade.groupby(['team_id','year'],as_index=False)['era'].aggregate('mean')\n",
    "group_pitching_post_last_decade.head()"
   ]
  },
  {
   "cell_type": "markdown",
   "metadata": {},
   "source": [
    "The above dataframe containts the average ERA per pitcher by team and year in the postseason."
   ]
  },
  {
   "cell_type": "markdown",
   "metadata": {},
   "source": [
    "## Batting"
   ]
  },
  {
   "cell_type": "code",
   "execution_count": 14,
   "metadata": {
    "collapsed": false
   },
   "outputs": [
    {
     "data": {
      "text/html": [
       "<div>\n",
       "<table border=\"1\" class=\"dataframe\">\n",
       "  <thead>\n",
       "    <tr style=\"text-align: right;\">\n",
       "      <th></th>\n",
       "      <th>player_id</th>\n",
       "      <th>year</th>\n",
       "      <th>team_id</th>\n",
       "      <th>ba</th>\n",
       "    </tr>\n",
       "  </thead>\n",
       "  <tbody>\n",
       "    <tr>\n",
       "      <th>79248</th>\n",
       "      <td>abbotje01</td>\n",
       "      <td>2000</td>\n",
       "      <td>CHA</td>\n",
       "      <td>0.274419</td>\n",
       "    </tr>\n",
       "    <tr>\n",
       "      <th>79249</th>\n",
       "      <td>abbotku01</td>\n",
       "      <td>2000</td>\n",
       "      <td>NYN</td>\n",
       "      <td>0.216561</td>\n",
       "    </tr>\n",
       "    <tr>\n",
       "      <th>79250</th>\n",
       "      <td>abbotpa01</td>\n",
       "      <td>2000</td>\n",
       "      <td>SEA</td>\n",
       "      <td>0.400000</td>\n",
       "    </tr>\n",
       "    <tr>\n",
       "      <th>79251</th>\n",
       "      <td>abreubo01</td>\n",
       "      <td>2000</td>\n",
       "      <td>PHI</td>\n",
       "      <td>0.315972</td>\n",
       "    </tr>\n",
       "    <tr>\n",
       "      <th>79252</th>\n",
       "      <td>aceveju01</td>\n",
       "      <td>2000</td>\n",
       "      <td>MIL</td>\n",
       "      <td>0.000000</td>\n",
       "    </tr>\n",
       "  </tbody>\n",
       "</table>\n",
       "</div>"
      ],
      "text/plain": [
       "       player_id  year team_id        ba\n",
       "79248  abbotje01  2000     CHA  0.274419\n",
       "79249  abbotku01  2000     NYN  0.216561\n",
       "79250  abbotpa01  2000     SEA  0.400000\n",
       "79251  abreubo01  2000     PHI  0.315972\n",
       "79252  aceveju01  2000     MIL  0.000000"
      ]
     },
     "execution_count": 14,
     "metadata": {},
     "output_type": "execute_result"
    }
   ],
   "source": [
    "batting_last_decade.head()"
   ]
  },
  {
   "cell_type": "code",
   "execution_count": 15,
   "metadata": {
    "collapsed": false
   },
   "outputs": [
    {
     "data": {
      "text/html": [
       "<div>\n",
       "<table border=\"1\" class=\"dataframe\">\n",
       "  <thead>\n",
       "    <tr style=\"text-align: right;\">\n",
       "      <th></th>\n",
       "      <th>year</th>\n",
       "      <th>round</th>\n",
       "      <th>player_id</th>\n",
       "      <th>team_id</th>\n",
       "      <th>ba</th>\n",
       "    </tr>\n",
       "  </thead>\n",
       "  <tbody>\n",
       "    <tr>\n",
       "      <th>6982</th>\n",
       "      <td>2000</td>\n",
       "      <td>ALCS</td>\n",
       "      <td>bellda01</td>\n",
       "      <td>SEA</td>\n",
       "      <td>0.222222</td>\n",
       "    </tr>\n",
       "    <tr>\n",
       "      <th>6984</th>\n",
       "      <td>2000</td>\n",
       "      <td>ALCS</td>\n",
       "      <td>brosisc01</td>\n",
       "      <td>NYA</td>\n",
       "      <td>0.222222</td>\n",
       "    </tr>\n",
       "    <tr>\n",
       "      <th>6985</th>\n",
       "      <td>2000</td>\n",
       "      <td>ALCS</td>\n",
       "      <td>buhneja01</td>\n",
       "      <td>SEA</td>\n",
       "      <td>0.181818</td>\n",
       "    </tr>\n",
       "    <tr>\n",
       "      <th>6986</th>\n",
       "      <td>2000</td>\n",
       "      <td>ALCS</td>\n",
       "      <td>camermi01</td>\n",
       "      <td>SEA</td>\n",
       "      <td>0.111111</td>\n",
       "    </tr>\n",
       "    <tr>\n",
       "      <th>6988</th>\n",
       "      <td>2000</td>\n",
       "      <td>ALCS</td>\n",
       "      <td>guillca01</td>\n",
       "      <td>SEA</td>\n",
       "      <td>0.200000</td>\n",
       "    </tr>\n",
       "  </tbody>\n",
       "</table>\n",
       "</div>"
      ],
      "text/plain": [
       "      year round  player_id team_id        ba\n",
       "6982  2000  ALCS   bellda01     SEA  0.222222\n",
       "6984  2000  ALCS  brosisc01     NYA  0.222222\n",
       "6985  2000  ALCS  buhneja01     SEA  0.181818\n",
       "6986  2000  ALCS  camermi01     SEA  0.111111\n",
       "6988  2000  ALCS  guillca01     SEA  0.200000"
      ]
     },
     "execution_count": 15,
     "metadata": {},
     "output_type": "execute_result"
    }
   ],
   "source": [
    "batting_post_last_decade.head()"
   ]
  },
  {
   "cell_type": "code",
   "execution_count": 16,
   "metadata": {
    "collapsed": false,
    "scrolled": true
   },
   "outputs": [
    {
     "data": {
      "text/html": [
       "<div>\n",
       "<table border=\"1\" class=\"dataframe\">\n",
       "  <thead>\n",
       "    <tr style=\"text-align: right;\">\n",
       "      <th></th>\n",
       "      <th>team_id</th>\n",
       "      <th>year</th>\n",
       "      <th>ba</th>\n",
       "    </tr>\n",
       "  </thead>\n",
       "  <tbody>\n",
       "    <tr>\n",
       "      <th>0</th>\n",
       "      <td>ANA</td>\n",
       "      <td>2000</td>\n",
       "      <td>0.271819</td>\n",
       "    </tr>\n",
       "    <tr>\n",
       "      <th>1</th>\n",
       "      <td>ANA</td>\n",
       "      <td>2001</td>\n",
       "      <td>0.227313</td>\n",
       "    </tr>\n",
       "    <tr>\n",
       "      <th>2</th>\n",
       "      <td>ANA</td>\n",
       "      <td>2002</td>\n",
       "      <td>0.233663</td>\n",
       "    </tr>\n",
       "    <tr>\n",
       "      <th>3</th>\n",
       "      <td>ANA</td>\n",
       "      <td>2003</td>\n",
       "      <td>0.220090</td>\n",
       "    </tr>\n",
       "    <tr>\n",
       "      <th>4</th>\n",
       "      <td>ANA</td>\n",
       "      <td>2004</td>\n",
       "      <td>0.195324</td>\n",
       "    </tr>\n",
       "  </tbody>\n",
       "</table>\n",
       "</div>"
      ],
      "text/plain": [
       "  team_id  year        ba\n",
       "0     ANA  2000  0.271819\n",
       "1     ANA  2001  0.227313\n",
       "2     ANA  2002  0.233663\n",
       "3     ANA  2003  0.220090\n",
       "4     ANA  2004  0.195324"
      ]
     },
     "execution_count": 16,
     "metadata": {},
     "output_type": "execute_result"
    }
   ],
   "source": [
    "group_batting_last_decade = batting_last_decade.groupby(['team_id','year'],as_index=False)['ba'].aggregate('mean')\n",
    "group_batting_last_decade.head()"
   ]
  },
  {
   "cell_type": "markdown",
   "metadata": {},
   "source": [
    "The above dataframe contains the  Batting Average per team by team and year during the regular season."
   ]
  },
  {
   "cell_type": "code",
   "execution_count": 17,
   "metadata": {
    "collapsed": false
   },
   "outputs": [
    {
     "data": {
      "text/html": [
       "<div>\n",
       "<table border=\"1\" class=\"dataframe\">\n",
       "  <thead>\n",
       "    <tr style=\"text-align: right;\">\n",
       "      <th></th>\n",
       "      <th>team_id</th>\n",
       "      <th>year</th>\n",
       "      <th>ba</th>\n",
       "    </tr>\n",
       "  </thead>\n",
       "  <tbody>\n",
       "    <tr>\n",
       "      <th>0</th>\n",
       "      <td>ANA</td>\n",
       "      <td>2002</td>\n",
       "      <td>0.316314</td>\n",
       "    </tr>\n",
       "    <tr>\n",
       "      <th>1</th>\n",
       "      <td>ANA</td>\n",
       "      <td>2004</td>\n",
       "      <td>0.176532</td>\n",
       "    </tr>\n",
       "    <tr>\n",
       "      <th>2</th>\n",
       "      <td>ARI</td>\n",
       "      <td>2001</td>\n",
       "      <td>0.202463</td>\n",
       "    </tr>\n",
       "    <tr>\n",
       "      <th>3</th>\n",
       "      <td>ARI</td>\n",
       "      <td>2002</td>\n",
       "      <td>0.156623</td>\n",
       "    </tr>\n",
       "    <tr>\n",
       "      <th>4</th>\n",
       "      <td>ARI</td>\n",
       "      <td>2007</td>\n",
       "      <td>0.259489</td>\n",
       "    </tr>\n",
       "  </tbody>\n",
       "</table>\n",
       "</div>"
      ],
      "text/plain": [
       "  team_id  year        ba\n",
       "0     ANA  2002  0.316314\n",
       "1     ANA  2004  0.176532\n",
       "2     ARI  2001  0.202463\n",
       "3     ARI  2002  0.156623\n",
       "4     ARI  2007  0.259489"
      ]
     },
     "execution_count": 17,
     "metadata": {},
     "output_type": "execute_result"
    }
   ],
   "source": [
    "group_batting_post_last_decade = batting_post_last_decade.groupby(['team_id','year'],as_index=False)['ba'].aggregate('mean')\n",
    "group_batting_post_last_decade.head()"
   ]
  },
  {
   "cell_type": "markdown",
   "metadata": {},
   "source": [
    "The above dataframe contains the Batting Average per player by team and year during the postseason."
   ]
  },
  {
   "cell_type": "markdown",
   "metadata": {},
   "source": [
    "## Fielding"
   ]
  },
  {
   "cell_type": "code",
   "execution_count": 18,
   "metadata": {
    "collapsed": false
   },
   "outputs": [
    {
     "data": {
      "text/html": [
       "<div>\n",
       "<table border=\"1\" class=\"dataframe\">\n",
       "  <thead>\n",
       "    <tr style=\"text-align: right;\">\n",
       "      <th></th>\n",
       "      <th>player_id</th>\n",
       "      <th>year</th>\n",
       "      <th>team_id</th>\n",
       "      <th>league_id</th>\n",
       "      <th>e</th>\n",
       "    </tr>\n",
       "  </thead>\n",
       "  <tbody>\n",
       "    <tr>\n",
       "      <th>132441</th>\n",
       "      <td>abbotje01</td>\n",
       "      <td>2000</td>\n",
       "      <td>CHA</td>\n",
       "      <td>AL</td>\n",
       "      <td>2.0</td>\n",
       "    </tr>\n",
       "    <tr>\n",
       "      <th>132443</th>\n",
       "      <td>abbotku01</td>\n",
       "      <td>2000</td>\n",
       "      <td>NYN</td>\n",
       "      <td>NL</td>\n",
       "      <td>1.0</td>\n",
       "    </tr>\n",
       "    <tr>\n",
       "      <th>132444</th>\n",
       "      <td>abbotku01</td>\n",
       "      <td>2000</td>\n",
       "      <td>NYN</td>\n",
       "      <td>NL</td>\n",
       "      <td>0.0</td>\n",
       "    </tr>\n",
       "    <tr>\n",
       "      <th>132446</th>\n",
       "      <td>abbotku01</td>\n",
       "      <td>2000</td>\n",
       "      <td>NYN</td>\n",
       "      <td>NL</td>\n",
       "      <td>0.0</td>\n",
       "    </tr>\n",
       "    <tr>\n",
       "      <th>132447</th>\n",
       "      <td>abbotku01</td>\n",
       "      <td>2000</td>\n",
       "      <td>NYN</td>\n",
       "      <td>NL</td>\n",
       "      <td>6.0</td>\n",
       "    </tr>\n",
       "  </tbody>\n",
       "</table>\n",
       "</div>"
      ],
      "text/plain": [
       "        player_id  year team_id league_id    e\n",
       "132441  abbotje01  2000     CHA        AL  2.0\n",
       "132443  abbotku01  2000     NYN        NL  1.0\n",
       "132444  abbotku01  2000     NYN        NL  0.0\n",
       "132446  abbotku01  2000     NYN        NL  0.0\n",
       "132447  abbotku01  2000     NYN        NL  6.0"
      ]
     },
     "execution_count": 18,
     "metadata": {},
     "output_type": "execute_result"
    }
   ],
   "source": [
    "fielding_last_decade.head()"
   ]
  },
  {
   "cell_type": "code",
   "execution_count": 19,
   "metadata": {
    "collapsed": false
   },
   "outputs": [
    {
     "data": {
      "text/html": [
       "<div>\n",
       "<table border=\"1\" class=\"dataframe\">\n",
       "  <thead>\n",
       "    <tr style=\"text-align: right;\">\n",
       "      <th></th>\n",
       "      <th>player_id</th>\n",
       "      <th>year</th>\n",
       "      <th>team_id</th>\n",
       "      <th>league_id</th>\n",
       "      <th>round</th>\n",
       "      <th>g</th>\n",
       "      <th>e</th>\n",
       "    </tr>\n",
       "  </thead>\n",
       "  <tbody>\n",
       "    <tr>\n",
       "      <th>7068</th>\n",
       "      <td>bellicl01</td>\n",
       "      <td>2000</td>\n",
       "      <td>NYA</td>\n",
       "      <td>AL</td>\n",
       "      <td>ALCS</td>\n",
       "      <td>5</td>\n",
       "      <td>0</td>\n",
       "    </tr>\n",
       "    <tr>\n",
       "      <th>7069</th>\n",
       "      <td>brosisc01</td>\n",
       "      <td>2000</td>\n",
       "      <td>NYA</td>\n",
       "      <td>AL</td>\n",
       "      <td>ALCS</td>\n",
       "      <td>6</td>\n",
       "      <td>1</td>\n",
       "    </tr>\n",
       "    <tr>\n",
       "      <th>7070</th>\n",
       "      <td>choatra01</td>\n",
       "      <td>2000</td>\n",
       "      <td>NYA</td>\n",
       "      <td>AL</td>\n",
       "      <td>ALCS</td>\n",
       "      <td>1</td>\n",
       "      <td>0</td>\n",
       "    </tr>\n",
       "    <tr>\n",
       "      <th>7071</th>\n",
       "      <td>clemero02</td>\n",
       "      <td>2000</td>\n",
       "      <td>NYA</td>\n",
       "      <td>AL</td>\n",
       "      <td>ALCS</td>\n",
       "      <td>1</td>\n",
       "      <td>0</td>\n",
       "    </tr>\n",
       "    <tr>\n",
       "      <th>7072</th>\n",
       "      <td>coneda01</td>\n",
       "      <td>2000</td>\n",
       "      <td>NYA</td>\n",
       "      <td>AL</td>\n",
       "      <td>ALCS</td>\n",
       "      <td>1</td>\n",
       "      <td>0</td>\n",
       "    </tr>\n",
       "  </tbody>\n",
       "</table>\n",
       "</div>"
      ],
      "text/plain": [
       "      player_id  year team_id league_id round  g  e\n",
       "7068  bellicl01  2000     NYA        AL  ALCS  5  0\n",
       "7069  brosisc01  2000     NYA        AL  ALCS  6  1\n",
       "7070  choatra01  2000     NYA        AL  ALCS  1  0\n",
       "7071  clemero02  2000     NYA        AL  ALCS  1  0\n",
       "7072   coneda01  2000     NYA        AL  ALCS  1  0"
      ]
     },
     "execution_count": 19,
     "metadata": {},
     "output_type": "execute_result"
    }
   ],
   "source": [
    "fielding_post_last_decade.head()"
   ]
  },
  {
   "cell_type": "code",
   "execution_count": 20,
   "metadata": {
    "collapsed": false
   },
   "outputs": [
    {
     "data": {
      "text/html": [
       "<div>\n",
       "<table border=\"1\" class=\"dataframe\">\n",
       "  <thead>\n",
       "    <tr style=\"text-align: right;\">\n",
       "      <th></th>\n",
       "      <th>team_id</th>\n",
       "      <th>year</th>\n",
       "      <th>e</th>\n",
       "    </tr>\n",
       "  </thead>\n",
       "  <tbody>\n",
       "    <tr>\n",
       "      <th>0</th>\n",
       "      <td>ANA</td>\n",
       "      <td>2000</td>\n",
       "      <td>2.310345</td>\n",
       "    </tr>\n",
       "    <tr>\n",
       "      <th>1</th>\n",
       "      <td>ANA</td>\n",
       "      <td>2001</td>\n",
       "      <td>1.943396</td>\n",
       "    </tr>\n",
       "    <tr>\n",
       "      <th>2</th>\n",
       "      <td>ANA</td>\n",
       "      <td>2002</td>\n",
       "      <td>1.611111</td>\n",
       "    </tr>\n",
       "    <tr>\n",
       "      <th>3</th>\n",
       "      <td>ANA</td>\n",
       "      <td>2003</td>\n",
       "      <td>1.750000</td>\n",
       "    </tr>\n",
       "    <tr>\n",
       "      <th>4</th>\n",
       "      <td>ANA</td>\n",
       "      <td>2004</td>\n",
       "      <td>1.730769</td>\n",
       "    </tr>\n",
       "  </tbody>\n",
       "</table>\n",
       "</div>"
      ],
      "text/plain": [
       "  team_id  year         e\n",
       "0     ANA  2000  2.310345\n",
       "1     ANA  2001  1.943396\n",
       "2     ANA  2002  1.611111\n",
       "3     ANA  2003  1.750000\n",
       "4     ANA  2004  1.730769"
      ]
     },
     "execution_count": 20,
     "metadata": {},
     "output_type": "execute_result"
    }
   ],
   "source": [
    "group_fielding_last_decade = fielding_last_decade.groupby(['team_id','year'],as_index=False)['e'].aggregate('mean')\n",
    "group_fielding_last_decade.head()"
   ]
  },
  {
   "cell_type": "markdown",
   "metadata": {},
   "source": [
    "The above dataframe contains the average number of errors per player by team and year during the regular season. "
   ]
  },
  {
   "cell_type": "code",
   "execution_count": 21,
   "metadata": {
    "collapsed": false
   },
   "outputs": [
    {
     "data": {
      "text/html": [
       "<div>\n",
       "<table border=\"1\" class=\"dataframe\">\n",
       "  <thead>\n",
       "    <tr style=\"text-align: right;\">\n",
       "      <th></th>\n",
       "      <th>team_id</th>\n",
       "      <th>year</th>\n",
       "      <th>e</th>\n",
       "    </tr>\n",
       "  </thead>\n",
       "  <tbody>\n",
       "    <tr>\n",
       "      <th>0</th>\n",
       "      <td>ANA</td>\n",
       "      <td>2002</td>\n",
       "      <td>0.145161</td>\n",
       "    </tr>\n",
       "    <tr>\n",
       "      <th>1</th>\n",
       "      <td>ANA</td>\n",
       "      <td>2004</td>\n",
       "      <td>0.150000</td>\n",
       "    </tr>\n",
       "    <tr>\n",
       "      <th>2</th>\n",
       "      <td>ARI</td>\n",
       "      <td>2001</td>\n",
       "      <td>0.149254</td>\n",
       "    </tr>\n",
       "    <tr>\n",
       "      <th>3</th>\n",
       "      <td>ARI</td>\n",
       "      <td>2002</td>\n",
       "      <td>0.083333</td>\n",
       "    </tr>\n",
       "    <tr>\n",
       "      <th>4</th>\n",
       "      <td>ARI</td>\n",
       "      <td>2007</td>\n",
       "      <td>0.150000</td>\n",
       "    </tr>\n",
       "  </tbody>\n",
       "</table>\n",
       "</div>"
      ],
      "text/plain": [
       "  team_id  year         e\n",
       "0     ANA  2002  0.145161\n",
       "1     ANA  2004  0.150000\n",
       "2     ARI  2001  0.149254\n",
       "3     ARI  2002  0.083333\n",
       "4     ARI  2007  0.150000"
      ]
     },
     "execution_count": 21,
     "metadata": {},
     "output_type": "execute_result"
    }
   ],
   "source": [
    "group_fielding_post_last_decade = fielding_post_last_decade.groupby(['team_id','year'],as_index=False)['e'].aggregate('mean')\n",
    "group_fielding_post_last_decade.head()"
   ]
  },
  {
   "cell_type": "markdown",
   "metadata": {},
   "source": [
    "The above dataframe contains the average number of errors per player by team and year during the postseason."
   ]
  },
  {
   "cell_type": "markdown",
   "metadata": {},
   "source": [
    "## Merging"
   ]
  },
  {
   "cell_type": "code",
   "execution_count": 22,
   "metadata": {
    "collapsed": false
   },
   "outputs": [],
   "source": [
    "a = pd.merge(group_fielding_last_decade,group_batting_last_decade)"
   ]
  },
  {
   "cell_type": "code",
   "execution_count": 23,
   "metadata": {
    "collapsed": false
   },
   "outputs": [
    {
     "data": {
      "text/html": [
       "<div>\n",
       "<table border=\"1\" class=\"dataframe\">\n",
       "  <thead>\n",
       "    <tr style=\"text-align: right;\">\n",
       "      <th></th>\n",
       "      <th>team_id</th>\n",
       "      <th>year</th>\n",
       "      <th>e</th>\n",
       "      <th>ba</th>\n",
       "      <th>era</th>\n",
       "    </tr>\n",
       "  </thead>\n",
       "  <tbody>\n",
       "    <tr>\n",
       "      <th>0</th>\n",
       "      <td>ANA</td>\n",
       "      <td>2000</td>\n",
       "      <td>2.310345</td>\n",
       "      <td>0.271819</td>\n",
       "      <td>5.384400</td>\n",
       "    </tr>\n",
       "    <tr>\n",
       "      <th>1</th>\n",
       "      <td>ANA</td>\n",
       "      <td>2001</td>\n",
       "      <td>1.943396</td>\n",
       "      <td>0.227313</td>\n",
       "      <td>4.181667</td>\n",
       "    </tr>\n",
       "    <tr>\n",
       "      <th>2</th>\n",
       "      <td>ANA</td>\n",
       "      <td>2002</td>\n",
       "      <td>1.611111</td>\n",
       "      <td>0.233663</td>\n",
       "      <td>3.425556</td>\n",
       "    </tr>\n",
       "    <tr>\n",
       "      <th>3</th>\n",
       "      <td>ANA</td>\n",
       "      <td>2003</td>\n",
       "      <td>1.750000</td>\n",
       "      <td>0.220090</td>\n",
       "      <td>4.938421</td>\n",
       "    </tr>\n",
       "    <tr>\n",
       "      <th>4</th>\n",
       "      <td>ANA</td>\n",
       "      <td>2004</td>\n",
       "      <td>1.730769</td>\n",
       "      <td>0.195324</td>\n",
       "      <td>4.901875</td>\n",
       "    </tr>\n",
       "  </tbody>\n",
       "</table>\n",
       "</div>"
      ],
      "text/plain": [
       "  team_id  year         e        ba       era\n",
       "0     ANA  2000  2.310345  0.271819  5.384400\n",
       "1     ANA  2001  1.943396  0.227313  4.181667\n",
       "2     ANA  2002  1.611111  0.233663  3.425556\n",
       "3     ANA  2003  1.750000  0.220090  4.938421\n",
       "4     ANA  2004  1.730769  0.195324  4.901875"
      ]
     },
     "execution_count": 23,
     "metadata": {},
     "output_type": "execute_result"
    }
   ],
   "source": [
    "b = pd.merge(a,group_pitching_last_decade)\n",
    "b.head()"
   ]
  },
  {
   "cell_type": "code",
   "execution_count": 24,
   "metadata": {
    "collapsed": false
   },
   "outputs": [
    {
     "data": {
      "text/html": [
       "<div>\n",
       "<table border=\"1\" class=\"dataframe\">\n",
       "  <thead>\n",
       "    <tr style=\"text-align: right;\">\n",
       "      <th></th>\n",
       "      <th>year</th>\n",
       "      <th>team_id</th>\n",
       "      <th>div_id</th>\n",
       "      <th>rank</th>\n",
       "      <th>g</th>\n",
       "      <th>w</th>\n",
       "      <th>ws_win</th>\n",
       "      <th>name</th>\n",
       "    </tr>\n",
       "  </thead>\n",
       "  <tbody>\n",
       "    <tr>\n",
       "      <th>2325</th>\n",
       "      <td>2000</td>\n",
       "      <td>ANA</td>\n",
       "      <td>W</td>\n",
       "      <td>3</td>\n",
       "      <td>162</td>\n",
       "      <td>82</td>\n",
       "      <td>N</td>\n",
       "      <td>Anaheim Angels</td>\n",
       "    </tr>\n",
       "    <tr>\n",
       "      <th>2326</th>\n",
       "      <td>2000</td>\n",
       "      <td>ARI</td>\n",
       "      <td>W</td>\n",
       "      <td>3</td>\n",
       "      <td>162</td>\n",
       "      <td>85</td>\n",
       "      <td>N</td>\n",
       "      <td>Arizona Diamondbacks</td>\n",
       "    </tr>\n",
       "    <tr>\n",
       "      <th>2327</th>\n",
       "      <td>2000</td>\n",
       "      <td>ATL</td>\n",
       "      <td>E</td>\n",
       "      <td>1</td>\n",
       "      <td>162</td>\n",
       "      <td>95</td>\n",
       "      <td>N</td>\n",
       "      <td>Atlanta Braves</td>\n",
       "    </tr>\n",
       "    <tr>\n",
       "      <th>2328</th>\n",
       "      <td>2000</td>\n",
       "      <td>BAL</td>\n",
       "      <td>E</td>\n",
       "      <td>4</td>\n",
       "      <td>162</td>\n",
       "      <td>74</td>\n",
       "      <td>N</td>\n",
       "      <td>Baltimore Orioles</td>\n",
       "    </tr>\n",
       "    <tr>\n",
       "      <th>2329</th>\n",
       "      <td>2000</td>\n",
       "      <td>BOS</td>\n",
       "      <td>E</td>\n",
       "      <td>2</td>\n",
       "      <td>162</td>\n",
       "      <td>85</td>\n",
       "      <td>N</td>\n",
       "      <td>Boston Red Sox</td>\n",
       "    </tr>\n",
       "  </tbody>\n",
       "</table>\n",
       "</div>"
      ],
      "text/plain": [
       "      year team_id div_id  rank    g   w ws_win                  name\n",
       "2325  2000     ANA      W     3  162  82      N        Anaheim Angels\n",
       "2326  2000     ARI      W     3  162  85      N  Arizona Diamondbacks\n",
       "2327  2000     ATL      E     1  162  95      N        Atlanta Braves\n",
       "2328  2000     BAL      E     4  162  74      N     Baltimore Orioles\n",
       "2329  2000     BOS      E     2  162  85      N        Boston Red Sox"
      ]
     },
     "execution_count": 24,
     "metadata": {},
     "output_type": "execute_result"
    }
   ],
   "source": [
    "team_last_decade.head()"
   ]
  },
  {
   "cell_type": "code",
   "execution_count": 25,
   "metadata": {
    "collapsed": false
   },
   "outputs": [
    {
     "data": {
      "text/html": [
       "<div>\n",
       "<table border=\"1\" class=\"dataframe\">\n",
       "  <thead>\n",
       "    <tr style=\"text-align: right;\">\n",
       "      <th></th>\n",
       "      <th>year</th>\n",
       "      <th>team_id</th>\n",
       "      <th>div_id</th>\n",
       "      <th>rank</th>\n",
       "      <th>g</th>\n",
       "      <th>w</th>\n",
       "      <th>ws_win</th>\n",
       "      <th>name</th>\n",
       "      <th>e</th>\n",
       "      <th>ba</th>\n",
       "      <th>era</th>\n",
       "    </tr>\n",
       "  </thead>\n",
       "  <tbody>\n",
       "    <tr>\n",
       "      <th>0</th>\n",
       "      <td>2000</td>\n",
       "      <td>ANA</td>\n",
       "      <td>W</td>\n",
       "      <td>3</td>\n",
       "      <td>162</td>\n",
       "      <td>82</td>\n",
       "      <td>N</td>\n",
       "      <td>Anaheim Angels</td>\n",
       "      <td>2.310345</td>\n",
       "      <td>0.271819</td>\n",
       "      <td>5.384400</td>\n",
       "    </tr>\n",
       "    <tr>\n",
       "      <th>1</th>\n",
       "      <td>2000</td>\n",
       "      <td>ARI</td>\n",
       "      <td>W</td>\n",
       "      <td>3</td>\n",
       "      <td>162</td>\n",
       "      <td>85</td>\n",
       "      <td>N</td>\n",
       "      <td>Arizona Diamondbacks</td>\n",
       "      <td>1.945455</td>\n",
       "      <td>0.247616</td>\n",
       "      <td>5.310000</td>\n",
       "    </tr>\n",
       "    <tr>\n",
       "      <th>2</th>\n",
       "      <td>2000</td>\n",
       "      <td>ATL</td>\n",
       "      <td>E</td>\n",
       "      <td>1</td>\n",
       "      <td>162</td>\n",
       "      <td>95</td>\n",
       "      <td>N</td>\n",
       "      <td>Atlanta Braves</td>\n",
       "      <td>2.388889</td>\n",
       "      <td>0.184948</td>\n",
       "      <td>5.575909</td>\n",
       "    </tr>\n",
       "    <tr>\n",
       "      <th>3</th>\n",
       "      <td>2000</td>\n",
       "      <td>BAL</td>\n",
       "      <td>E</td>\n",
       "      <td>4</td>\n",
       "      <td>162</td>\n",
       "      <td>74</td>\n",
       "      <td>N</td>\n",
       "      <td>Baltimore Orioles</td>\n",
       "      <td>1.966102</td>\n",
       "      <td>0.202421</td>\n",
       "      <td>6.768636</td>\n",
       "    </tr>\n",
       "    <tr>\n",
       "      <th>4</th>\n",
       "      <td>2000</td>\n",
       "      <td>BOS</td>\n",
       "      <td>E</td>\n",
       "      <td>2</td>\n",
       "      <td>162</td>\n",
       "      <td>85</td>\n",
       "      <td>N</td>\n",
       "      <td>Boston Red Sox</td>\n",
       "      <td>1.651515</td>\n",
       "      <td>0.207478</td>\n",
       "      <td>5.046667</td>\n",
       "    </tr>\n",
       "  </tbody>\n",
       "</table>\n",
       "</div>"
      ],
      "text/plain": [
       "   year team_id div_id  rank    g   w ws_win                  name         e  \\\n",
       "0  2000     ANA      W     3  162  82      N        Anaheim Angels  2.310345   \n",
       "1  2000     ARI      W     3  162  85      N  Arizona Diamondbacks  1.945455   \n",
       "2  2000     ATL      E     1  162  95      N        Atlanta Braves  2.388889   \n",
       "3  2000     BAL      E     4  162  74      N     Baltimore Orioles  1.966102   \n",
       "4  2000     BOS      E     2  162  85      N        Boston Red Sox  1.651515   \n",
       "\n",
       "         ba       era  \n",
       "0  0.271819  5.384400  \n",
       "1  0.247616  5.310000  \n",
       "2  0.184948  5.575909  \n",
       "3  0.202421  6.768636  \n",
       "4  0.207478  5.046667  "
      ]
     },
     "execution_count": 25,
     "metadata": {},
     "output_type": "execute_result"
    }
   ],
   "source": [
    "grouped = pd.merge(team_last_decade, b)\n",
    "grouped.head()"
   ]
  },
  {
   "cell_type": "markdown",
   "metadata": {},
   "source": [
    "The above dataframe has combined all the dataframes we needed, grouped by team and year to analyze performance during the regular season. "
   ]
  },
  {
   "cell_type": "code",
   "execution_count": 26,
   "metadata": {
    "collapsed": true
   },
   "outputs": [],
   "source": [
    "grouped.to_pickle('grouped')"
   ]
  },
  {
   "cell_type": "code",
   "execution_count": 27,
   "metadata": {
    "collapsed": false
   },
   "outputs": [],
   "source": [
    "c = pd.merge(group_fielding_post_last_decade,group_batting_post_last_decade)"
   ]
  },
  {
   "cell_type": "code",
   "execution_count": 28,
   "metadata": {
    "collapsed": true
   },
   "outputs": [],
   "source": [
    "d = pd.merge(c,group_pitching_post_last_decade)"
   ]
  },
  {
   "cell_type": "code",
   "execution_count": 29,
   "metadata": {
    "collapsed": false
   },
   "outputs": [
    {
     "data": {
      "text/html": [
       "<div>\n",
       "<table border=\"1\" class=\"dataframe\">\n",
       "  <thead>\n",
       "    <tr style=\"text-align: right;\">\n",
       "      <th></th>\n",
       "      <th>year</th>\n",
       "      <th>team_id</th>\n",
       "      <th>div_id</th>\n",
       "      <th>rank</th>\n",
       "      <th>g</th>\n",
       "      <th>w</th>\n",
       "      <th>ws_win</th>\n",
       "      <th>name</th>\n",
       "      <th>e</th>\n",
       "      <th>ba</th>\n",
       "      <th>era</th>\n",
       "    </tr>\n",
       "  </thead>\n",
       "  <tbody>\n",
       "    <tr>\n",
       "      <th>0</th>\n",
       "      <td>2000</td>\n",
       "      <td>ATL</td>\n",
       "      <td>E</td>\n",
       "      <td>1</td>\n",
       "      <td>162</td>\n",
       "      <td>95</td>\n",
       "      <td>N</td>\n",
       "      <td>Atlanta Braves</td>\n",
       "      <td>0.238095</td>\n",
       "      <td>0.175931</td>\n",
       "      <td>7.628889</td>\n",
       "    </tr>\n",
       "    <tr>\n",
       "      <th>1</th>\n",
       "      <td>2000</td>\n",
       "      <td>CHA</td>\n",
       "      <td>C</td>\n",
       "      <td>1</td>\n",
       "      <td>162</td>\n",
       "      <td>95</td>\n",
       "      <td>N</td>\n",
       "      <td>Chicago White Sox</td>\n",
       "      <td>0.086957</td>\n",
       "      <td>0.173783</td>\n",
       "      <td>3.856667</td>\n",
       "    </tr>\n",
       "    <tr>\n",
       "      <th>2</th>\n",
       "      <td>2000</td>\n",
       "      <td>NYA</td>\n",
       "      <td>E</td>\n",
       "      <td>1</td>\n",
       "      <td>161</td>\n",
       "      <td>87</td>\n",
       "      <td>Y</td>\n",
       "      <td>New York Yankees</td>\n",
       "      <td>0.081967</td>\n",
       "      <td>0.267127</td>\n",
       "      <td>3.004583</td>\n",
       "    </tr>\n",
       "    <tr>\n",
       "      <th>3</th>\n",
       "      <td>2000</td>\n",
       "      <td>NYN</td>\n",
       "      <td>E</td>\n",
       "      <td>2</td>\n",
       "      <td>162</td>\n",
       "      <td>94</td>\n",
       "      <td>N</td>\n",
       "      <td>New York Mets</td>\n",
       "      <td>0.123288</td>\n",
       "      <td>0.182100</td>\n",
       "      <td>3.388621</td>\n",
       "    </tr>\n",
       "    <tr>\n",
       "      <th>4</th>\n",
       "      <td>2000</td>\n",
       "      <td>OAK</td>\n",
       "      <td>W</td>\n",
       "      <td>1</td>\n",
       "      <td>161</td>\n",
       "      <td>91</td>\n",
       "      <td>N</td>\n",
       "      <td>Oakland Athletics</td>\n",
       "      <td>0.200000</td>\n",
       "      <td>0.323959</td>\n",
       "      <td>2.360000</td>\n",
       "    </tr>\n",
       "  </tbody>\n",
       "</table>\n",
       "</div>"
      ],
      "text/plain": [
       "   year team_id div_id  rank    g   w ws_win               name         e  \\\n",
       "0  2000     ATL      E     1  162  95      N     Atlanta Braves  0.238095   \n",
       "1  2000     CHA      C     1  162  95      N  Chicago White Sox  0.086957   \n",
       "2  2000     NYA      E     1  161  87      Y   New York Yankees  0.081967   \n",
       "3  2000     NYN      E     2  162  94      N      New York Mets  0.123288   \n",
       "4  2000     OAK      W     1  161  91      N  Oakland Athletics  0.200000   \n",
       "\n",
       "         ba       era  \n",
       "0  0.175931  7.628889  \n",
       "1  0.173783  3.856667  \n",
       "2  0.267127  3.004583  \n",
       "3  0.182100  3.388621  \n",
       "4  0.323959  2.360000  "
      ]
     },
     "execution_count": 29,
     "metadata": {},
     "output_type": "execute_result"
    }
   ],
   "source": [
    "grouped_post = pd.merge(team_last_decade, d)\n",
    "grouped_post.head()"
   ]
  },
  {
   "cell_type": "markdown",
   "metadata": {},
   "source": [
    "The above dataframe has combined all the dataframes we needed, grouped by team and year to analyze performance during the postseason. "
   ]
  },
  {
   "cell_type": "code",
   "execution_count": 30,
   "metadata": {
    "collapsed": true
   },
   "outputs": [],
   "source": [
    "grouped_post.to_pickle('grouped_post')"
   ]
  }
 ],
 "metadata": {
  "kernelspec": {
   "display_name": "Python 3",
   "language": "python",
   "name": "python3"
  },
  "language_info": {
   "codemirror_mode": {
    "name": "ipython",
    "version": 3
   },
   "file_extension": ".py",
   "mimetype": "text/x-python",
   "name": "python",
   "nbconvert_exporter": "python",
   "pygments_lexer": "ipython3",
   "version": "3.5.2"
  }
 },
 "nbformat": 4,
 "nbformat_minor": 2
}
