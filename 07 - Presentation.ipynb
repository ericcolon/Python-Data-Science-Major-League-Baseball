{
 "cells": [
  {
   "cell_type": "markdown",
   "metadata": {},
   "source": [
    "# Final Presentation - by Jacob Nogle"
   ]
  },
  {
   "cell_type": "code",
   "execution_count": 1,
   "metadata": {
    "collapsed": true
   },
   "outputs": [],
   "source": [
    "import pandas as pd\n",
    "from altair import *"
   ]
  },
  {
   "cell_type": "markdown",
   "metadata": {},
   "source": [
    "Three parts to the game of baseball: Pitching, Batting, and Fielding. Does one of these parts alone have a more significant effect on team performance than the others?"
   ]
  },
  {
   "cell_type": "markdown",
   "metadata": {},
   "source": [
    "## Dataset"
   ]
  },
  {
   "cell_type": "markdown",
   "metadata": {},
   "source": [
    "\"The History of Baseball\" - kaggle.com\n",
    "\n",
    "Major League Baseball data from 1871-2015\n",
    "\n",
    "Filtered to 2000-2015"
   ]
  },
  {
   "cell_type": "markdown",
   "metadata": {},
   "source": [
    "### Regular Season"
   ]
  },
  {
   "cell_type": "code",
   "execution_count": 2,
   "metadata": {
    "collapsed": false
   },
   "outputs": [
    {
     "data": {
      "text/html": [
       "<div>\n",
       "<table border=\"1\" class=\"dataframe\">\n",
       "  <thead>\n",
       "    <tr style=\"text-align: right;\">\n",
       "      <th></th>\n",
       "      <th>year</th>\n",
       "      <th>team_id</th>\n",
       "      <th>div_id</th>\n",
       "      <th>rank</th>\n",
       "      <th>g</th>\n",
       "      <th>w</th>\n",
       "      <th>ws_win</th>\n",
       "      <th>name</th>\n",
       "      <th>e</th>\n",
       "      <th>ba</th>\n",
       "      <th>era</th>\n",
       "    </tr>\n",
       "  </thead>\n",
       "  <tbody>\n",
       "    <tr>\n",
       "      <th>0</th>\n",
       "      <td>2000</td>\n",
       "      <td>ANA</td>\n",
       "      <td>W</td>\n",
       "      <td>3</td>\n",
       "      <td>162</td>\n",
       "      <td>82</td>\n",
       "      <td>N</td>\n",
       "      <td>Anaheim Angels</td>\n",
       "      <td>2.310345</td>\n",
       "      <td>0.271819</td>\n",
       "      <td>5.384400</td>\n",
       "    </tr>\n",
       "    <tr>\n",
       "      <th>1</th>\n",
       "      <td>2000</td>\n",
       "      <td>ARI</td>\n",
       "      <td>W</td>\n",
       "      <td>3</td>\n",
       "      <td>162</td>\n",
       "      <td>85</td>\n",
       "      <td>N</td>\n",
       "      <td>Arizona Diamondbacks</td>\n",
       "      <td>1.945455</td>\n",
       "      <td>0.247616</td>\n",
       "      <td>5.310000</td>\n",
       "    </tr>\n",
       "    <tr>\n",
       "      <th>2</th>\n",
       "      <td>2000</td>\n",
       "      <td>ATL</td>\n",
       "      <td>E</td>\n",
       "      <td>1</td>\n",
       "      <td>162</td>\n",
       "      <td>95</td>\n",
       "      <td>N</td>\n",
       "      <td>Atlanta Braves</td>\n",
       "      <td>2.388889</td>\n",
       "      <td>0.184948</td>\n",
       "      <td>5.575909</td>\n",
       "    </tr>\n",
       "    <tr>\n",
       "      <th>3</th>\n",
       "      <td>2000</td>\n",
       "      <td>BAL</td>\n",
       "      <td>E</td>\n",
       "      <td>4</td>\n",
       "      <td>162</td>\n",
       "      <td>74</td>\n",
       "      <td>N</td>\n",
       "      <td>Baltimore Orioles</td>\n",
       "      <td>1.966102</td>\n",
       "      <td>0.202421</td>\n",
       "      <td>6.768636</td>\n",
       "    </tr>\n",
       "    <tr>\n",
       "      <th>4</th>\n",
       "      <td>2000</td>\n",
       "      <td>BOS</td>\n",
       "      <td>E</td>\n",
       "      <td>2</td>\n",
       "      <td>162</td>\n",
       "      <td>85</td>\n",
       "      <td>N</td>\n",
       "      <td>Boston Red Sox</td>\n",
       "      <td>1.651515</td>\n",
       "      <td>0.207478</td>\n",
       "      <td>5.046667</td>\n",
       "    </tr>\n",
       "  </tbody>\n",
       "</table>\n",
       "</div>"
      ],
      "text/plain": [
       "   year team_id div_id  rank    g   w ws_win                  name         e  \\\n",
       "0  2000     ANA      W     3  162  82      N        Anaheim Angels  2.310345   \n",
       "1  2000     ARI      W     3  162  85      N  Arizona Diamondbacks  1.945455   \n",
       "2  2000     ATL      E     1  162  95      N        Atlanta Braves  2.388889   \n",
       "3  2000     BAL      E     4  162  74      N     Baltimore Orioles  1.966102   \n",
       "4  2000     BOS      E     2  162  85      N        Boston Red Sox  1.651515   \n",
       "\n",
       "         ba       era  \n",
       "0  0.271819  5.384400  \n",
       "1  0.247616  5.310000  \n",
       "2  0.184948  5.575909  \n",
       "3  0.202421  6.768636  \n",
       "4  0.207478  5.046667  "
      ]
     },
     "execution_count": 2,
     "metadata": {},
     "output_type": "execute_result"
    }
   ],
   "source": [
    "grouped = pd.read_pickle('/home/jnogle/finalproject/dataframes/grouped')\n",
    "grouped.head()"
   ]
  },
  {
   "cell_type": "markdown",
   "metadata": {},
   "source": [
    "### Postseason"
   ]
  },
  {
   "cell_type": "code",
   "execution_count": 3,
   "metadata": {
    "collapsed": false
   },
   "outputs": [
    {
     "data": {
      "text/html": [
       "<div>\n",
       "<table border=\"1\" class=\"dataframe\">\n",
       "  <thead>\n",
       "    <tr style=\"text-align: right;\">\n",
       "      <th></th>\n",
       "      <th>year</th>\n",
       "      <th>team_id</th>\n",
       "      <th>div_id</th>\n",
       "      <th>rank</th>\n",
       "      <th>g</th>\n",
       "      <th>w</th>\n",
       "      <th>ws_win</th>\n",
       "      <th>name</th>\n",
       "      <th>e</th>\n",
       "      <th>ba</th>\n",
       "      <th>era</th>\n",
       "    </tr>\n",
       "  </thead>\n",
       "  <tbody>\n",
       "    <tr>\n",
       "      <th>0</th>\n",
       "      <td>2000</td>\n",
       "      <td>ATL</td>\n",
       "      <td>E</td>\n",
       "      <td>1</td>\n",
       "      <td>162</td>\n",
       "      <td>95</td>\n",
       "      <td>N</td>\n",
       "      <td>Atlanta Braves</td>\n",
       "      <td>0.238095</td>\n",
       "      <td>0.175931</td>\n",
       "      <td>7.628889</td>\n",
       "    </tr>\n",
       "    <tr>\n",
       "      <th>1</th>\n",
       "      <td>2000</td>\n",
       "      <td>CHA</td>\n",
       "      <td>C</td>\n",
       "      <td>1</td>\n",
       "      <td>162</td>\n",
       "      <td>95</td>\n",
       "      <td>N</td>\n",
       "      <td>Chicago White Sox</td>\n",
       "      <td>0.086957</td>\n",
       "      <td>0.173783</td>\n",
       "      <td>3.856667</td>\n",
       "    </tr>\n",
       "    <tr>\n",
       "      <th>2</th>\n",
       "      <td>2000</td>\n",
       "      <td>NYA</td>\n",
       "      <td>E</td>\n",
       "      <td>1</td>\n",
       "      <td>161</td>\n",
       "      <td>87</td>\n",
       "      <td>Y</td>\n",
       "      <td>New York Yankees</td>\n",
       "      <td>0.081967</td>\n",
       "      <td>0.267127</td>\n",
       "      <td>3.004583</td>\n",
       "    </tr>\n",
       "    <tr>\n",
       "      <th>3</th>\n",
       "      <td>2000</td>\n",
       "      <td>NYN</td>\n",
       "      <td>E</td>\n",
       "      <td>2</td>\n",
       "      <td>162</td>\n",
       "      <td>94</td>\n",
       "      <td>N</td>\n",
       "      <td>New York Mets</td>\n",
       "      <td>0.123288</td>\n",
       "      <td>0.182100</td>\n",
       "      <td>3.388621</td>\n",
       "    </tr>\n",
       "    <tr>\n",
       "      <th>4</th>\n",
       "      <td>2000</td>\n",
       "      <td>OAK</td>\n",
       "      <td>W</td>\n",
       "      <td>1</td>\n",
       "      <td>161</td>\n",
       "      <td>91</td>\n",
       "      <td>N</td>\n",
       "      <td>Oakland Athletics</td>\n",
       "      <td>0.200000</td>\n",
       "      <td>0.323959</td>\n",
       "      <td>2.360000</td>\n",
       "    </tr>\n",
       "  </tbody>\n",
       "</table>\n",
       "</div>"
      ],
      "text/plain": [
       "   year team_id div_id  rank    g   w ws_win               name         e  \\\n",
       "0  2000     ATL      E     1  162  95      N     Atlanta Braves  0.238095   \n",
       "1  2000     CHA      C     1  162  95      N  Chicago White Sox  0.086957   \n",
       "2  2000     NYA      E     1  161  87      Y   New York Yankees  0.081967   \n",
       "3  2000     NYN      E     2  162  94      N      New York Mets  0.123288   \n",
       "4  2000     OAK      W     1  161  91      N  Oakland Athletics  0.200000   \n",
       "\n",
       "         ba       era  \n",
       "0  0.175931  7.628889  \n",
       "1  0.173783  3.856667  \n",
       "2  0.267127  3.004583  \n",
       "3  0.182100  3.388621  \n",
       "4  0.323959  2.360000  "
      ]
     },
     "execution_count": 3,
     "metadata": {},
     "output_type": "execute_result"
    }
   ],
   "source": [
    "grouped_post = pd.read_pickle('/home/jnogle/finalproject/dataframes/grouped_post')\n",
    "grouped_post.head()"
   ]
  },
  {
   "cell_type": "markdown",
   "metadata": {},
   "source": [
    "## Visualizations"
   ]
  },
  {
   "cell_type": "markdown",
   "metadata": {},
   "source": [
    "First I checked regular season individual team statistics."
   ]
  },
  {
   "cell_type": "code",
   "execution_count": 4,
   "metadata": {
    "collapsed": false
   },
   "outputs": [],
   "source": [
    "giants_reg = grouped[grouped.name == 'San Francisco Giants']"
   ]
  },
  {
   "cell_type": "markdown",
   "metadata": {},
   "source": [
    "### Giants Regular Season ERA"
   ]
  },
  {
   "cell_type": "code",
   "execution_count": 5,
   "metadata": {
    "collapsed": false
   },
   "outputs": [
    {
     "data": {
      "text/html": [
       "<div class=\"vega-embed\" id=\"6e8e5392-b117-4652-8023-8c8a17c43b86\"></div>\n",
       "\n",
       "<style>\n",
       ".vega-embed svg, .vega-embed canvas {\n",
       "  border: 1px dotted gray;\n",
       "}\n",
       "\n",
       ".vega-embed .vega-actions a {\n",
       "  margin-right: 6px;\n",
       "}\n",
       "</style>\n"
      ]
     },
     "metadata": {
      "jupyter-vega": "#6e8e5392-b117-4652-8023-8c8a17c43b86"
     },
     "output_type": "display_data"
    },
    {
     "data": {
      "application/javascript": [
       "var spec = {\"config\": {\"cell\": {\"height\": 300.0, \"width\": 500}}, \"mark\": \"circle\", \"encoding\": {\"y\": {\"type\": \"quantitative\", \"field\": \"era\"}, \"color\": {\"type\": \"nominal\", \"field\": \"rank\"}, \"size\": {\"type\": \"quantitative\", \"field\": \"w\"}, \"x\": {\"type\": \"nominal\", \"field\": \"year\"}}, \"data\": {\"values\": [{\"e\": 2.066666666666667, \"name\": \"San Francisco Giants\", \"w\": 97, \"ws_win\": \"N\", \"div_id\": \"W\", \"rank\": 1, \"era\": 4.981176470588235, \"ba\": 0.2530029939616931, \"team_id\": \"SFN\", \"year\": 2000, \"g\": 162}, {\"e\": 2.2264150943396226, \"name\": \"San Francisco Giants\", \"w\": 90, \"ws_win\": \"N\", \"div_id\": \"W\", \"rank\": 2, \"era\": 5.067222222222224, \"ba\": 0.20340918223914808, \"team_id\": \"SFN\", \"year\": 2001, \"g\": 162}, {\"e\": 1.8, \"name\": \"San Francisco Giants\", \"w\": 95, \"ws_win\": \"N\", \"div_id\": \"W\", \"rank\": 2, \"era\": 3.291176470588235, \"ba\": 0.257943858200773, \"team_id\": \"SFN\", \"year\": 2002, \"g\": 162}, {\"e\": 1.4814814814814814, \"name\": \"San Francisco Giants\", \"w\": 100, \"ws_win\": \"N\", \"div_id\": \"W\", \"rank\": 1, \"era\": 4.41952380952381, \"ba\": 0.21904634014829522, \"team_id\": \"SFN\", \"year\": 2003, \"g\": 161}, {\"e\": 1.8703703703703705, \"name\": \"San Francisco Giants\", \"w\": 91, \"ws_win\": \"N\", \"div_id\": \"W\", \"rank\": 2, \"era\": 7.280909090909091, \"ba\": 0.21869624790182163, \"team_id\": \"SFN\", \"year\": 2004, \"g\": 162}, {\"e\": 1.5517241379310345, \"name\": \"San Francisco Giants\", \"w\": 75, \"ws_win\": \"N\", \"div_id\": \"W\", \"rank\": 3, \"era\": 4.79375, \"ba\": 0.19853296266946519, \"team_id\": \"SFN\", \"year\": 2005, \"g\": 162}, {\"e\": 1.6545454545454545, \"name\": \"San Francisco Giants\", \"w\": 76, \"ws_win\": \"N\", \"div_id\": \"W\", \"rank\": 3, \"era\": 5.502380952380952, \"ba\": 0.22850254754578825, \"team_id\": \"SFN\", \"year\": 2006, \"g\": 161}, {\"e\": 1.4666666666666666, \"name\": \"San Francisco Giants\", \"w\": 71, \"ws_win\": \"N\", \"div_id\": \"W\", \"rank\": 5, \"era\": 4.983181818181818, \"ba\": 0.19662423616496416, \"team_id\": \"SFN\", \"year\": 2007, \"g\": 162}, {\"e\": 1.5483870967741935, \"name\": \"San Francisco Giants\", \"w\": 72, \"ws_win\": \"N\", \"div_id\": \"W\", \"rank\": 4, \"era\": 4.589499999999999, \"ba\": 0.18422890212071114, \"team_id\": \"SFN\", \"year\": 2008, \"g\": 162}, {\"e\": 1.6296296296296295, \"name\": \"San Francisco Giants\", \"w\": 88, \"ws_win\": \"N\", \"div_id\": \"W\", \"rank\": 3, \"era\": 4.552380952380952, \"ba\": 0.2065014904380685, \"team_id\": \"SFN\", \"year\": 2009, \"g\": 162}, {\"e\": 1.4038461538461537, \"name\": \"San Francisco Giants\", \"w\": 92, \"ws_win\": \"Y\", \"div_id\": \"W\", \"rank\": 1, \"era\": 3.7694736842105274, \"ba\": 0.21245357893341527, \"team_id\": \"SFN\", \"year\": 2010, \"g\": 162}, {\"e\": 1.7049180327868851, \"name\": \"San Francisco Giants\", \"w\": 86, \"ws_win\": \"N\", \"div_id\": \"W\", \"rank\": 2, \"era\": 3.858235294117647, \"ba\": 0.19047359341338754, \"team_id\": \"SFN\", \"year\": 2011, \"g\": 162}, {\"e\": 1.9491525423728813, \"name\": \"San Francisco Giants\", \"w\": 94, \"ws_win\": \"Y\", \"div_id\": \"W\", \"rank\": 1, \"era\": 4.320869565217392, \"ba\": 0.16170484370696386, \"team_id\": \"SFN\", \"year\": 2012, \"g\": 162}, {\"e\": 2.018867924528302, \"name\": \"San Francisco Giants\", \"w\": 76, \"ws_win\": \"N\", \"div_id\": \"W\", \"rank\": 4, \"era\": 5.064761904761904, \"ba\": 0.17144942779697028, \"team_id\": \"SFN\", \"year\": 2013, \"g\": 162}, {\"e\": 1.3875, \"name\": \"San Francisco Giants\", \"w\": 88, \"ws_win\": \"Y\", \"div_id\": \"W\", \"rank\": 2, \"era\": 4.105714285714286, \"ba\": 0.16643439452435768, \"team_id\": \"SFN\", \"year\": 2014, \"g\": 162}, {\"e\": 1.2380952380952381, \"name\": \"San Francisco Giants\", \"w\": 84, \"ws_win\": \"N\", \"div_id\": \"W\", \"rank\": 2, \"era\": 3.7695238095238106, \"ba\": 0.17868037379987622, \"team_id\": \"SFN\", \"year\": 2015, \"g\": 162}]}};\n",
       "var selector = \"#6e8e5392-b117-4652-8023-8c8a17c43b86\";\n",
       "var type = \"vega-lite\";\n",
       "\n",
       "var output_area = this;\n",
       "require(['nbextensions/jupyter-vega/index'], function(vega) {\n",
       "  vega.render(selector, spec, type, output_area);\n",
       "}, function (err) {\n",
       "  if (err.requireType !== 'scripterror') {\n",
       "    throw(err);\n",
       "  }\n",
       "});\n"
      ]
     },
     "metadata": {
      "jupyter-vega": "#6e8e5392-b117-4652-8023-8c8a17c43b86"
     },
     "output_type": "display_data"
    },
    {
     "data": {
      "image/png": "[encoded data removed]"
     },
     "metadata": {
      "jupyter-vega": "#6e8e5392-b117-4652-8023-8c8a17c43b86"
     },
     "output_type": "display_data"
    }
   ],
   "source": [
    "Chart(giants_reg).mark_circle().encode(\n",
    "    X('year:N'),\n",
    "    Y('era'),\n",
    "    Size('w'),\n",
    "    Color('rank:N')\n",
    ").configure_cell(height=300)"
   ]
  },
  {
   "cell_type": "markdown",
   "metadata": {},
   "source": [
    "### Giants Regular Season Batting Average"
   ]
  },
  {
   "cell_type": "code",
   "execution_count": 6,
   "metadata": {
    "collapsed": false
   },
   "outputs": [
    {
     "data": {
      "text/html": [
       "<div class=\"vega-embed\" id=\"ca31883d-78e5-4fbd-b329-c3fdc7f1b4d5\"></div>\n",
       "\n",
       "<style>\n",
       ".vega-embed svg, .vega-embed canvas {\n",
       "  border: 1px dotted gray;\n",
       "}\n",
       "\n",
       ".vega-embed .vega-actions a {\n",
       "  margin-right: 6px;\n",
       "}\n",
       "</style>\n"
      ]
     },
     "metadata": {
      "jupyter-vega": "#ca31883d-78e5-4fbd-b329-c3fdc7f1b4d5"
     },
     "output_type": "display_data"
    },
    {
     "data": {
      "application/javascript": [
       "var spec = {\"config\": {\"cell\": {\"height\": 300.0, \"width\": 500}}, \"mark\": \"circle\", \"encoding\": {\"y\": {\"type\": \"quantitative\", \"field\": \"ba\", \"axis\": {\"format\": \".3f\"}}, \"color\": {\"type\": \"nominal\", \"field\": \"rank\"}, \"size\": {\"type\": \"quantitative\", \"field\": \"w\"}, \"x\": {\"type\": \"nominal\", \"field\": \"year\"}}, \"data\": {\"values\": [{\"e\": 2.066666666666667, \"name\": \"San Francisco Giants\", \"w\": 97, \"ws_win\": \"N\", \"div_id\": \"W\", \"rank\": 1, \"era\": 4.981176470588235, \"ba\": 0.2530029939616931, \"team_id\": \"SFN\", \"year\": 2000, \"g\": 162}, {\"e\": 2.2264150943396226, \"name\": \"San Francisco Giants\", \"w\": 90, \"ws_win\": \"N\", \"div_id\": \"W\", \"rank\": 2, \"era\": 5.067222222222224, \"ba\": 0.20340918223914808, \"team_id\": \"SFN\", \"year\": 2001, \"g\": 162}, {\"e\": 1.8, \"name\": \"San Francisco Giants\", \"w\": 95, \"ws_win\": \"N\", \"div_id\": \"W\", \"rank\": 2, \"era\": 3.291176470588235, \"ba\": 0.257943858200773, \"team_id\": \"SFN\", \"year\": 2002, \"g\": 162}, {\"e\": 1.4814814814814814, \"name\": \"San Francisco Giants\", \"w\": 100, \"ws_win\": \"N\", \"div_id\": \"W\", \"rank\": 1, \"era\": 4.41952380952381, \"ba\": 0.21904634014829522, \"team_id\": \"SFN\", \"year\": 2003, \"g\": 161}, {\"e\": 1.8703703703703705, \"name\": \"San Francisco Giants\", \"w\": 91, \"ws_win\": \"N\", \"div_id\": \"W\", \"rank\": 2, \"era\": 7.280909090909091, \"ba\": 0.21869624790182163, \"team_id\": \"SFN\", \"year\": 2004, \"g\": 162}, {\"e\": 1.5517241379310345, \"name\": \"San Francisco Giants\", \"w\": 75, \"ws_win\": \"N\", \"div_id\": \"W\", \"rank\": 3, \"era\": 4.79375, \"ba\": 0.19853296266946519, \"team_id\": \"SFN\", \"year\": 2005, \"g\": 162}, {\"e\": 1.6545454545454545, \"name\": \"San Francisco Giants\", \"w\": 76, \"ws_win\": \"N\", \"div_id\": \"W\", \"rank\": 3, \"era\": 5.502380952380952, \"ba\": 0.22850254754578825, \"team_id\": \"SFN\", \"year\": 2006, \"g\": 161}, {\"e\": 1.4666666666666666, \"name\": \"San Francisco Giants\", \"w\": 71, \"ws_win\": \"N\", \"div_id\": \"W\", \"rank\": 5, \"era\": 4.983181818181818, \"ba\": 0.19662423616496416, \"team_id\": \"SFN\", \"year\": 2007, \"g\": 162}, {\"e\": 1.5483870967741935, \"name\": \"San Francisco Giants\", \"w\": 72, \"ws_win\": \"N\", \"div_id\": \"W\", \"rank\": 4, \"era\": 4.589499999999999, \"ba\": 0.18422890212071114, \"team_id\": \"SFN\", \"year\": 2008, \"g\": 162}, {\"e\": 1.6296296296296295, \"name\": \"San Francisco Giants\", \"w\": 88, \"ws_win\": \"N\", \"div_id\": \"W\", \"rank\": 3, \"era\": 4.552380952380952, \"ba\": 0.2065014904380685, \"team_id\": \"SFN\", \"year\": 2009, \"g\": 162}, {\"e\": 1.4038461538461537, \"name\": \"San Francisco Giants\", \"w\": 92, \"ws_win\": \"Y\", \"div_id\": \"W\", \"rank\": 1, \"era\": 3.7694736842105274, \"ba\": 0.21245357893341527, \"team_id\": \"SFN\", \"year\": 2010, \"g\": 162}, {\"e\": 1.7049180327868851, \"name\": \"San Francisco Giants\", \"w\": 86, \"ws_win\": \"N\", \"div_id\": \"W\", \"rank\": 2, \"era\": 3.858235294117647, \"ba\": 0.19047359341338754, \"team_id\": \"SFN\", \"year\": 2011, \"g\": 162}, {\"e\": 1.9491525423728813, \"name\": \"San Francisco Giants\", \"w\": 94, \"ws_win\": \"Y\", \"div_id\": \"W\", \"rank\": 1, \"era\": 4.320869565217392, \"ba\": 0.16170484370696386, \"team_id\": \"SFN\", \"year\": 2012, \"g\": 162}, {\"e\": 2.018867924528302, \"name\": \"San Francisco Giants\", \"w\": 76, \"ws_win\": \"N\", \"div_id\": \"W\", \"rank\": 4, \"era\": 5.064761904761904, \"ba\": 0.17144942779697028, \"team_id\": \"SFN\", \"year\": 2013, \"g\": 162}, {\"e\": 1.3875, \"name\": \"San Francisco Giants\", \"w\": 88, \"ws_win\": \"Y\", \"div_id\": \"W\", \"rank\": 2, \"era\": 4.105714285714286, \"ba\": 0.16643439452435768, \"team_id\": \"SFN\", \"year\": 2014, \"g\": 162}, {\"e\": 1.2380952380952381, \"name\": \"San Francisco Giants\", \"w\": 84, \"ws_win\": \"N\", \"div_id\": \"W\", \"rank\": 2, \"era\": 3.7695238095238106, \"ba\": 0.17868037379987622, \"team_id\": \"SFN\", \"year\": 2015, \"g\": 162}]}};\n",
       "var selector = \"#ca31883d-78e5-4fbd-b329-c3fdc7f1b4d5\";\n",
       "var type = \"vega-lite\";\n",
       "\n",
       "var output_area = this;\n",
       "require(['nbextensions/jupyter-vega/index'], function(vega) {\n",
       "  vega.render(selector, spec, type, output_area);\n",
       "}, function (err) {\n",
       "  if (err.requireType !== 'scripterror') {\n",
       "    throw(err);\n",
       "  }\n",
       "});\n"
      ]
     },
     "metadata": {
      "jupyter-vega": "#ca31883d-78e5-4fbd-b329-c3fdc7f1b4d5"
     },
     "output_type": "display_data"
    },
    {
     "data": {
      "image/png": "[encoded data removed]"
     },
     "metadata": {
      "jupyter-vega": "#ca31883d-78e5-4fbd-b329-c3fdc7f1b4d5"
     },
     "output_type": "display_data"
    }
   ],
   "source": [
    "Chart(giants_reg).mark_circle().encode(\n",
    "    X('year:N'),\n",
    "    Y('ba',axis=Axis(format='.3f')),\n",
    "    Size('w'),\n",
    "    Color('rank:N')\n",
    ").configure_cell(height=300)"
   ]
  },
  {
   "cell_type": "markdown",
   "metadata": {},
   "source": [
    "### Giants Regular Season Fielding Errors"
   ]
  },
  {
   "cell_type": "code",
   "execution_count": 7,
   "metadata": {
    "collapsed": false
   },
   "outputs": [
    {
     "data": {
      "text/html": [
       "<div class=\"vega-embed\" id=\"92bf2101-c0e6-4c9d-a8a7-dbe167eccaa6\"></div>\n",
       "\n",
       "<style>\n",
       ".vega-embed svg, .vega-embed canvas {\n",
       "  border: 1px dotted gray;\n",
       "}\n",
       "\n",
       ".vega-embed .vega-actions a {\n",
       "  margin-right: 6px;\n",
       "}\n",
       "</style>\n"
      ]
     },
     "metadata": {
      "jupyter-vega": "#92bf2101-c0e6-4c9d-a8a7-dbe167eccaa6"
     },
     "output_type": "display_data"
    },
    {
     "data": {
      "application/javascript": [
       "var spec = {\"config\": {\"cell\": {\"height\": 300.0, \"width\": 500}}, \"mark\": \"circle\", \"encoding\": {\"y\": {\"type\": \"quantitative\", \"field\": \"e\"}, \"color\": {\"type\": \"nominal\", \"field\": \"rank\"}, \"size\": {\"type\": \"quantitative\", \"field\": \"w\"}, \"x\": {\"type\": \"nominal\", \"field\": \"year\"}}, \"data\": {\"values\": [{\"e\": 2.066666666666667, \"name\": \"San Francisco Giants\", \"w\": 97, \"ws_win\": \"N\", \"div_id\": \"W\", \"rank\": 1, \"era\": 4.981176470588235, \"ba\": 0.2530029939616931, \"team_id\": \"SFN\", \"year\": 2000, \"g\": 162}, {\"e\": 2.2264150943396226, \"name\": \"San Francisco Giants\", \"w\": 90, \"ws_win\": \"N\", \"div_id\": \"W\", \"rank\": 2, \"era\": 5.067222222222224, \"ba\": 0.20340918223914808, \"team_id\": \"SFN\", \"year\": 2001, \"g\": 162}, {\"e\": 1.8, \"name\": \"San Francisco Giants\", \"w\": 95, \"ws_win\": \"N\", \"div_id\": \"W\", \"rank\": 2, \"era\": 3.291176470588235, \"ba\": 0.257943858200773, \"team_id\": \"SFN\", \"year\": 2002, \"g\": 162}, {\"e\": 1.4814814814814814, \"name\": \"San Francisco Giants\", \"w\": 100, \"ws_win\": \"N\", \"div_id\": \"W\", \"rank\": 1, \"era\": 4.41952380952381, \"ba\": 0.21904634014829522, \"team_id\": \"SFN\", \"year\": 2003, \"g\": 161}, {\"e\": 1.8703703703703705, \"name\": \"San Francisco Giants\", \"w\": 91, \"ws_win\": \"N\", \"div_id\": \"W\", \"rank\": 2, \"era\": 7.280909090909091, \"ba\": 0.21869624790182163, \"team_id\": \"SFN\", \"year\": 2004, \"g\": 162}, {\"e\": 1.5517241379310345, \"name\": \"San Francisco Giants\", \"w\": 75, \"ws_win\": \"N\", \"div_id\": \"W\", \"rank\": 3, \"era\": 4.79375, \"ba\": 0.19853296266946519, \"team_id\": \"SFN\", \"year\": 2005, \"g\": 162}, {\"e\": 1.6545454545454545, \"name\": \"San Francisco Giants\", \"w\": 76, \"ws_win\": \"N\", \"div_id\": \"W\", \"rank\": 3, \"era\": 5.502380952380952, \"ba\": 0.22850254754578825, \"team_id\": \"SFN\", \"year\": 2006, \"g\": 161}, {\"e\": 1.4666666666666666, \"name\": \"San Francisco Giants\", \"w\": 71, \"ws_win\": \"N\", \"div_id\": \"W\", \"rank\": 5, \"era\": 4.983181818181818, \"ba\": 0.19662423616496416, \"team_id\": \"SFN\", \"year\": 2007, \"g\": 162}, {\"e\": 1.5483870967741935, \"name\": \"San Francisco Giants\", \"w\": 72, \"ws_win\": \"N\", \"div_id\": \"W\", \"rank\": 4, \"era\": 4.589499999999999, \"ba\": 0.18422890212071114, \"team_id\": \"SFN\", \"year\": 2008, \"g\": 162}, {\"e\": 1.6296296296296295, \"name\": \"San Francisco Giants\", \"w\": 88, \"ws_win\": \"N\", \"div_id\": \"W\", \"rank\": 3, \"era\": 4.552380952380952, \"ba\": 0.2065014904380685, \"team_id\": \"SFN\", \"year\": 2009, \"g\": 162}, {\"e\": 1.4038461538461537, \"name\": \"San Francisco Giants\", \"w\": 92, \"ws_win\": \"Y\", \"div_id\": \"W\", \"rank\": 1, \"era\": 3.7694736842105274, \"ba\": 0.21245357893341527, \"team_id\": \"SFN\", \"year\": 2010, \"g\": 162}, {\"e\": 1.7049180327868851, \"name\": \"San Francisco Giants\", \"w\": 86, \"ws_win\": \"N\", \"div_id\": \"W\", \"rank\": 2, \"era\": 3.858235294117647, \"ba\": 0.19047359341338754, \"team_id\": \"SFN\", \"year\": 2011, \"g\": 162}, {\"e\": 1.9491525423728813, \"name\": \"San Francisco Giants\", \"w\": 94, \"ws_win\": \"Y\", \"div_id\": \"W\", \"rank\": 1, \"era\": 4.320869565217392, \"ba\": 0.16170484370696386, \"team_id\": \"SFN\", \"year\": 2012, \"g\": 162}, {\"e\": 2.018867924528302, \"name\": \"San Francisco Giants\", \"w\": 76, \"ws_win\": \"N\", \"div_id\": \"W\", \"rank\": 4, \"era\": 5.064761904761904, \"ba\": 0.17144942779697028, \"team_id\": \"SFN\", \"year\": 2013, \"g\": 162}, {\"e\": 1.3875, \"name\": \"San Francisco Giants\", \"w\": 88, \"ws_win\": \"Y\", \"div_id\": \"W\", \"rank\": 2, \"era\": 4.105714285714286, \"ba\": 0.16643439452435768, \"team_id\": \"SFN\", \"year\": 2014, \"g\": 162}, {\"e\": 1.2380952380952381, \"name\": \"San Francisco Giants\", \"w\": 84, \"ws_win\": \"N\", \"div_id\": \"W\", \"rank\": 2, \"era\": 3.7695238095238106, \"ba\": 0.17868037379987622, \"team_id\": \"SFN\", \"year\": 2015, \"g\": 162}]}};\n",
       "var selector = \"#92bf2101-c0e6-4c9d-a8a7-dbe167eccaa6\";\n",
       "var type = \"vega-lite\";\n",
       "\n",
       "var output_area = this;\n",
       "require(['nbextensions/jupyter-vega/index'], function(vega) {\n",
       "  vega.render(selector, spec, type, output_area);\n",
       "}, function (err) {\n",
       "  if (err.requireType !== 'scripterror') {\n",
       "    throw(err);\n",
       "  }\n",
       "});\n"
      ]
     },
     "metadata": {
      "jupyter-vega": "#92bf2101-c0e6-4c9d-a8a7-dbe167eccaa6"
     },
     "output_type": "display_data"
    },
    {
     "data": {
      "image/png": "[encoded data removed]"
     },
     "metadata": {
      "jupyter-vega": "#92bf2101-c0e6-4c9d-a8a7-dbe167eccaa6"
     },
     "output_type": "display_data"
    }
   ],
   "source": [
    "Chart(giants_reg).mark_circle().encode(\n",
    "    X('year:N'),\n",
    "    Y('e'),\n",
    "    Size('w'),\n",
    "    Color('rank:N')\n",
    ").configure_cell(height=300)"
   ]
  },
  {
   "cell_type": "markdown",
   "metadata": {},
   "source": [
    "I also checked postseason statistics for individual teams, where I measured performance by a World Series win in that year."
   ]
  },
  {
   "cell_type": "code",
   "execution_count": 8,
   "metadata": {
    "collapsed": true
   },
   "outputs": [],
   "source": [
    "RS_post = grouped_post[grouped_post.name == 'Boston Red Sox']"
   ]
  },
  {
   "cell_type": "markdown",
   "metadata": {},
   "source": [
    "### Red Sox Postseason ERA"
   ]
  },
  {
   "cell_type": "code",
   "execution_count": 9,
   "metadata": {
    "collapsed": false
   },
   "outputs": [
    {
     "data": {
      "text/html": [
       "<div class=\"vega-embed\" id=\"ff486685-525f-4f73-9f3c-da369b34640a\"></div>\n",
       "\n",
       "<style>\n",
       ".vega-embed svg, .vega-embed canvas {\n",
       "  border: 1px dotted gray;\n",
       "}\n",
       "\n",
       ".vega-embed .vega-actions a {\n",
       "  margin-right: 6px;\n",
       "}\n",
       "</style>\n"
      ]
     },
     "metadata": {
      "jupyter-vega": "#ff486685-525f-4f73-9f3c-da369b34640a"
     },
     "output_type": "display_data"
    },
    {
     "data": {
      "application/javascript": [
       "var spec = {\"config\": {\"cell\": {\"height\": 350, \"width\": 500}}, \"mark\": \"circle\", \"encoding\": {\"y\": {\"type\": \"quantitative\", \"field\": \"era\"}, \"color\": {\"type\": \"nominal\", \"field\": \"ws_win\", \"scale\": {\"domain\": [\"N\", \"Y\"], \"range\": [\"red\", \"green\"]}}, \"x\": {\"type\": \"nominal\", \"field\": \"year\"}}, \"data\": {\"values\": [{\"e\": 0.19047619047619047, \"name\": \"Boston Red Sox\", \"w\": 95, \"ws_win\": \"N\", \"div_id\": \"E\", \"rank\": 2, \"era\": 3.31, \"ba\": 0.222496462042567, \"team_id\": \"BOS\", \"year\": 2003, \"g\": 162}, {\"e\": 0.15384615384615385, \"name\": \"Boston Red Sox\", \"w\": 98, \"ws_win\": \"Y\", \"div_id\": \"E\", \"rank\": 2, \"era\": 4.528333333333333, \"ba\": 0.24095798843079316, \"team_id\": \"BOS\", \"year\": 2004, \"g\": 162}, {\"e\": 0.09523809523809523, \"name\": \"Boston Red Sox\", \"w\": 95, \"ws_win\": \"N\", \"div_id\": \"E\", \"rank\": 2, \"era\": 10.497142857142858, \"ba\": 0.23060424424060785, \"team_id\": \"BOS\", \"year\": 2005, \"g\": 162}, {\"e\": 0.09090909090909091, \"name\": \"Boston Red Sox\", \"w\": 96, \"ws_win\": \"Y\", \"div_id\": \"E\", \"rank\": 1, \"era\": 3.494444444444444, \"ba\": 0.29720423487664877, \"team_id\": \"BOS\", \"year\": 2007, \"g\": 162}, {\"e\": 0.02127659574468085, \"name\": \"Boston Red Sox\", \"w\": 95, \"ws_win\": \"N\", \"div_id\": \"E\", \"rank\": 2, \"era\": 5.2176470588235295, \"ba\": 0.22482836771072062, \"team_id\": \"BOS\", \"year\": 2008, \"g\": 162}, {\"e\": 0.2, \"name\": \"Boston Red Sox\", \"w\": 95, \"ws_win\": \"N\", \"div_id\": \"E\", \"rank\": 2, \"era\": 5.625, \"ba\": 0.13445821854912762, \"team_id\": \"BOS\", \"year\": 2009, \"g\": 162}, {\"e\": 0.15942028985507245, \"name\": \"Boston Red Sox\", \"w\": 97, \"ws_win\": \"Y\", \"div_id\": \"E\", \"rank\": 1, \"era\": 4.850967741935484, \"ba\": 0.19189123729767404, \"team_id\": \"BOS\", \"year\": 2013, \"g\": 162}]}};\n",
       "var selector = \"#ff486685-525f-4f73-9f3c-da369b34640a\";\n",
       "var type = \"vega-lite\";\n",
       "\n",
       "var output_area = this;\n",
       "require(['nbextensions/jupyter-vega/index'], function(vega) {\n",
       "  vega.render(selector, spec, type, output_area);\n",
       "}, function (err) {\n",
       "  if (err.requireType !== 'scripterror') {\n",
       "    throw(err);\n",
       "  }\n",
       "});\n"
      ]
     },
     "metadata": {
      "jupyter-vega": "#ff486685-525f-4f73-9f3c-da369b34640a"
     },
     "output_type": "display_data"
    },
    {
     "data": {
      "image/png": "[encoded data removed]"
     },
     "metadata": {
      "jupyter-vega": "#ff486685-525f-4f73-9f3c-da369b34640a"
     },
     "output_type": "display_data"
    }
   ],
   "source": [
    "Chart(RS_post).mark_circle().encode(\n",
    "    X('year:N'),\n",
    "    Y('era'),\n",
    "    Color('ws_win:N',scale=Scale(domain=['N', 'Y'], range=['red', 'green']))\n",
    ")"
   ]
  },
  {
   "cell_type": "markdown",
   "metadata": {},
   "source": [
    "### Red Sox Postseason Batting Average"
   ]
  },
  {
   "cell_type": "code",
   "execution_count": 10,
   "metadata": {
    "collapsed": false
   },
   "outputs": [
    {
     "data": {
      "text/html": [
       "<div class=\"vega-embed\" id=\"e369cc7d-e297-4f63-afc3-07e7db06f4bd\"></div>\n",
       "\n",
       "<style>\n",
       ".vega-embed svg, .vega-embed canvas {\n",
       "  border: 1px dotted gray;\n",
       "}\n",
       "\n",
       ".vega-embed .vega-actions a {\n",
       "  margin-right: 6px;\n",
       "}\n",
       "</style>\n"
      ]
     },
     "metadata": {
      "jupyter-vega": "#e369cc7d-e297-4f63-afc3-07e7db06f4bd"
     },
     "output_type": "display_data"
    },
    {
     "data": {
      "application/javascript": [
       "var spec = {\"config\": {\"cell\": {\"height\": 350, \"width\": 500}}, \"mark\": \"circle\", \"encoding\": {\"y\": {\"type\": \"quantitative\", \"field\": \"ba\", \"axis\": {\"format\": \".3f\"}}, \"color\": {\"type\": \"nominal\", \"field\": \"ws_win\", \"scale\": {\"domain\": [\"N\", \"Y\"], \"range\": [\"red\", \"green\"]}}, \"x\": {\"type\": \"nominal\", \"field\": \"year\"}}, \"data\": {\"values\": [{\"e\": 0.19047619047619047, \"name\": \"Boston Red Sox\", \"w\": 95, \"ws_win\": \"N\", \"div_id\": \"E\", \"rank\": 2, \"era\": 3.31, \"ba\": 0.222496462042567, \"team_id\": \"BOS\", \"year\": 2003, \"g\": 162}, {\"e\": 0.15384615384615385, \"name\": \"Boston Red Sox\", \"w\": 98, \"ws_win\": \"Y\", \"div_id\": \"E\", \"rank\": 2, \"era\": 4.528333333333333, \"ba\": 0.24095798843079316, \"team_id\": \"BOS\", \"year\": 2004, \"g\": 162}, {\"e\": 0.09523809523809523, \"name\": \"Boston Red Sox\", \"w\": 95, \"ws_win\": \"N\", \"div_id\": \"E\", \"rank\": 2, \"era\": 10.497142857142858, \"ba\": 0.23060424424060785, \"team_id\": \"BOS\", \"year\": 2005, \"g\": 162}, {\"e\": 0.09090909090909091, \"name\": \"Boston Red Sox\", \"w\": 96, \"ws_win\": \"Y\", \"div_id\": \"E\", \"rank\": 1, \"era\": 3.494444444444444, \"ba\": 0.29720423487664877, \"team_id\": \"BOS\", \"year\": 2007, \"g\": 162}, {\"e\": 0.02127659574468085, \"name\": \"Boston Red Sox\", \"w\": 95, \"ws_win\": \"N\", \"div_id\": \"E\", \"rank\": 2, \"era\": 5.2176470588235295, \"ba\": 0.22482836771072062, \"team_id\": \"BOS\", \"year\": 2008, \"g\": 162}, {\"e\": 0.2, \"name\": \"Boston Red Sox\", \"w\": 95, \"ws_win\": \"N\", \"div_id\": \"E\", \"rank\": 2, \"era\": 5.625, \"ba\": 0.13445821854912762, \"team_id\": \"BOS\", \"year\": 2009, \"g\": 162}, {\"e\": 0.15942028985507245, \"name\": \"Boston Red Sox\", \"w\": 97, \"ws_win\": \"Y\", \"div_id\": \"E\", \"rank\": 1, \"era\": 4.850967741935484, \"ba\": 0.19189123729767404, \"team_id\": \"BOS\", \"year\": 2013, \"g\": 162}]}};\n",
       "var selector = \"#e369cc7d-e297-4f63-afc3-07e7db06f4bd\";\n",
       "var type = \"vega-lite\";\n",
       "\n",
       "var output_area = this;\n",
       "require(['nbextensions/jupyter-vega/index'], function(vega) {\n",
       "  vega.render(selector, spec, type, output_area);\n",
       "}, function (err) {\n",
       "  if (err.requireType !== 'scripterror') {\n",
       "    throw(err);\n",
       "  }\n",
       "});\n"
      ]
     },
     "metadata": {
      "jupyter-vega": "#e369cc7d-e297-4f63-afc3-07e7db06f4bd"
     },
     "output_type": "display_data"
    },
    {
     "data": {
      "image/png": "[encoded data removed]"
     },
     "metadata": {
      "jupyter-vega": "#e369cc7d-e297-4f63-afc3-07e7db06f4bd"
     },
     "output_type": "display_data"
    }
   ],
   "source": [
    "Chart(RS_post).mark_circle().encode(\n",
    "    X('year:N'),\n",
    "    Y('ba',axis=Axis(format='.3f')),\n",
    "    Color('ws_win:N',scale=Scale(domain=['N', 'Y'], range=['red', 'green']))\n",
    ")"
   ]
  },
  {
   "cell_type": "markdown",
   "metadata": {},
   "source": [
    "### Red Sox Postseason Fielding Errors"
   ]
  },
  {
   "cell_type": "code",
   "execution_count": 11,
   "metadata": {
    "collapsed": false
   },
   "outputs": [
    {
     "data": {
      "text/html": [
       "<div class=\"vega-embed\" id=\"7f4e3ffa-28d8-4c84-b633-288e8f76de85\"></div>\n",
       "\n",
       "<style>\n",
       ".vega-embed svg, .vega-embed canvas {\n",
       "  border: 1px dotted gray;\n",
       "}\n",
       "\n",
       ".vega-embed .vega-actions a {\n",
       "  margin-right: 6px;\n",
       "}\n",
       "</style>\n"
      ]
     },
     "metadata": {
      "jupyter-vega": "#7f4e3ffa-28d8-4c84-b633-288e8f76de85"
     },
     "output_type": "display_data"
    },
    {
     "data": {
      "application/javascript": [
       "var spec = {\"config\": {\"cell\": {\"height\": 350, \"width\": 500}}, \"mark\": \"circle\", \"encoding\": {\"y\": {\"type\": \"quantitative\", \"field\": \"e\", \"axis\": {\"format\": \".3f\"}}, \"color\": {\"type\": \"nominal\", \"field\": \"ws_win\", \"scale\": {\"domain\": [\"N\", \"Y\"], \"range\": [\"red\", \"green\"]}}, \"x\": {\"type\": \"nominal\", \"field\": \"year\"}}, \"data\": {\"values\": [{\"e\": 0.19047619047619047, \"name\": \"Boston Red Sox\", \"w\": 95, \"ws_win\": \"N\", \"div_id\": \"E\", \"rank\": 2, \"era\": 3.31, \"ba\": 0.222496462042567, \"team_id\": \"BOS\", \"year\": 2003, \"g\": 162}, {\"e\": 0.15384615384615385, \"name\": \"Boston Red Sox\", \"w\": 98, \"ws_win\": \"Y\", \"div_id\": \"E\", \"rank\": 2, \"era\": 4.528333333333333, \"ba\": 0.24095798843079316, \"team_id\": \"BOS\", \"year\": 2004, \"g\": 162}, {\"e\": 0.09523809523809523, \"name\": \"Boston Red Sox\", \"w\": 95, \"ws_win\": \"N\", \"div_id\": \"E\", \"rank\": 2, \"era\": 10.497142857142858, \"ba\": 0.23060424424060785, \"team_id\": \"BOS\", \"year\": 2005, \"g\": 162}, {\"e\": 0.09090909090909091, \"name\": \"Boston Red Sox\", \"w\": 96, \"ws_win\": \"Y\", \"div_id\": \"E\", \"rank\": 1, \"era\": 3.494444444444444, \"ba\": 0.29720423487664877, \"team_id\": \"BOS\", \"year\": 2007, \"g\": 162}, {\"e\": 0.02127659574468085, \"name\": \"Boston Red Sox\", \"w\": 95, \"ws_win\": \"N\", \"div_id\": \"E\", \"rank\": 2, \"era\": 5.2176470588235295, \"ba\": 0.22482836771072062, \"team_id\": \"BOS\", \"year\": 2008, \"g\": 162}, {\"e\": 0.2, \"name\": \"Boston Red Sox\", \"w\": 95, \"ws_win\": \"N\", \"div_id\": \"E\", \"rank\": 2, \"era\": 5.625, \"ba\": 0.13445821854912762, \"team_id\": \"BOS\", \"year\": 2009, \"g\": 162}, {\"e\": 0.15942028985507245, \"name\": \"Boston Red Sox\", \"w\": 97, \"ws_win\": \"Y\", \"div_id\": \"E\", \"rank\": 1, \"era\": 4.850967741935484, \"ba\": 0.19189123729767404, \"team_id\": \"BOS\", \"year\": 2013, \"g\": 162}]}};\n",
       "var selector = \"#7f4e3ffa-28d8-4c84-b633-288e8f76de85\";\n",
       "var type = \"vega-lite\";\n",
       "\n",
       "var output_area = this;\n",
       "require(['nbextensions/jupyter-vega/index'], function(vega) {\n",
       "  vega.render(selector, spec, type, output_area);\n",
       "}, function (err) {\n",
       "  if (err.requireType !== 'scripterror') {\n",
       "    throw(err);\n",
       "  }\n",
       "});\n"
      ]
     },
     "metadata": {
      "jupyter-vega": "#7f4e3ffa-28d8-4c84-b633-288e8f76de85"
     },
     "output_type": "display_data"
    },
    {
     "data": {
      "image/png": "[encoded data removed]"
     },
     "metadata": {
      "jupyter-vega": "#7f4e3ffa-28d8-4c84-b633-288e8f76de85"
     },
     "output_type": "display_data"
    }
   ],
   "source": [
    "Chart(RS_post).mark_circle().encode(\n",
    "    X('year:N'),\n",
    "    Y('e',axis=Axis(format='.3f')),\n",
    "    Color('ws_win:N',scale=Scale(domain=['N', 'Y'], range=['red', 'green']))\n",
    ")"
   ]
  },
  {
   "cell_type": "markdown",
   "metadata": {},
   "source": [
    "Finally, I measured the performance of teams who won the World Series in the postseason against the rest of the teams who made the postseason but did not win. "
   ]
  },
  {
   "cell_type": "code",
   "execution_count": 12,
   "metadata": {
    "collapsed": true
   },
   "outputs": [],
   "source": [
    "winners = grouped_post[grouped_post.ws_win == 'Y']"
   ]
  },
  {
   "cell_type": "code",
   "execution_count": 13,
   "metadata": {
    "collapsed": false
   },
   "outputs": [
    {
     "name": "stderr",
     "output_type": "stream",
     "text": [
      "/opt/conda/lib/python3.5/site-packages/ipykernel/__main__.py:2: SettingWithCopyWarning: \n",
      "A value is trying to be set on a copy of a slice from a DataFrame\n",
      "\n",
      "See the caveats in the documentation: http://pandas.pydata.org/pandas-docs/stable/indexing.html#indexing-view-versus-copy\n",
      "  from ipykernel import kernelapp as app\n",
      "/opt/conda/lib/python3.5/site-packages/IPython/core/interactiveshell.py:2881: SettingWithCopyWarning: \n",
      "A value is trying to be set on a copy of a slice from a DataFrame\n",
      "\n",
      "See the caveats in the documentation: http://pandas.pydata.org/pandas-docs/stable/indexing.html#indexing-view-versus-copy\n",
      "  exec(code_obj, self.user_global_ns, self.user_ns)\n"
     ]
    }
   ],
   "source": [
    "losers = grouped_post[grouped_post.ws_win == 'N']\n",
    "losers['era'][134] = None\n",
    "losers = losers.dropna()"
   ]
  },
  {
   "cell_type": "markdown",
   "metadata": {},
   "source": [
    "### World Series Winners ERA"
   ]
  },
  {
   "cell_type": "code",
   "execution_count": 14,
   "metadata": {
    "collapsed": false,
    "scrolled": true
   },
   "outputs": [
    {
     "data": {
      "text/html": [
       "<div class=\"vega-embed\" id=\"e83c2898-8eec-4dd8-ae43-1190ce66b06f\"></div>\n",
       "\n",
       "<style>\n",
       ".vega-embed svg, .vega-embed canvas {\n",
       "  border: 1px dotted gray;\n",
       "}\n",
       "\n",
       ".vega-embed .vega-actions a {\n",
       "  margin-right: 6px;\n",
       "}\n",
       "</style>\n"
      ]
     },
     "metadata": {
      "jupyter-vega": "#e83c2898-8eec-4dd8-ae43-1190ce66b06f"
     },
     "output_type": "display_data"
    },
    {
     "data": {
      "application/javascript": [
       "var spec = {\"config\": {\"cell\": {\"height\": 200.0, \"width\": 100.0}}, \"mark\": \"bar\", \"encoding\": {\"y\": {\"type\": \"quantitative\", \"field\": \"era\"}, \"x\": {\"type\": \"nominal\", \"field\": \"year\"}}, \"data\": {\"values\": [{\"e\": 0.08196721311475409, \"name\": \"New York Yankees\", \"w\": 87, \"ws_win\": \"Y\", \"div_id\": \"E\", \"rank\": 1, \"era\": 3.004583333333333, \"ba\": 0.2671265577940884, \"team_id\": \"NYA\", \"year\": 2000, \"g\": 161}, {\"e\": 0.14925373134328357, \"name\": \"Arizona Diamondbacks\", \"w\": 92, \"ws_win\": \"Y\", \"div_id\": \"W\", \"rank\": 1, \"era\": 5.5112499999999995, \"ba\": 0.2024632460359264, \"team_id\": \"ARI\", \"year\": 2001, \"g\": 162}, {\"e\": 0.14516129032258066, \"name\": \"Anaheim Angels\", \"w\": 99, \"ws_win\": \"Y\", \"div_id\": \"W\", \"rank\": 2, \"era\": 5.655, \"ba\": 0.3163135311080221, \"team_id\": \"ANA\", \"year\": 2002, \"g\": 162}, {\"e\": 0.1111111111111111, \"name\": \"Florida Marlins\", \"w\": 91, \"ws_win\": \"Y\", \"div_id\": \"E\", \"rank\": 2, \"era\": 5.948965517241379, \"ba\": 0.23385109260121886, \"team_id\": \"FLO\", \"year\": 2003, \"g\": 162}, {\"e\": 0.15384615384615385, \"name\": \"Boston Red Sox\", \"w\": 98, \"ws_win\": \"Y\", \"div_id\": \"E\", \"rank\": 2, \"era\": 4.528333333333333, \"ba\": 0.24095798843079316, \"team_id\": \"BOS\", \"year\": 2004, \"g\": 162}, {\"e\": 0.12962962962962962, \"name\": \"Chicago White Sox\", \"w\": 99, \"ws_win\": \"Y\", \"div_id\": \"C\", \"rank\": 1, \"era\": 1.8095454545454546, \"ba\": 0.29198478500916586, \"team_id\": \"CHA\", \"year\": 2005, \"g\": 162}, {\"e\": 0.1388888888888889, \"name\": \"St. Louis Cardinals\", \"w\": 83, \"ws_win\": \"Y\", \"div_id\": \"C\", \"rank\": 1, \"era\": 2.36, \"ba\": 0.23225680886170852, \"team_id\": \"SLN\", \"year\": 2006, \"g\": 161}, {\"e\": 0.09090909090909091, \"name\": \"Boston Red Sox\", \"w\": 96, \"ws_win\": \"Y\", \"div_id\": \"E\", \"rank\": 1, \"era\": 3.494444444444444, \"ba\": 0.29720423487664877, \"team_id\": \"BOS\", \"year\": 2007, \"g\": 162}, {\"e\": 0.16129032258064516, \"name\": \"Philadelphia Phillies\", \"w\": 92, \"ws_win\": \"Y\", \"div_id\": \"E\", \"rank\": 1, \"era\": 3.808620689655172, \"ba\": 0.2674805684511567, \"team_id\": \"PHI\", \"year\": 2008, \"g\": 162}, {\"e\": 0.07042253521126761, \"name\": \"New York Yankees\", \"w\": 103, \"ws_win\": \"Y\", \"div_id\": \"E\", \"rank\": 1, \"era\": 4.115172413793104, \"ba\": 0.2312022002393416, \"team_id\": \"NYA\", \"year\": 2009, \"g\": 162}, {\"e\": 0.1388888888888889, \"name\": \"San Francisco Giants\", \"w\": 92, \"ws_win\": \"Y\", \"div_id\": \"W\", \"rank\": 1, \"era\": 3.1171428571428565, \"ba\": 0.2112957787055504, \"team_id\": \"SFN\", \"year\": 2010, \"g\": 162}, {\"e\": 0.1388888888888889, \"name\": \"St. Louis Cardinals\", \"w\": 90, \"ws_win\": \"Y\", \"div_id\": \"C\", \"rank\": 2, \"era\": 4.993823529411765, \"ba\": 0.23451321237315725, \"team_id\": \"SLN\", \"year\": 2011, \"g\": 162}, {\"e\": 0.09859154929577464, \"name\": \"San Francisco Giants\", \"w\": 94, \"ws_win\": \"Y\", \"div_id\": \"W\", \"rank\": 1, \"era\": 7.37294117647059, \"ba\": 0.19111625552850423, \"team_id\": \"SFN\", \"year\": 2012, \"g\": 162}, {\"e\": 0.15942028985507245, \"name\": \"Boston Red Sox\", \"w\": 97, \"ws_win\": \"Y\", \"div_id\": \"E\", \"rank\": 1, \"era\": 4.850967741935484, \"ba\": 0.19189123729767404, \"team_id\": \"BOS\", \"year\": 2013, \"g\": 162}, {\"e\": 0.06493506493506493, \"name\": \"San Francisco Giants\", \"w\": 88, \"ws_win\": \"Y\", \"div_id\": \"W\", \"rank\": 2, \"era\": 3.7394285714285713, \"ba\": 0.24868216211537503, \"team_id\": \"SFN\", \"year\": 2014, \"g\": 162}, {\"e\": 0.047619047619047616, \"name\": \"Kansas City Royals\", \"w\": 95, \"ws_win\": \"Y\", \"div_id\": \"C\", \"rank\": 1, \"era\": 7.9080645161290315, \"ba\": 0.252518605863676, \"team_id\": \"KCA\", \"year\": 2015, \"g\": 162}]}};\n",
       "var selector = \"#e83c2898-8eec-4dd8-ae43-1190ce66b06f\";\n",
       "var type = \"vega-lite\";\n",
       "\n",
       "var output_area = this;\n",
       "require(['nbextensions/jupyter-vega/index'], function(vega) {\n",
       "  vega.render(selector, spec, type, output_area);\n",
       "}, function (err) {\n",
       "  if (err.requireType !== 'scripterror') {\n",
       "    throw(err);\n",
       "  }\n",
       "});\n"
      ]
     },
     "metadata": {
      "jupyter-vega": "#e83c2898-8eec-4dd8-ae43-1190ce66b06f"
     },
     "output_type": "display_data"
    },
    {
     "data": {
      "image/png": "[encoded data removed]"
     },
     "metadata": {
      "jupyter-vega": "#e83c2898-8eec-4dd8-ae43-1190ce66b06f"
     },
     "output_type": "display_data"
    }
   ],
   "source": [
    "Chart(winners).mark_bar().encode(\n",
    "    X('year:N'),\n",
    "    Y('era')\n",
    ").configure_cell(width = 100, height = 200)"
   ]
  },
  {
   "cell_type": "markdown",
   "metadata": {},
   "source": [
    "### Non-World Series Winners ERA"
   ]
  },
  {
   "cell_type": "code",
   "execution_count": 15,
   "metadata": {
    "collapsed": false,
    "scrolled": true
   },
   "outputs": [
    {
     "data": {
      "text/html": [
       "<div class=\"vega-embed\" id=\"fccdae21-ec0b-4c62-8ffc-fa503822159b\"></div>\n",
       "\n",
       "<style>\n",
       ".vega-embed svg, .vega-embed canvas {\n",
       "  border: 1px dotted gray;\n",
       "}\n",
       "\n",
       ".vega-embed .vega-actions a {\n",
       "  margin-right: 6px;\n",
       "}\n",
       "</style>\n"
      ]
     },
     "metadata": {
      "jupyter-vega": "#fccdae21-ec0b-4c62-8ffc-fa503822159b"
     },
     "output_type": "display_data"
    },
    {
     "data": {
      "application/javascript": [
       "var spec = {\"config\": {\"cell\": {\"height\": 200.0, \"width\": 100.0}}, \"mark\": \"bar\", \"encoding\": {\"y\": {\"type\": \"quantitative\", \"field\": \"era\", \"aggregate\": \"average\"}, \"x\": {\"type\": \"nominal\", \"field\": \"year\"}}, \"data\": {\"values\": [{\"e\": 0.23809523809523808, \"name\": \"Atlanta Braves\", \"w\": 95, \"ws_win\": \"N\", \"div_id\": \"E\", \"rank\": 1, \"era\": 7.62888888888889, \"ba\": 0.17593118686868683, \"team_id\": \"ATL\", \"year\": 2000, \"g\": 162}, {\"e\": 0.08695652173913043, \"name\": \"Chicago White Sox\", \"w\": 95, \"ws_win\": \"N\", \"div_id\": \"C\", \"rank\": 1, \"era\": 3.856666666666667, \"ba\": 0.17378328741965107, \"team_id\": \"CHA\", \"year\": 2000, \"g\": 162}, {\"e\": 0.1232876712328767, \"name\": \"New York Mets\", \"w\": 94, \"ws_win\": \"N\", \"div_id\": \"E\", \"rank\": 2, \"era\": 3.388620689655173, \"ba\": 0.18210042204853463, \"team_id\": \"NYN\", \"year\": 2000, \"g\": 162}, {\"e\": 0.2, \"name\": \"Oakland Athletics\", \"w\": 91, \"ws_win\": \"N\", \"div_id\": \"W\", \"rank\": 1, \"era\": 2.36, \"ba\": 0.32395921204566125, \"team_id\": \"OAK\", \"year\": 2000, \"g\": 161}, {\"e\": 0.08163265306122448, \"name\": \"Seattle Mariners\", \"w\": 91, \"ws_win\": \"N\", \"div_id\": \"W\", \"rank\": 2, \"era\": 3.132941176470588, \"ba\": 0.2422544717187574, \"team_id\": \"SEA\", \"year\": 2000, \"g\": 162}, {\"e\": 0.04, \"name\": \"San Francisco Giants\", \"w\": 97, \"ws_win\": \"N\", \"div_id\": \"W\", \"rank\": 1, \"era\": 2.9454545454545458, \"ba\": 0.1766863759078292, \"team_id\": \"SFN\", \"year\": 2000, \"g\": 162}, {\"e\": 0.1702127659574468, \"name\": \"St. Louis Cardinals\", \"w\": 95, \"ws_win\": \"N\", \"div_id\": \"C\", \"rank\": 1, \"era\": 4.5488888888888885, \"ba\": 0.2319219735460145, \"team_id\": \"SLN\", \"year\": 2000, \"g\": 162}, {\"e\": 0.19047619047619047, \"name\": \"Atlanta Braves\", \"w\": 88, \"ws_win\": \"N\", \"div_id\": \"E\", \"rank\": 1, \"era\": 1.41, \"ba\": 0.23606071638291803, \"team_id\": \"ATL\", \"year\": 2001, \"g\": 162}, {\"e\": 0.14285714285714285, \"name\": \"Cleveland Indians\", \"w\": 91, \"ws_win\": \"N\", \"div_id\": \"C\", \"rank\": 1, \"era\": 3.0309999999999997, \"ba\": 0.2998870397094418, \"team_id\": \"CLE\", \"year\": 2001, \"g\": 162}, {\"e\": 0.15789473684210525, \"name\": \"Houston Astros\", \"w\": 93, \"ws_win\": \"N\", \"div_id\": \"C\", \"rank\": 1, \"era\": 6.485555555555555, \"ba\": 0.18185200216450215, \"team_id\": \"HOU\", \"year\": 2001, \"g\": 162}, {\"e\": 0.2318840579710145, \"name\": \"New York Yankees\", \"w\": 95, \"ws_win\": \"N\", \"div_id\": \"E\", \"rank\": 1, \"era\": 6.187142857142858, \"ba\": 0.20701449170744426, \"team_id\": \"NYA\", \"year\": 2001, \"g\": 161}, {\"e\": 0.2608695652173913, \"name\": \"Oakland Athletics\", \"w\": 102, \"ws_win\": \"N\", \"div_id\": \"W\", \"rank\": 2, \"era\": 5.9736363636363645, \"ba\": 0.20423542377323892, \"team_id\": \"OAK\", \"year\": 2001, \"g\": 162}, {\"e\": 0.12, \"name\": \"Seattle Mariners\", \"w\": 116, \"ws_win\": \"N\", \"div_id\": \"W\", \"rank\": 1, \"era\": 7.808571428571428, \"ba\": 0.1943724470219937, \"team_id\": \"SEA\", \"year\": 2001, \"g\": 162}, {\"e\": 0.12, \"name\": \"St. Louis Cardinals\", \"w\": 93, \"ws_win\": \"N\", \"div_id\": \"C\", \"rank\": 2, \"era\": 5.54111111111111, \"ba\": 0.16382948280598986, \"team_id\": \"SLN\", \"year\": 2001, \"g\": 162}, {\"e\": 0.08333333333333333, \"name\": \"Arizona Diamondbacks\", \"w\": 98, \"ws_win\": \"N\", \"div_id\": \"W\", \"rank\": 1, \"era\": 10.817777777777778, \"ba\": 0.15662344191755956, \"team_id\": \"ARI\", \"year\": 2002, \"g\": 162}, {\"e\": 0.0, \"name\": \"Atlanta Braves\", \"w\": 101, \"ws_win\": \"N\", \"div_id\": \"E\", \"rank\": 1, \"era\": 3.775555555555555, \"ba\": 0.23468868458467917, \"team_id\": \"ATL\", \"year\": 2002, \"g\": 161}, {\"e\": 0.16, \"name\": \"Minnesota Twins\", \"w\": 94, \"ws_win\": \"N\", \"div_id\": \"C\", \"rank\": 1, \"era\": 5.36578947368421, \"ba\": 0.26767738434405103, \"team_id\": \"MIN\", \"year\": 2002, \"g\": 161}, {\"e\": 0.19047619047619047, \"name\": \"New York Yankees\", \"w\": 103, \"ws_win\": \"N\", \"div_id\": \"E\", \"rank\": 1, \"era\": 7.694444444444445, \"ba\": 0.2786902639843816, \"team_id\": \"NYA\", \"year\": 2002, \"g\": 161}, {\"e\": 0.11538461538461539, \"name\": \"Oakland Athletics\", \"w\": 103, \"ws_win\": \"N\", \"div_id\": \"W\", \"rank\": 1, \"era\": 4.431, \"ba\": 0.2516059055201028, \"team_id\": \"OAK\", \"year\": 2002, \"g\": 162}, {\"e\": 0.15625, \"name\": \"San Francisco Giants\", \"w\": 95, \"ws_win\": \"N\", \"div_id\": \"W\", \"rank\": 2, \"era\": 4.557142857142858, \"ba\": 0.18905110819360804, \"team_id\": \"SFN\", \"year\": 2002, \"g\": 162}, {\"e\": 0.06666666666666667, \"name\": \"St. Louis Cardinals\", \"w\": 97, \"ws_win\": \"N\", \"div_id\": \"C\", \"rank\": 1, \"era\": 2.834705882352941, \"ba\": 0.23384216501779428, \"team_id\": \"SLN\", \"year\": 2002, \"g\": 162}, {\"e\": 0.2608695652173913, \"name\": \"Atlanta Braves\", \"w\": 101, \"ws_win\": \"N\", \"div_id\": \"E\", \"rank\": 1, \"era\": 2.968888888888889, \"ba\": 0.19319475158484448, \"team_id\": \"ATL\", \"year\": 2003, \"g\": 162}, {\"e\": 0.19047619047619047, \"name\": \"Boston Red Sox\", \"w\": 95, \"ws_win\": \"N\", \"div_id\": \"E\", \"rank\": 2, \"era\": 3.31, \"ba\": 0.222496462042567, \"team_id\": \"BOS\", \"year\": 2003, \"g\": 162}, {\"e\": 0.0851063829787234, \"name\": \"Chicago Cubs\", \"w\": 88, \"ws_win\": \"N\", \"div_id\": \"C\", \"rank\": 1, \"era\": 4.849523809523809, \"ba\": 0.23277338083624757, \"team_id\": \"CHN\", \"year\": 2003, \"g\": 162}, {\"e\": 0.1, \"name\": \"Minnesota Twins\", \"w\": 90, \"ws_win\": \"N\", \"div_id\": \"C\", \"rank\": 1, \"era\": 3.035, \"ba\": 0.16770243645243643, \"team_id\": \"MIN\", \"year\": 2003, \"g\": 162}, {\"e\": 0.20634920634920634, \"name\": \"New York Yankees\", \"w\": 101, \"ws_win\": \"N\", \"div_id\": \"E\", \"rank\": 1, \"era\": 2.704166666666666, \"ba\": 0.23831767617227234, \"team_id\": \"NYA\", \"year\": 2003, \"g\": 163}, {\"e\": 0.20833333333333334, \"name\": \"Oakland Athletics\", \"w\": 96, \"ws_win\": \"N\", \"div_id\": \"W\", \"rank\": 1, \"era\": 3.6755555555555555, \"ba\": 0.25491215781398746, \"team_id\": \"OAK\", \"year\": 2003, \"g\": 162}, {\"e\": 0.28, \"name\": \"San Francisco Giants\", \"w\": 100, \"ws_win\": \"N\", \"div_id\": \"W\", \"rank\": 1, \"era\": 3.255, \"ba\": 0.21514333897551888, \"team_id\": \"SFN\", \"year\": 2003, \"g\": 161}, {\"e\": 0.15, \"name\": \"Anaheim Angels\", \"w\": 92, \"ws_win\": \"N\", \"div_id\": \"W\", \"rank\": 1, \"era\": 5.394285714285714, \"ba\": 0.1765321979607694, \"team_id\": \"ANA\", \"year\": 2004, \"g\": 162}, {\"e\": 0.043478260869565216, \"name\": \"Atlanta Braves\", \"w\": 96, \"ws_win\": \"N\", \"div_id\": \"E\", \"rank\": 1, \"era\": 6.792, \"ba\": 0.27473549791433605, \"team_id\": \"ATL\", \"year\": 2004, \"g\": 162}, {\"e\": 0.1, \"name\": \"Houston Astros\", \"w\": 92, \"ws_win\": \"N\", \"div_id\": \"C\", \"rank\": 2, \"era\": 6.294736842105263, \"ba\": 0.20400474038631936, \"team_id\": \"HOU\", \"year\": 2004, \"g\": 162}, {\"e\": 0.15, \"name\": \"Los Angeles Dodgers\", \"w\": 93, \"ws_win\": \"N\", \"div_id\": \"W\", \"rank\": 1, \"era\": 5.5520000000000005, \"ba\": 0.17770284250063662, \"team_id\": \"LAN\", \"year\": 2004, \"g\": 162}, {\"e\": 0.08333333333333333, \"name\": \"Minnesota Twins\", \"w\": 92, \"ws_win\": \"N\", \"div_id\": \"C\", \"rank\": 1, \"era\": 4.956, \"ba\": 0.22820323933769315, \"team_id\": \"MIN\", \"year\": 2004, \"g\": 162}, {\"e\": 0.12195121951219512, \"name\": \"New York Yankees\", \"w\": 101, \"ws_win\": \"N\", \"div_id\": \"E\", \"rank\": 1, \"era\": 7.046842105263157, \"ba\": 0.25940462007375026, \"team_id\": \"NYA\", \"year\": 2004, \"g\": 162}, {\"e\": 0.028169014084507043, \"name\": \"St. Louis Cardinals\", \"w\": 105, \"ws_win\": \"N\", \"div_id\": \"C\", \"rank\": 1, \"era\": 4.840967741935484, \"ba\": 0.20429048114619802, \"team_id\": \"SLN\", \"year\": 2004, \"g\": 162}, {\"e\": 0.0, \"name\": \"Atlanta Braves\", \"w\": 90, \"ws_win\": \"N\", \"div_id\": \"E\", \"rank\": 1, \"era\": 2.8657142857142857, \"ba\": 0.2505142252979623, \"team_id\": \"ATL\", \"year\": 2005, \"g\": 162}, {\"e\": 0.09523809523809523, \"name\": \"Boston Red Sox\", \"w\": 95, \"ws_win\": \"N\", \"div_id\": \"E\", \"rank\": 2, \"era\": 10.497142857142858, \"ba\": 0.23060424424060785, \"team_id\": \"BOS\", \"year\": 2005, \"g\": 162}, {\"e\": 0.10714285714285714, \"name\": \"Houston Astros\", \"w\": 89, \"ws_win\": \"N\", \"div_id\": \"C\", \"rank\": 2, \"era\": 4.477096774193548, \"ba\": 0.21200187399161013, \"team_id\": \"HOU\", \"year\": 2005, \"g\": 163}, {\"e\": 0.17777777777777778, \"name\": \"Los Angeles Angels of Anaheim\", \"w\": 95, \"ws_win\": \"N\", \"div_id\": \"W\", \"rank\": 1, \"era\": 5.010555555555555, \"ba\": 0.25478079333806886, \"team_id\": \"LAA\", \"year\": 2005, \"g\": 162}, {\"e\": 0.2608695652173913, \"name\": \"New York Yankees\", \"w\": 95, \"ws_win\": \"N\", \"div_id\": \"E\", \"rank\": 1, \"era\": 5.148888888888889, \"ba\": 0.24192912350807083, \"team_id\": \"NYA\", \"year\": 2005, \"g\": 162}, {\"e\": 0.08333333333333333, \"name\": \"San Diego Padres\", \"w\": 82, \"ws_win\": \"N\", \"div_id\": \"W\", \"rank\": 1, \"era\": 6.442222222222223, \"ba\": 0.2551670551670552, \"team_id\": \"SDN\", \"year\": 2005, \"g\": 162}, {\"e\": 0.1590909090909091, \"name\": \"St. Louis Cardinals\", \"w\": 100, \"ws_win\": \"N\", \"div_id\": \"C\", \"rank\": 1, \"era\": 5.151764705882353, \"ba\": 0.17124680815148488, \"team_id\": \"SLN\", \"year\": 2005, \"g\": 162}, {\"e\": 0.16393442622950818, \"name\": \"Detroit Tigers\", \"w\": 95, \"ws_win\": \"N\", \"div_id\": \"C\", \"rank\": 2, \"era\": 2.297931034482759, \"ba\": 0.2271046257759364, \"team_id\": \"DET\", \"year\": 2006, \"g\": 162}, {\"e\": 0.17391304347826086, \"name\": \"Los Angeles Dodgers\", \"w\": 88, \"ws_win\": \"N\", \"div_id\": \"W\", \"rank\": 2, \"era\": 6.711111111111111, \"ba\": 0.23278457653457657, \"team_id\": \"LAN\", \"year\": 2006, \"g\": 162}, {\"e\": 0.2777777777777778, \"name\": \"Minnesota Twins\", \"w\": 96, \"ws_win\": \"N\", \"div_id\": \"C\", \"rank\": 1, \"era\": 4.2, \"ba\": 0.225, \"team_id\": \"MIN\", \"year\": 2006, \"g\": 162}, {\"e\": 0.13636363636363635, \"name\": \"New York Yankees\", \"w\": 97, \"ws_win\": \"N\", \"div_id\": \"E\", \"rank\": 1, \"era\": 5.314, \"ba\": 0.18597689075630255, \"team_id\": \"NYA\", \"year\": 2006, \"g\": 162}, {\"e\": 0.1794871794871795, \"name\": \"New York Mets\", \"w\": 97, \"ws_win\": \"N\", \"div_id\": \"E\", \"rank\": 1, \"era\": 6.506842105263158, \"ba\": 0.19207626776551295, \"team_id\": \"NYN\", \"year\": 2006, \"g\": 162}, {\"e\": 0.12121212121212122, \"name\": \"Oakland Athletics\", \"w\": 93, \"ws_win\": \"N\", \"div_id\": \"W\", \"rank\": 1, \"era\": 4.050714285714286, \"ba\": 0.20382768492012188, \"team_id\": \"OAK\", \"year\": 2006, \"g\": 162}, {\"e\": 0.04, \"name\": \"San Diego Padres\", \"w\": 88, \"ws_win\": \"N\", \"div_id\": \"W\", \"rank\": 1, \"era\": 2.321818181818182, \"ba\": 0.20769485144485145, \"team_id\": \"SDN\", \"year\": 2006, \"g\": 162}, {\"e\": 0.15, \"name\": \"Arizona Diamondbacks\", \"w\": 90, \"ws_win\": \"N\", \"div_id\": \"W\", \"rank\": 1, \"era\": 1.9764705882352942, \"ba\": 0.2594885302605891, \"team_id\": \"ARI\", \"year\": 2007, \"g\": 162}, {\"e\": 0.0, \"name\": \"Chicago Cubs\", \"w\": 85, \"ws_win\": \"N\", \"div_id\": \"C\", \"rank\": 1, \"era\": 6.300000000000001, \"ba\": 0.173859126984127, \"team_id\": \"CHN\", \"year\": 2007, \"g\": 162}, {\"e\": 0.16279069767441862, \"name\": \"Cleveland Indians\", \"w\": 96, \"ws_win\": \"N\", \"div_id\": \"C\", \"rank\": 1, \"era\": 6.5, \"ba\": 0.32682531539611803, \"team_id\": \"CLE\", \"year\": 2007, \"g\": 162}, {\"e\": 0.047619047619047616, \"name\": \"Colorado Rockies\", \"w\": 90, \"ws_win\": \"N\", \"div_id\": \"W\", \"rank\": 2, \"era\": 4.135714285714285, \"ba\": 0.22333142973005307, \"team_id\": \"COL\", \"year\": 2007, \"g\": 163}, {\"e\": 0.0, \"name\": \"Los Angeles Angels of Anaheim\", \"w\": 94, \"ws_win\": \"N\", \"div_id\": \"W\", \"rank\": 1, \"era\": 13.916666666666666, \"ba\": 0.13649572649572647, \"team_id\": \"LAA\", \"year\": 2007, \"g\": 162}, {\"e\": 0.043478260869565216, \"name\": \"New York Yankees\", \"w\": 94, \"ws_win\": \"N\", \"div_id\": \"E\", \"rank\": 2, \"era\": 6.790833333333333, \"ba\": 0.2339605952573867, \"team_id\": \"NYA\", \"year\": 2007, \"g\": 162}, {\"e\": 0.0, \"name\": \"Philadelphia Phillies\", \"w\": 89, \"ws_win\": \"N\", \"div_id\": \"E\", \"rank\": 1, \"era\": 11.997, \"ba\": 0.11378490790255495, \"team_id\": \"PHI\", \"year\": 2007, \"g\": 162}, {\"e\": 0.02127659574468085, \"name\": \"Boston Red Sox\", \"w\": 95, \"ws_win\": \"N\", \"div_id\": \"E\", \"rank\": 2, \"era\": 5.2176470588235295, \"ba\": 0.22482836771072062, \"team_id\": \"BOS\", \"year\": 2008, \"g\": 162}, {\"e\": 0.047619047619047616, \"name\": \"Chicago White Sox\", \"w\": 89, \"ws_win\": \"N\", \"div_id\": \"C\", \"rank\": 1, \"era\": 4.545, \"ba\": 0.2249542124542124, \"team_id\": \"CHA\", \"year\": 2008, \"g\": 163}, {\"e\": 0.3, \"name\": \"Chicago Cubs\", \"w\": 97, \"ws_win\": \"N\", \"div_id\": \"C\", \"rank\": 1, \"era\": 5.072222222222222, \"ba\": 0.23486513486513486, \"team_id\": \"CHN\", \"year\": 2008, \"g\": 161}, {\"e\": 0.21052631578947367, \"name\": \"Los Angeles Angels of Anaheim\", \"w\": 100, \"ws_win\": \"N\", \"div_id\": \"W\", \"rank\": 1, \"era\": 3.90625, \"ba\": 0.28476737186102513, \"team_id\": \"LAA\", \"year\": 2008, \"g\": 162}, {\"e\": 0.14285714285714285, \"name\": \"Los Angeles Dodgers\", \"w\": 84, \"ws_win\": \"N\", \"div_id\": \"W\", \"rank\": 1, \"era\": 2.9718750000000003, \"ba\": 0.21611431903427306, \"team_id\": \"LAN\", \"year\": 2008, \"g\": 162}, {\"e\": 0.045454545454545456, \"name\": \"Milwaukee Brewers\", \"w\": 90, \"ws_win\": \"N\", \"div_id\": \"C\", \"rank\": 2, \"era\": 3.1236363636363635, \"ba\": 0.20093578296703296, \"team_id\": \"MIL\", \"year\": 2008, \"g\": 162}, {\"e\": 0.16923076923076924, \"name\": \"Tampa Bay Rays\", \"w\": 97, \"ws_win\": \"N\", \"div_id\": \"E\", \"rank\": 1, \"era\": 4.1, \"ba\": 0.24432931351354556, \"team_id\": \"TBA\", \"year\": 2008, \"g\": 162}, {\"e\": 0.2, \"name\": \"Boston Red Sox\", \"w\": 95, \"ws_win\": \"N\", \"div_id\": \"E\", \"rank\": 2, \"era\": 5.625, \"ba\": 0.13445821854912762, \"team_id\": \"BOS\", \"year\": 2009, \"g\": 162}, {\"e\": 0.08695652173913043, \"name\": \"Colorado Rockies\", \"w\": 92, \"ws_win\": \"N\", \"div_id\": \"W\", \"rank\": 2, \"era\": 4.233, \"ba\": 0.20834304074193782, \"team_id\": \"COL\", \"year\": 2009, \"g\": 162}, {\"e\": 0.225, \"name\": \"Los Angeles Angels of Anaheim\", \"w\": 97, \"ws_win\": \"N\", \"div_id\": \"W\", \"rank\": 1, \"era\": 3.7326666666666664, \"ba\": 0.23250366850004534, \"team_id\": \"LAA\", \"year\": 2009, \"g\": 162}, {\"e\": 0.0, \"name\": \"Los Angeles Dodgers\", \"w\": 95, \"ws_win\": \"N\", \"div_id\": \"W\", \"rank\": 1, \"era\": 5.946315789473684, \"ba\": 0.22587178784467135, \"team_id\": \"LAN\", \"year\": 2009, \"g\": 162}, {\"e\": 0.1, \"name\": \"Minnesota Twins\", \"w\": 87, \"ws_win\": \"N\", \"div_id\": \"C\", \"rank\": 1, \"era\": 4.671428571428572, \"ba\": 0.22257187257187258, \"team_id\": \"MIN\", \"year\": 2009, \"g\": 163}, {\"e\": 0.11290322580645161, \"name\": \"Philadelphia Phillies\", \"w\": 93, \"ws_win\": \"N\", \"div_id\": \"E\", \"rank\": 1, \"era\": 4.984285714285714, \"ba\": 0.19027653394683502, \"team_id\": \"PHI\", \"year\": 2009, \"g\": 162}, {\"e\": 0.09523809523809523, \"name\": \"St. Louis Cardinals\", \"w\": 91, \"ws_win\": \"N\", \"div_id\": \"C\", \"rank\": 1, \"era\": 2.183, \"ba\": 0.1720886752136752, \"team_id\": \"SLN\", \"year\": 2009, \"g\": 162}, {\"e\": 0.30434782608695654, \"name\": \"Atlanta Braves\", \"w\": 91, \"ws_win\": \"N\", \"div_id\": \"E\", \"rank\": 2, \"era\": 1.912857142857143, \"ba\": 0.17448142135642133, \"team_id\": \"ATL\", \"year\": 2010, \"g\": 162}, {\"e\": 0.3181818181818182, \"name\": \"Cincinnati Reds\", \"w\": 91, \"ws_win\": \"N\", \"div_id\": \"C\", \"rank\": 1, \"era\": 2.9590000000000005, \"ba\": 0.06783592224768695, \"team_id\": \"CIN\", \"year\": 2010, \"g\": 162}, {\"e\": 0.05, \"name\": \"Minnesota Twins\", \"w\": 94, \"ws_win\": \"N\", \"div_id\": \"C\", \"rank\": 1, \"era\": 9.270999999999999, \"ba\": 0.20315548648881981, \"team_id\": \"MIN\", \"year\": 2010, \"g\": 162}, {\"e\": 0.024390243902439025, \"name\": \"New York Yankees\", \"w\": 95, \"ws_win\": \"N\", \"div_id\": \"E\", \"rank\": 2, \"era\": 4.3494117647058825, \"ba\": 0.2483102035680733, \"team_id\": \"NYA\", \"year\": 2010, \"g\": 162}, {\"e\": 0.16666666666666666, \"name\": \"Philadelphia Phillies\", \"w\": 97, \"ws_win\": \"N\", \"div_id\": \"E\", \"rank\": 1, \"era\": 2.2794444444444446, \"ba\": 0.20104122120022064, \"team_id\": \"PHI\", \"year\": 2010, \"g\": 162}, {\"e\": 0.19230769230769232, \"name\": \"Tampa Bay Rays\", \"w\": 96, \"ws_win\": \"N\", \"div_id\": \"E\", \"rank\": 1, \"era\": 3.4709090909090907, \"ba\": 0.17534391534391539, \"team_id\": \"TBA\", \"year\": 2010, \"g\": 162}, {\"e\": 0.17142857142857143, \"name\": \"Texas Rangers\", \"w\": 90, \"ws_win\": \"N\", \"div_id\": \"W\", \"rank\": 1, \"era\": 4.002592592592593, \"ba\": 0.21097679557054322, \"team_id\": \"TEX\", \"year\": 2010, \"g\": 162}, {\"e\": 0.043478260869565216, \"name\": \"Arizona Diamondbacks\", \"w\": 94, \"ws_win\": \"N\", \"div_id\": \"W\", \"rank\": 1, \"era\": 15.04090909090909, \"ba\": 0.2358094837261504, \"team_id\": \"ARI\", \"year\": 2011, \"g\": 162}, {\"e\": 0.10869565217391304, \"name\": \"Detroit Tigers\", \"w\": 95, \"ws_win\": \"N\", \"div_id\": \"C\", \"rank\": 1, \"era\": 10.737, \"ba\": 0.22422218689015028, \"team_id\": \"DET\", \"year\": 2011, \"g\": 162}, {\"e\": 0.2608695652173913, \"name\": \"Milwaukee Brewers\", \"w\": 96, \"ws_win\": \"N\", \"div_id\": \"C\", \"rank\": 1, \"era\": 5.917272727272728, \"ba\": 0.18762966016802332, \"team_id\": \"MIL\", \"year\": 2011, \"g\": 162}, {\"e\": 0.043478260869565216, \"name\": \"New York Yankees\", \"w\": 97, \"ws_win\": \"N\", \"div_id\": \"E\", \"rank\": 1, \"era\": 2.3527272727272726, \"ba\": 0.2769410528698454, \"team_id\": \"NYA\", \"year\": 2011, \"g\": 162}, {\"e\": 0.15789473684210525, \"name\": \"Philadelphia Phillies\", \"w\": 102, \"ws_win\": \"N\", \"div_id\": \"E\", \"rank\": 1, \"era\": 10.708, \"ba\": 0.19061451883384933, \"team_id\": \"PHI\", \"year\": 2011, \"g\": 162}, {\"e\": 0.0, \"name\": \"Tampa Bay Rays\", \"w\": 91, \"ws_win\": \"N\", \"div_id\": \"E\", \"rank\": 2, \"era\": 3.5566666666666666, \"ba\": 0.19115021008403363, \"team_id\": \"TBA\", \"year\": 2011, \"g\": 162}, {\"e\": 0.17142857142857143, \"name\": \"Texas Rangers\", \"w\": 96, \"ws_win\": \"N\", \"div_id\": \"W\", \"rank\": 1, \"era\": 4.595757575757576, \"ba\": 0.21398985039451568, \"team_id\": \"TEX\", \"year\": 2011, \"g\": 162}, {\"e\": 0.23076923076923078, \"name\": \"Atlanta Braves\", \"w\": 94, \"ws_win\": \"N\", \"div_id\": \"E\", \"rank\": 2, \"era\": 0.71, \"ba\": 0.35500000000000004, \"team_id\": \"ATL\", \"year\": 2012, \"g\": 162}, {\"e\": 0.15384615384615385, \"name\": \"Baltimore Orioles\", \"w\": 93, \"ws_win\": \"N\", \"div_id\": \"E\", \"rank\": 2, \"era\": 1.7353333333333334, \"ba\": 0.23392574591347212, \"team_id\": \"BAL\", \"year\": 2012, \"g\": 162}, {\"e\": 0.1111111111111111, \"name\": \"Cincinnati Reds\", \"w\": 97, \"ws_win\": \"N\", \"div_id\": \"C\", \"rank\": 1, \"era\": 3.4499999999999997, \"ba\": 0.19494453726909866, \"team_id\": \"CIN\", \"year\": 2012, \"g\": 162}, {\"e\": 0.0684931506849315, \"name\": \"Detroit Tigers\", \"w\": 88, \"ws_win\": \"N\", \"div_id\": \"C\", \"rank\": 1, \"era\": 5.700666666666667, \"ba\": 0.19001150852931037, \"team_id\": \"DET\", \"year\": 2012, \"g\": 162}, {\"e\": 0.10526315789473684, \"name\": \"New York Yankees\", \"w\": 95, \"ws_win\": \"N\", \"div_id\": \"E\", \"rank\": 1, \"era\": 2.9060869565217393, \"ba\": 0.1846546546437514, \"team_id\": \"NYA\", \"year\": 2012, \"g\": 162}, {\"e\": 0.15, \"name\": \"Oakland Athletics\", \"w\": 94, \"ws_win\": \"N\", \"div_id\": \"W\", \"rank\": 1, \"era\": 2.624, \"ba\": 0.15960117844440952, \"team_id\": \"OAK\", \"year\": 2012, \"g\": 162}, {\"e\": 0.11764705882352941, \"name\": \"St. Louis Cardinals\", \"w\": 88, \"ws_win\": \"N\", \"div_id\": \"C\", \"rank\": 2, \"era\": 3.0116666666666663, \"ba\": 0.1864232570586023, \"team_id\": \"SLN\", \"year\": 2012, \"g\": 162}, {\"e\": 0.125, \"name\": \"Texas Rangers\", \"w\": 93, \"ws_win\": \"N\", \"div_id\": \"W\", \"rank\": 2, \"era\": 5.175, \"ba\": 0.2638888888888889, \"team_id\": \"TEX\", \"year\": 2012, \"g\": 162}, {\"e\": 0.25, \"name\": \"Washington Nationals\", \"w\": 98, \"ws_win\": \"N\", \"div_id\": \"E\", \"rank\": 1, \"era\": 7.469166666666666, \"ba\": 0.26205162843169305, \"team_id\": \"WAS\", \"year\": 2012, \"g\": 162}, {\"e\": 0.08695652173913043, \"name\": \"Atlanta Braves\", \"w\": 96, \"ws_win\": \"N\", \"div_id\": \"E\", \"rank\": 1, \"era\": 5.72, \"ba\": 0.19047619047619047, \"team_id\": \"ATL\", \"year\": 2013, \"g\": 162}, {\"e\": 0.0, \"name\": \"Cincinnati Reds\", \"w\": 90, \"ws_win\": \"N\", \"div_id\": \"C\", \"rank\": 3, \"era\": 3.3000000000000003, \"ba\": 0.14393939393939392, \"team_id\": \"CIN\", \"year\": 2013, \"g\": 162}, {\"e\": 0.06666666666666667, \"name\": \"Cleveland Indians\", \"w\": 92, \"ws_win\": \"N\", \"div_id\": \"C\", \"rank\": 2, \"era\": 1.125, \"ba\": 0.25925925925925924, \"team_id\": \"CLE\", \"year\": 2013, \"g\": 162}, {\"e\": 0.10638297872340426, \"name\": \"Detroit Tigers\", \"w\": 93, \"ws_win\": \"N\", \"div_id\": \"C\", \"rank\": 1, \"era\": 4.067777777777778, \"ba\": 0.22663163495543365, \"team_id\": \"DET\", \"year\": 2013, \"g\": 162}, {\"e\": 0.12195121951219512, \"name\": \"Los Angeles Dodgers\", \"w\": 92, \"ws_win\": \"N\", \"div_id\": \"W\", \"rank\": 1, \"era\": 5.721, \"ba\": 0.20855222474165133, \"team_id\": \"LAN\", \"year\": 2013, \"g\": 162}, {\"e\": 0.047619047619047616, \"name\": \"Oakland Athletics\", \"w\": 96, \"ws_win\": \"N\", \"div_id\": \"W\", \"rank\": 1, \"era\": 8.292222222222223, \"ba\": 0.17298085901027074, \"team_id\": \"OAK\", \"year\": 2013, \"g\": 162}, {\"e\": 0.11764705882352941, \"name\": \"Pittsburgh Pirates\", \"w\": 94, \"ws_win\": \"N\", \"div_id\": \"C\", \"rank\": 2, \"era\": 4.5442857142857145, \"ba\": 0.2297273451060067, \"team_id\": \"PIT\", \"year\": 2013, \"g\": 162}, {\"e\": 0.12307692307692308, \"name\": \"St. Louis Cardinals\", \"w\": 97, \"ws_win\": \"N\", \"div_id\": \"C\", \"rank\": 1, \"era\": 2.960606060606061, \"ba\": 0.17492041177100318, \"team_id\": \"SLN\", \"year\": 2013, \"g\": 162}, {\"e\": 0.075, \"name\": \"Tampa Bay Rays\", \"w\": 92, \"ws_win\": \"N\", \"div_id\": \"E\", \"rank\": 2, \"era\": 4.053333333333333, \"ba\": 0.2214066730371078, \"team_id\": \"TBA\", \"year\": 2013, \"g\": 163}, {\"e\": 0.08888888888888889, \"name\": \"Baltimore Orioles\", \"w\": 96, \"ws_win\": \"N\", \"div_id\": \"E\", \"rank\": 1, \"era\": 4.42, \"ba\": 0.20436588145256873, \"team_id\": \"BAL\", \"year\": 2014, \"g\": 162}, {\"e\": 0.1, \"name\": \"Detroit Tigers\", \"w\": 90, \"ws_win\": \"N\", \"div_id\": \"C\", \"rank\": 1, \"era\": 24.22375, \"ba\": 0.1834054834054834, \"team_id\": \"DET\", \"year\": 2014, \"g\": 162}, {\"e\": 0.05952380952380952, \"name\": \"Kansas City Royals\", \"w\": 89, \"ws_win\": \"N\", \"div_id\": \"C\", \"rank\": 2, \"era\": 5.11945945945946, \"ba\": 0.24351376094637117, \"team_id\": \"KCA\", \"year\": 2014, \"g\": 162}, {\"e\": 0.043478260869565216, \"name\": \"Los Angeles Angels of Anaheim\", \"w\": 98, \"ws_win\": \"N\", \"div_id\": \"W\", \"rank\": 1, \"era\": 8.026666666666666, \"ba\": 0.1273196710696711, \"team_id\": \"LAA\", \"year\": 2014, \"g\": 162}, {\"e\": 0.0, \"name\": \"Los Angeles Dodgers\", \"w\": 94, \"ws_win\": \"N\", \"div_id\": \"W\", \"rank\": 1, \"era\": 4.892222222222222, \"ba\": 0.25082507361919126, \"team_id\": \"LAN\", \"year\": 2014, \"g\": 162}, {\"e\": 0.0, \"name\": \"Oakland Athletics\", \"w\": 88, \"ws_win\": \"N\", \"div_id\": \"W\", \"rank\": 2, \"era\": 5.072, \"ba\": 0.26794871794871794, \"team_id\": \"OAK\", \"year\": 2014, \"g\": 162}, {\"e\": 0.0, \"name\": \"Pittsburgh Pirates\", \"w\": 88, \"ws_win\": \"N\", \"div_id\": \"C\", \"rank\": 2, \"era\": 6.0, \"ba\": 0.09090909090909091, \"team_id\": \"PIT\", \"year\": 2014, \"g\": 162}, {\"e\": 0.06521739130434782, \"name\": \"St. Louis Cardinals\", \"w\": 90, \"ws_win\": \"N\", \"div_id\": \"C\", \"rank\": 1, \"era\": 8.3255, \"ba\": 0.17029053771628266, \"team_id\": \"SLN\", \"year\": 2014, \"g\": 162}, {\"e\": 0.047619047619047616, \"name\": \"Washington Nationals\", \"w\": 96, \"ws_win\": \"N\", \"div_id\": \"E\", \"rank\": 1, \"era\": 1.5899999999999999, \"ba\": 0.1539114510613327, \"team_id\": \"WAS\", \"year\": 2014, \"g\": 162}, {\"e\": 0.10638297872340426, \"name\": \"Toronto Blue Jays\", \"w\": 93, \"ws_win\": \"N\", \"div_id\": \"E\", \"rank\": 1, \"era\": 7.391304347826088, \"ba\": 0.21009109756249345, \"team_id\": \"TOR\", \"year\": 2015, \"g\": 162}, {\"e\": 0.0, \"name\": \"New York Yankees\", \"w\": 87, \"ws_win\": \"N\", \"div_id\": \"E\", \"rank\": 2, \"era\": 2.25, \"ba\": 0.09166666666666665, \"team_id\": \"NYA\", \"year\": 2015, \"g\": 162}, {\"e\": 0.2, \"name\": \"Texas Rangers\", \"w\": 88, \"ws_win\": \"N\", \"div_id\": \"W\", \"rank\": 1, \"era\": 5.077272727272728, \"ba\": 0.22257524221809932, \"team_id\": \"TEX\", \"year\": 2015, \"g\": 162}, {\"e\": 0.05263157894736842, \"name\": \"Houston Astros\", \"w\": 86, \"ws_win\": \"N\", \"div_id\": \"W\", \"rank\": 2, \"era\": 5.6466666666666665, \"ba\": 0.17176600713415896, \"team_id\": \"HOU\", \"year\": 2015, \"g\": 162}, {\"e\": 0.07692307692307693, \"name\": \"St. Louis Cardinals\", \"w\": 100, \"ws_win\": \"N\", \"div_id\": \"C\", \"rank\": 1, \"era\": 4.074, \"ba\": 0.17623862044817928, \"team_id\": \"SLN\", \"year\": 2015, \"g\": 162}, {\"e\": 0.0625, \"name\": \"Pittsburgh Pirates\", \"w\": 98, \"ws_win\": \"N\", \"div_id\": \"C\", \"rank\": 2, \"era\": 1.44, \"ba\": 0.23611111111111108, \"team_id\": \"PIT\", \"year\": 2015, \"g\": 162}, {\"e\": 0.047619047619047616, \"name\": \"Chicago Cubs\", \"w\": 97, \"ws_win\": \"N\", \"div_id\": \"C\", \"rank\": 3, \"era\": 5.043913043478262, \"ba\": 0.1671774144440385, \"team_id\": \"CHN\", \"year\": 2015, \"g\": 162}, {\"e\": 0.037037037037037035, \"name\": \"Los Angeles Dodgers\", \"w\": 92, \"ws_win\": \"N\", \"div_id\": \"W\", \"rank\": 1, \"era\": 11.174545454545454, \"ba\": 0.17467933253536966, \"team_id\": \"LAN\", \"year\": 2015, \"g\": 162}]}};\n",
       "var selector = \"#fccdae21-ec0b-4c62-8ffc-fa503822159b\";\n",
       "var type = \"vega-lite\";\n",
       "\n",
       "var output_area = this;\n",
       "require(['nbextensions/jupyter-vega/index'], function(vega) {\n",
       "  vega.render(selector, spec, type, output_area);\n",
       "}, function (err) {\n",
       "  if (err.requireType !== 'scripterror') {\n",
       "    throw(err);\n",
       "  }\n",
       "});\n"
      ]
     },
     "metadata": {
      "jupyter-vega": "#fccdae21-ec0b-4c62-8ffc-fa503822159b"
     },
     "output_type": "display_data"
    },
    {
     "data": {
      "image/png": "[encoded data removed]"
     },
     "metadata": {
      "jupyter-vega": "#fccdae21-ec0b-4c62-8ffc-fa503822159b"
     },
     "output_type": "display_data"
    }
   ],
   "source": [
    "Chart(losers).mark_bar().encode(\n",
    "    X('year:N'),\n",
    "    Y('average(era)')\n",
    ").configure_cell(width = 100, height = 200)"
   ]
  },
  {
   "cell_type": "markdown",
   "metadata": {},
   "source": [
    "### World Series Winners vs. The Rest : ERA"
   ]
  },
  {
   "cell_type": "code",
   "execution_count": 16,
   "metadata": {
    "collapsed": true
   },
   "outputs": [],
   "source": [
    "avg_losers_era = losers.groupby('year')['era'].mean()"
   ]
  },
  {
   "cell_type": "code",
   "execution_count": 17,
   "metadata": {
    "collapsed": true
   },
   "outputs": [],
   "source": [
    "winners_era = winners.groupby('year')['era'].mean()"
   ]
  },
  {
   "cell_type": "code",
   "execution_count": 18,
   "metadata": {
    "collapsed": false
   },
   "outputs": [
    {
     "data": {
      "text/plain": [
       "year\n",
       "2000   -0.975625\n",
       "2001    0.305962\n",
       "2002    0.015512\n",
       "2003    2.549232\n",
       "2004   -1.311214\n",
       "2005   -3.846652\n",
       "2006   -2.126060\n",
       "2007   -3.879368\n",
       "2008   -0.325184\n",
       "2009   -0.367070\n",
       "2010   -0.917888\n",
       "2011   -2.564510\n",
       "2012    3.730506\n",
       "2013    0.430498\n",
       "2014   -3.779416\n",
       "2015    2.645852\n",
       "Name: era, dtype: float64"
      ]
     },
     "execution_count": 18,
     "metadata": {},
     "output_type": "execute_result"
    }
   ],
   "source": [
    "era_diff = winners_era - avg_losers_era\n",
    "era_diff"
   ]
  },
  {
   "cell_type": "code",
   "execution_count": 19,
   "metadata": {
    "collapsed": false
   },
   "outputs": [
    {
     "data": {
      "text/plain": [
       "-0.65096405061086982"
      ]
     },
     "execution_count": 19,
     "metadata": {},
     "output_type": "execute_result"
    }
   ],
   "source": [
    "era_diff.mean()"
   ]
  },
  {
   "cell_type": "markdown",
   "metadata": {},
   "source": [
    "On average, the winners of the World Series had a lower ERA than the rest of the teams in the postseason by 0.65. Although this is what we want to see, it is not very significant."
   ]
  },
  {
   "cell_type": "markdown",
   "metadata": {},
   "source": [
    "### World Series Winners vs. The Rest : Batting Average"
   ]
  },
  {
   "cell_type": "markdown",
   "metadata": {},
   "source": [
    "Here is the same calculation for batting average."
   ]
  },
  {
   "cell_type": "code",
   "execution_count": 20,
   "metadata": {
    "collapsed": true
   },
   "outputs": [],
   "source": [
    "avg_losers_ba = losers.groupby('year')['ba'].mean()"
   ]
  },
  {
   "cell_type": "code",
   "execution_count": 21,
   "metadata": {
    "collapsed": true
   },
   "outputs": [],
   "source": [
    "winners_ba = winners.groupby('year')['ba'].mean()"
   ]
  },
  {
   "cell_type": "code",
   "execution_count": 22,
   "metadata": {
    "collapsed": false
   },
   "outputs": [
    {
     "data": {
      "text/plain": [
       "0.033547226015755299"
      ]
     },
     "execution_count": 22,
     "metadata": {},
     "output_type": "execute_result"
    }
   ],
   "source": [
    "ba_diff = winners_ba - avg_losers_ba\n",
    "ba_diff.mean()"
   ]
  },
  {
   "cell_type": "markdown",
   "metadata": {},
   "source": [
    "World series winners performed better than the rest of the teams in the postseason, but by a very insignificant margin."
   ]
  },
  {
   "cell_type": "markdown",
   "metadata": {},
   "source": [
    "### World Series Winners vs. The Rest: Fielding Errors"
   ]
  },
  {
   "cell_type": "markdown",
   "metadata": {},
   "source": [
    "Finally, here is the calculation for fielding errors."
   ]
  },
  {
   "cell_type": "code",
   "execution_count": 23,
   "metadata": {
    "collapsed": true
   },
   "outputs": [],
   "source": [
    "avg_losers_e = losers.groupby('year')['e'].mean()"
   ]
  },
  {
   "cell_type": "code",
   "execution_count": 24,
   "metadata": {
    "collapsed": true
   },
   "outputs": [],
   "source": [
    "winners_e = winners.groupby('year')['e'].mean()"
   ]
  },
  {
   "cell_type": "code",
   "execution_count": 25,
   "metadata": {
    "collapsed": false
   },
   "outputs": [
    {
     "data": {
      "text/plain": [
       "-0.0031612086217473519"
      ]
     },
     "execution_count": 25,
     "metadata": {},
     "output_type": "execute_result"
    }
   ],
   "source": [
    "e_diff = winners_e - avg_losers_e\n",
    "e_diff.mean()"
   ]
  },
  {
   "cell_type": "markdown",
   "metadata": {},
   "source": [
    "World series winners performed better in this case too, but by a miniscule amount."
   ]
  },
  {
   "cell_type": "markdown",
   "metadata": {},
   "source": [
    "### Conclusion from Visualization"
   ]
  },
  {
   "cell_type": "markdown",
   "metadata": {},
   "source": [
    "Although there are slight correlations there, it is not enough to come to a reasonable conclusion that any one of these parts of the game have a significant influence on the performance of a team. However, these slight correlations offer the possibilities of more in-depth data analysis to further explore the question. "
   ]
  },
  {
   "cell_type": "markdown",
   "metadata": {},
   "source": [
    "## Machine Learning"
   ]
  },
  {
   "cell_type": "code",
   "execution_count": 26,
   "metadata": {
    "collapsed": true
   },
   "outputs": [],
   "source": [
    "ml = grouped.drop(['year','team_id','div_id','g','name'],axis=1)"
   ]
  },
  {
   "cell_type": "markdown",
   "metadata": {},
   "source": [
    "### Feature Matrix"
   ]
  },
  {
   "cell_type": "code",
   "execution_count": 27,
   "metadata": {
    "collapsed": false,
    "scrolled": true
   },
   "outputs": [
    {
     "data": {
      "text/html": [
       "<div>\n",
       "<table border=\"1\" class=\"dataframe\">\n",
       "  <thead>\n",
       "    <tr style=\"text-align: right;\">\n",
       "      <th></th>\n",
       "      <th>rank</th>\n",
       "      <th>w</th>\n",
       "      <th>e</th>\n",
       "      <th>ba</th>\n",
       "      <th>era</th>\n",
       "    </tr>\n",
       "  </thead>\n",
       "  <tbody>\n",
       "    <tr>\n",
       "      <th>0</th>\n",
       "      <td>3</td>\n",
       "      <td>82</td>\n",
       "      <td>2.310345</td>\n",
       "      <td>0.271819</td>\n",
       "      <td>5.384400</td>\n",
       "    </tr>\n",
       "    <tr>\n",
       "      <th>1</th>\n",
       "      <td>3</td>\n",
       "      <td>85</td>\n",
       "      <td>1.945455</td>\n",
       "      <td>0.247616</td>\n",
       "      <td>5.310000</td>\n",
       "    </tr>\n",
       "    <tr>\n",
       "      <th>2</th>\n",
       "      <td>1</td>\n",
       "      <td>95</td>\n",
       "      <td>2.388889</td>\n",
       "      <td>0.184948</td>\n",
       "      <td>5.575909</td>\n",
       "    </tr>\n",
       "    <tr>\n",
       "      <th>3</th>\n",
       "      <td>4</td>\n",
       "      <td>74</td>\n",
       "      <td>1.966102</td>\n",
       "      <td>0.202421</td>\n",
       "      <td>6.768636</td>\n",
       "    </tr>\n",
       "    <tr>\n",
       "      <th>4</th>\n",
       "      <td>2</td>\n",
       "      <td>85</td>\n",
       "      <td>1.651515</td>\n",
       "      <td>0.207478</td>\n",
       "      <td>5.046667</td>\n",
       "    </tr>\n",
       "  </tbody>\n",
       "</table>\n",
       "</div>"
      ],
      "text/plain": [
       "   rank   w         e        ba       era\n",
       "0     3  82  2.310345  0.271819  5.384400\n",
       "1     3  85  1.945455  0.247616  5.310000\n",
       "2     1  95  2.388889  0.184948  5.575909\n",
       "3     4  74  1.966102  0.202421  6.768636\n",
       "4     2  85  1.651515  0.207478  5.046667"
      ]
     },
     "execution_count": 27,
     "metadata": {},
     "output_type": "execute_result"
    }
   ],
   "source": [
    "X = ml.drop('ws_win',axis=1)\n",
    "X.head()"
   ]
  },
  {
   "cell_type": "code",
   "execution_count": 28,
   "metadata": {
    "collapsed": false,
    "scrolled": true
   },
   "outputs": [
    {
     "data": {
      "text/plain": [
       "(480, 5)"
      ]
     },
     "execution_count": 28,
     "metadata": {},
     "output_type": "execute_result"
    }
   ],
   "source": [
    "X.shape"
   ]
  },
  {
   "cell_type": "markdown",
   "metadata": {},
   "source": [
    "### Target Array"
   ]
  },
  {
   "cell_type": "code",
   "execution_count": 29,
   "metadata": {
    "collapsed": false
   },
   "outputs": [
    {
     "data": {
      "text/plain": [
       "0    N\n",
       "1    N\n",
       "2    N\n",
       "3    N\n",
       "4    N\n",
       "Name: ws_win, dtype: object"
      ]
     },
     "execution_count": 29,
     "metadata": {},
     "output_type": "execute_result"
    }
   ],
   "source": [
    "y = grouped['ws_win']\n",
    "y.head()"
   ]
  },
  {
   "cell_type": "code",
   "execution_count": 30,
   "metadata": {
    "collapsed": false,
    "scrolled": true
   },
   "outputs": [
    {
     "data": {
      "text/plain": [
       "(480,)"
      ]
     },
     "execution_count": 30,
     "metadata": {},
     "output_type": "execute_result"
    }
   ],
   "source": [
    "y.shape"
   ]
  },
  {
   "cell_type": "markdown",
   "metadata": {},
   "source": [
    "### Train/Test/Split"
   ]
  },
  {
   "cell_type": "code",
   "execution_count": 31,
   "metadata": {
    "collapsed": true
   },
   "outputs": [],
   "source": [
    "from sklearn.model_selection import train_test_split\n",
    "from sklearn.metrics import accuracy_score"
   ]
  },
  {
   "cell_type": "code",
   "execution_count": 32,
   "metadata": {
    "collapsed": true
   },
   "outputs": [],
   "source": [
    "Xtrain, Xtest, ytrain, ytest = train_test_split(X, y,\n",
    "                                                random_state=0,train_size=0.7)"
   ]
  },
  {
   "cell_type": "markdown",
   "metadata": {},
   "source": [
    "### Linear SVC "
   ]
  },
  {
   "cell_type": "code",
   "execution_count": 33,
   "metadata": {
    "collapsed": false
   },
   "outputs": [],
   "source": [
    "from sklearn.svm import LinearSVC\n",
    "LSVCmodel = LinearSVC(dual=False)\n",
    "LSVCmodel.fit(Xtrain,ytrain);"
   ]
  },
  {
   "cell_type": "code",
   "execution_count": 34,
   "metadata": {
    "collapsed": false
   },
   "outputs": [
    {
     "name": "stdout",
     "output_type": "stream",
     "text": [
      "Training Set Prediction Accuracy = 0.970238095238\n",
      "Test Set Prediction Accuracy = 0.958333333333\n"
     ]
    }
   ],
   "source": [
    "LSVCtraining_Acc = accuracy_score(ytrain,LSVCmodel.predict(Xtrain))\n",
    "print(\"Training Set Prediction Accuracy =\", LSVCtraining_Acc)\n",
    "\n",
    "LSVCtest_Acc = accuracy_score(ytest,LSVCmodel.predict(Xtest))\n",
    "print(\"Test Set Prediction Accuracy =\", LSVCtest_Acc)"
   ]
  }
 ],
 "metadata": {
  "kernelspec": {
   "display_name": "Python 3",
   "language": "python",
   "name": "python3"
  },
  "language_info": {
   "codemirror_mode": {
    "name": "ipython",
    "version": 3
   },
   "file_extension": ".py",
   "mimetype": "text/x-python",
   "name": "python",
   "nbconvert_exporter": "python",
   "pygments_lexer": "ipython3",
   "version": "3.5.2"
  }
 },
 "nbformat": 4,
 "nbformat_minor": 2
}
