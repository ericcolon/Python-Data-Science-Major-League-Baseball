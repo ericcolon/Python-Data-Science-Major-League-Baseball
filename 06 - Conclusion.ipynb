{
 "cells": [
  {
   "cell_type": "markdown",
   "metadata": {},
   "source": [
    "# Conclusion"
   ]
  },
  {
   "cell_type": "markdown",
   "metadata": {},
   "source": [
    "The goal of this project was to investigate Major League Baseball statistics in the three main categories that make up fielding, batting and pitching. In order to do this, we found the average number of errors per player, average ERA per player, and average Batting Average per player sorted by team and year from 2000-2015. After looking at stats for individual teams in these years, we could not come to a reasonable conclusion that any one of these categories impacted team performance in terms of number of wins, world series win, or divisional rank. We also calculated these categories for world series winners only and compared them to the rest of the teams in playoffs for those years, and could not find any statistically obvious evidence that this was the case either. In fact, judging from the visualizations, they seemed mostly uncorrelated. Next, we performed machine learning and predicted World Series wins based off of number of wins, ranking, and average ERA, batting average, and number of fielding errors per player. We found that both the Random Forest Classification and Linear Support Vector Classification were both accurate models for this task. Finally, we found that batting average had the highest feature importance in predicting World Series winners. Things that could be further investigated as a result of this project could be: \n",
    "- The relationship of ERA, batting average, and fielding errors to one another\n",
    "- Some other statistic that correlates positively and consistently with team performance\n",
    "- Why does batting average have a higher feature importance in predicting World Series winners?\n",
    "- Given 2016 data in the format of our feature matrix, would our Random Forest Classification or Linear Support Vector Classification predict the winner (Chicago Cubs) correctly?\n",
    "- The possibilities are endless!"
   ]
  },
  {
   "cell_type": "markdown",
   "metadata": {},
   "source": [
    "Overall, this project was a great capstone experience for the class and helped me put into practice all the great skills I have learned this quarter while exploring a dataset that interests me especially. I look forward to more Data-Science opportunities in the future!"
   ]
  }
 ],
 "metadata": {
  "kernelspec": {
   "display_name": "Python 3",
   "language": "python",
   "name": "python3"
  },
  "language_info": {
   "codemirror_mode": {
    "name": "ipython",
    "version": 3
   },
   "file_extension": ".py",
   "mimetype": "text/x-python",
   "name": "python",
   "nbconvert_exporter": "python",
   "pygments_lexer": "ipython3",
   "version": "3.5.2"
  }
 },
 "nbformat": 4,
 "nbformat_minor": 2
}
