{
 "cells": [
  {
   "cell_type": "markdown",
   "metadata": {},
   "source": [
    "# Introduction"
   ]
  },
  {
   "cell_type": "markdown",
   "metadata": {},
   "source": [
    "## Abstract"
   ]
  },
  {
   "cell_type": "markdown",
   "metadata": {},
   "source": [
    "There's no other game like it, and with only two weeks remaining until the start of the 2017 Major League Baseball season, there's a reason for us all to be excited. Baseball is a game that heavily relies on numbers. There are essentially three parts to the game: pitching, batting, and fielding. Some teams rely heavily on their batting to carry them through a season, while others will give up prospects and exorbitant amounts of money to sign so-called \"ace\" pitchers. Fielding talents are generally seen as an afterthought. What I would like to answer is, is there a single one of these three skills that can be shown statistically to be the most important skill to have on a team? Do all three of them have the same importance? Or, is there something else entirely that controls the performance of your favorite team? We will examine the relationships of these three areas by individual teams, and their performance by season. Overall, I hope to provide you an answer to the question that has significant statistical reasoning behind it. Stay tuned!"
   ]
  },
  {
   "cell_type": "markdown",
   "metadata": {},
   "source": [
    "## Description of our Dataset"
   ]
  },
  {
   "cell_type": "markdown",
   "metadata": {},
   "source": [
    "Our data/statistical analysis will be based off of a public dataset found on kaggle.com, titled \"The History of Baseball\". Within this enormous dataset, there are many smaller datasets focused on specific aspects of baseball. I have chosen six of these smaller datasets to thoroughly examine in this final project: \"batting\", \"batting_postseason\", \"pitching\", \"pitching_postseason\", \"fielding\", and \"fielding_postseason\". Each of these files provides batting, pitching, or fielding statistics of individual players during either the regular season or the postseason. I have confidence that the data provided in these tables will allow us to answer the question posed previously in the abstract."
   ]
  },
  {
   "cell_type": "markdown",
   "metadata": {},
   "source": [
    "## Index"
   ]
  },
  {
   "cell_type": "markdown",
   "metadata": {},
   "source": [
    "### 02 - Import and Tidy\n",
    "In this notebook, the data will be read into pandas dataframes in order to be further analyzed. The data will be verified in terms of appropriate dtypes and missing values. The dataset will be cleaned and encoded properly for Exploratory Data Analysis.   \n",
    "<!--NAVIGATION-->\n",
    "< [Import and Tidy](02 - Import and Tidy.ipynb) >"
   ]
  },
  {
   "cell_type": "markdown",
   "metadata": {},
   "source": [
    "### 03 - Grouping and Aggregation\n",
    "In this notebook, the data will be prepared even further for Exploratory Data Analysis by grouping/merging dataframes.  \n",
    "<!--NAVIGATION-->\n",
    "< [Grouping and Aggregation](03 - Grouping and Aggregation.ipynb) >"
   ]
  },
  {
   "cell_type": "markdown",
   "metadata": {},
   "source": [
    "### 04 - EDA\n",
    "In this notebook, the data will be explored thoroughly through transformations and visualizations, ultimately to find a reasonable answer to the question initially asked.   \n",
    "<!--NAVIGATION-->\n",
    "< [Exploratory Data Analysis](04 - EDA.ipynb) >"
   ]
  },
  {
   "cell_type": "markdown",
   "metadata": {},
   "source": [
    "### 05 - Modeling\n",
    "In this notebook, we will use various methods to estimate certain statistics, make predictions about data, and integrate machine-learning to check the accuracy of our predictions.  \n",
    "<!--NAVIGATION-->\n",
    "< [Modeling](05 - Modeling.ipynb) >"
   ]
  },
  {
   "cell_type": "markdown",
   "metadata": {},
   "source": [
    "### 06 - Conclusion\n",
    "\n",
    "This notebook will provied a quick summary of the project and suggest some future applications for the project.  \n",
    "<!--NAVIGATION-->\n",
    "< [Conclusion](06 - Conclusion.ipynb) >\n"
   ]
  },
  {
   "cell_type": "markdown",
   "metadata": {},
   "source": [
    "### 07 - Presentation\n",
    "This notebook will contain the most important material/findings from the project that will be shown to the rest of the class during my presentation. \n",
    "<!--NAVIGATION-->\n",
    "< [Presentation](07 - Presentation.ipynb) >"
   ]
  }
 ],
 "metadata": {
  "kernelspec": {
   "display_name": "Python 3",
   "language": "python",
   "name": "python3"
  },
  "language_info": {
   "codemirror_mode": {
    "name": "ipython",
    "version": 3
   },
   "file_extension": ".py",
   "mimetype": "text/x-python",
   "name": "python",
   "nbconvert_exporter": "python",
   "pygments_lexer": "ipython3",
   "version": "3.5.2"
  }
 },
 "nbformat": 4,
 "nbformat_minor": 2
}
