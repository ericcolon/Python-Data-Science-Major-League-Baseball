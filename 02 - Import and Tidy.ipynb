{
 "cells": [
  {
   "cell_type": "markdown",
   "metadata": {},
   "source": [
    "# Import and Tidy"
   ]
  },
  {
   "cell_type": "code",
   "execution_count": 25,
   "metadata": {
    "collapsed": true
   },
   "outputs": [],
   "source": [
    "import pandas as pd"
   ]
  },
  {
   "cell_type": "markdown",
   "metadata": {},
   "source": [
    "## Pitching"
   ]
  },
  {
   "cell_type": "code",
   "execution_count": 26,
   "metadata": {
    "collapsed": false
   },
   "outputs": [],
   "source": [
    "pitching = pd.read_csv(\"/data/jnogle/pitching.csv\")\n",
    "pitching_last_decade = pitching[pitching.year >= 2000]"
   ]
  },
  {
   "cell_type": "code",
   "execution_count": 27,
   "metadata": {
    "collapsed": true
   },
   "outputs": [],
   "source": [
    "pitching_post = pd.read_csv(\"/data/jnogle/pitching_postseason.csv\")\n",
    "pitching_post_last_decade = pitching_post[pitching_post.year >= 2000]"
   ]
  },
  {
   "cell_type": "code",
   "execution_count": 28,
   "metadata": {
    "collapsed": false,
    "scrolled": true
   },
   "outputs": [
    {
     "data": {
      "text/html": [
       "<div>\n",
       "<table border=\"1\" class=\"dataframe\">\n",
       "  <thead>\n",
       "    <tr style=\"text-align: right;\">\n",
       "      <th></th>\n",
       "      <th>player_id</th>\n",
       "      <th>year</th>\n",
       "      <th>stint</th>\n",
       "      <th>team_id</th>\n",
       "      <th>league_id</th>\n",
       "      <th>w</th>\n",
       "      <th>l</th>\n",
       "      <th>g</th>\n",
       "      <th>gs</th>\n",
       "      <th>cg</th>\n",
       "      <th>...</th>\n",
       "      <th>ibb</th>\n",
       "      <th>wp</th>\n",
       "      <th>hbp</th>\n",
       "      <th>bk</th>\n",
       "      <th>bfp</th>\n",
       "      <th>gf</th>\n",
       "      <th>r</th>\n",
       "      <th>sh</th>\n",
       "      <th>sf</th>\n",
       "      <th>g_idp</th>\n",
       "    </tr>\n",
       "  </thead>\n",
       "  <tbody>\n",
       "    <tr>\n",
       "      <th>32900</th>\n",
       "      <td>abbotpa01</td>\n",
       "      <td>2000</td>\n",
       "      <td>1</td>\n",
       "      <td>SEA</td>\n",
       "      <td>AL</td>\n",
       "      <td>9</td>\n",
       "      <td>7</td>\n",
       "      <td>35</td>\n",
       "      <td>27</td>\n",
       "      <td>0</td>\n",
       "      <td>...</td>\n",
       "      <td>4.0</td>\n",
       "      <td>3.0</td>\n",
       "      <td>5.0</td>\n",
       "      <td>0</td>\n",
       "      <td>766.0</td>\n",
       "      <td>2.0</td>\n",
       "      <td>89</td>\n",
       "      <td>1.0</td>\n",
       "      <td>4.0</td>\n",
       "      <td>NaN</td>\n",
       "    </tr>\n",
       "    <tr>\n",
       "      <th>32901</th>\n",
       "      <td>aceveju01</td>\n",
       "      <td>2000</td>\n",
       "      <td>1</td>\n",
       "      <td>MIL</td>\n",
       "      <td>NL</td>\n",
       "      <td>3</td>\n",
       "      <td>7</td>\n",
       "      <td>62</td>\n",
       "      <td>0</td>\n",
       "      <td>0</td>\n",
       "      <td>...</td>\n",
       "      <td>9.0</td>\n",
       "      <td>3.0</td>\n",
       "      <td>1.0</td>\n",
       "      <td>2</td>\n",
       "      <td>347.0</td>\n",
       "      <td>18.0</td>\n",
       "      <td>38</td>\n",
       "      <td>1.0</td>\n",
       "      <td>1.0</td>\n",
       "      <td>NaN</td>\n",
       "    </tr>\n",
       "    <tr>\n",
       "      <th>32902</th>\n",
       "      <td>adamste01</td>\n",
       "      <td>2000</td>\n",
       "      <td>1</td>\n",
       "      <td>LAN</td>\n",
       "      <td>NL</td>\n",
       "      <td>6</td>\n",
       "      <td>9</td>\n",
       "      <td>66</td>\n",
       "      <td>0</td>\n",
       "      <td>0</td>\n",
       "      <td>...</td>\n",
       "      <td>0.0</td>\n",
       "      <td>5.0</td>\n",
       "      <td>0.0</td>\n",
       "      <td>0</td>\n",
       "      <td>369.0</td>\n",
       "      <td>18.0</td>\n",
       "      <td>42</td>\n",
       "      <td>3.0</td>\n",
       "      <td>0.0</td>\n",
       "      <td>NaN</td>\n",
       "    </tr>\n",
       "    <tr>\n",
       "      <th>32903</th>\n",
       "      <td>aguilri01</td>\n",
       "      <td>2000</td>\n",
       "      <td>1</td>\n",
       "      <td>CHN</td>\n",
       "      <td>NL</td>\n",
       "      <td>1</td>\n",
       "      <td>2</td>\n",
       "      <td>54</td>\n",
       "      <td>0</td>\n",
       "      <td>0</td>\n",
       "      <td>...</td>\n",
       "      <td>2.0</td>\n",
       "      <td>1.0</td>\n",
       "      <td>4.0</td>\n",
       "      <td>0</td>\n",
       "      <td>210.0</td>\n",
       "      <td>44.0</td>\n",
       "      <td>28</td>\n",
       "      <td>1.0</td>\n",
       "      <td>0.0</td>\n",
       "      <td>NaN</td>\n",
       "    </tr>\n",
       "    <tr>\n",
       "      <th>32904</th>\n",
       "      <td>aldresc01</td>\n",
       "      <td>2000</td>\n",
       "      <td>1</td>\n",
       "      <td>PHI</td>\n",
       "      <td>NL</td>\n",
       "      <td>1</td>\n",
       "      <td>3</td>\n",
       "      <td>23</td>\n",
       "      <td>0</td>\n",
       "      <td>0</td>\n",
       "      <td>...</td>\n",
       "      <td>0.0</td>\n",
       "      <td>1.0</td>\n",
       "      <td>1.0</td>\n",
       "      <td>0</td>\n",
       "      <td>95.0</td>\n",
       "      <td>5.0</td>\n",
       "      <td>14</td>\n",
       "      <td>1.0</td>\n",
       "      <td>2.0</td>\n",
       "      <td>NaN</td>\n",
       "    </tr>\n",
       "  </tbody>\n",
       "</table>\n",
       "<p>5 rows × 30 columns</p>\n",
       "</div>"
      ],
      "text/plain": [
       "       player_id  year  stint team_id league_id  w  l   g  gs  cg  ...    ibb  \\\n",
       "32900  abbotpa01  2000      1     SEA        AL  9  7  35  27   0  ...    4.0   \n",
       "32901  aceveju01  2000      1     MIL        NL  3  7  62   0   0  ...    9.0   \n",
       "32902  adamste01  2000      1     LAN        NL  6  9  66   0   0  ...    0.0   \n",
       "32903  aguilri01  2000      1     CHN        NL  1  2  54   0   0  ...    2.0   \n",
       "32904  aldresc01  2000      1     PHI        NL  1  3  23   0   0  ...    0.0   \n",
       "\n",
       "        wp  hbp  bk    bfp    gf   r   sh   sf  g_idp  \n",
       "32900  3.0  5.0   0  766.0   2.0  89  1.0  4.0    NaN  \n",
       "32901  3.0  1.0   2  347.0  18.0  38  1.0  1.0    NaN  \n",
       "32902  5.0  0.0   0  369.0  18.0  42  3.0  0.0    NaN  \n",
       "32903  1.0  4.0   0  210.0  44.0  28  1.0  0.0    NaN  \n",
       "32904  1.0  1.0   0   95.0   5.0  14  1.0  2.0    NaN  \n",
       "\n",
       "[5 rows x 30 columns]"
      ]
     },
     "execution_count": 28,
     "metadata": {},
     "output_type": "execute_result"
    }
   ],
   "source": [
    "pitching_last_decade.head()"
   ]
  },
  {
   "cell_type": "markdown",
   "metadata": {},
   "source": [
    "The above dataframe contains the pitching statistics for MLB players during the regular season from the years 2000-2015. We are going to drop columns that have no relevance to the measurement of the team's overall success in a season. This results in the dataframe below."
   ]
  },
  {
   "cell_type": "code",
   "execution_count": 29,
   "metadata": {
    "collapsed": false
   },
   "outputs": [],
   "source": [
    "pitching_last_decade = pitching_last_decade.drop(['stint','cg','sho','sv','ipouts','h','er','hr','bb','so',\n",
    "                           'baopp','ibb','wp','hbp','bk','bfp','gf','sh','sf','g_idp','r','gs','w','l','g','league_id'],axis=1)"
   ]
  },
  {
   "cell_type": "code",
   "execution_count": 30,
   "metadata": {
    "collapsed": false,
    "scrolled": true
   },
   "outputs": [
    {
     "data": {
      "text/html": [
       "<div>\n",
       "<table border=\"1\" class=\"dataframe\">\n",
       "  <thead>\n",
       "    <tr style=\"text-align: right;\">\n",
       "      <th></th>\n",
       "      <th>player_id</th>\n",
       "      <th>year</th>\n",
       "      <th>team_id</th>\n",
       "      <th>era</th>\n",
       "    </tr>\n",
       "  </thead>\n",
       "  <tbody>\n",
       "    <tr>\n",
       "      <th>32900</th>\n",
       "      <td>abbotpa01</td>\n",
       "      <td>2000</td>\n",
       "      <td>SEA</td>\n",
       "      <td>4.22</td>\n",
       "    </tr>\n",
       "    <tr>\n",
       "      <th>32901</th>\n",
       "      <td>aceveju01</td>\n",
       "      <td>2000</td>\n",
       "      <td>MIL</td>\n",
       "      <td>3.81</td>\n",
       "    </tr>\n",
       "    <tr>\n",
       "      <th>32902</th>\n",
       "      <td>adamste01</td>\n",
       "      <td>2000</td>\n",
       "      <td>LAN</td>\n",
       "      <td>3.52</td>\n",
       "    </tr>\n",
       "    <tr>\n",
       "      <th>32903</th>\n",
       "      <td>aguilri01</td>\n",
       "      <td>2000</td>\n",
       "      <td>CHN</td>\n",
       "      <td>4.91</td>\n",
       "    </tr>\n",
       "    <tr>\n",
       "      <th>32904</th>\n",
       "      <td>aldresc01</td>\n",
       "      <td>2000</td>\n",
       "      <td>PHI</td>\n",
       "      <td>5.75</td>\n",
       "    </tr>\n",
       "  </tbody>\n",
       "</table>\n",
       "</div>"
      ],
      "text/plain": [
       "       player_id  year team_id   era\n",
       "32900  abbotpa01  2000     SEA  4.22\n",
       "32901  aceveju01  2000     MIL  3.81\n",
       "32902  adamste01  2000     LAN  3.52\n",
       "32903  aguilri01  2000     CHN  4.91\n",
       "32904  aldresc01  2000     PHI  5.75"
      ]
     },
     "execution_count": 30,
     "metadata": {},
     "output_type": "execute_result"
    }
   ],
   "source": [
    "pitching_last_decade.head()"
   ]
  },
  {
   "cell_type": "markdown",
   "metadata": {},
   "source": [
    "There is a small number (14 or so) of records that have a null value in the ERA column. If we were to replace these nulls with a numerical value, it would cause errors when calculating averages and other statistics. Thus, since it is a small number, we will drop these records and not use them."
   ]
  },
  {
   "cell_type": "code",
   "execution_count": 31,
   "metadata": {
    "collapsed": false
   },
   "outputs": [
    {
     "name": "stdout",
     "output_type": "stream",
     "text": [
      "<class 'pandas.core.frame.DataFrame'>\n",
      "Int64Index: 11225 entries, 32900 to 44138\n",
      "Data columns (total 4 columns):\n",
      "player_id    11225 non-null object\n",
      "year         11225 non-null int64\n",
      "team_id      11225 non-null object\n",
      "era          11225 non-null float64\n",
      "dtypes: float64(1), int64(1), object(2)\n",
      "memory usage: 438.5+ KB\n"
     ]
    }
   ],
   "source": [
    "pitching_last_decade = pitching_last_decade.dropna()\n",
    "pitching_last_decade.info()"
   ]
  },
  {
   "cell_type": "code",
   "execution_count": 32,
   "metadata": {
    "collapsed": true
   },
   "outputs": [],
   "source": [
    "pitching_last_decade.to_pickle('pitching_last_decade')"
   ]
  },
  {
   "cell_type": "markdown",
   "metadata": {},
   "source": [
    "We also want to analyze teams' performance in the postseason, as this will provide more evidence to answer our question. The following dataframe will hold pitching data as well, but only for the postseason in the years 2000-2015. We will drop the same columns as before, and drop records that have null-valued ERA."
   ]
  },
  {
   "cell_type": "code",
   "execution_count": 33,
   "metadata": {
    "collapsed": false
   },
   "outputs": [],
   "source": [
    "pitching_post_last_decade = pitching_post_last_decade.drop(['cg','sho','sv','ipouts','h','er','hr','bb','so',\n",
    "                           'baopp','ibb','wp','hbp','bk','bfp','gf','sh','sf','g_idp','r','gs','w','l','g','league_id'],axis=1)"
   ]
  },
  {
   "cell_type": "code",
   "execution_count": 34,
   "metadata": {
    "collapsed": false
   },
   "outputs": [
    {
     "data": {
      "text/html": [
       "<div>\n",
       "<table border=\"1\" class=\"dataframe\">\n",
       "  <thead>\n",
       "    <tr style=\"text-align: right;\">\n",
       "      <th></th>\n",
       "      <th>player_id</th>\n",
       "      <th>year</th>\n",
       "      <th>round</th>\n",
       "      <th>team_id</th>\n",
       "      <th>era</th>\n",
       "    </tr>\n",
       "  </thead>\n",
       "  <tbody>\n",
       "    <tr>\n",
       "      <th>2788</th>\n",
       "      <td>choatra01</td>\n",
       "      <td>2000</td>\n",
       "      <td>ALCS</td>\n",
       "      <td>NYA</td>\n",
       "      <td>0.0</td>\n",
       "    </tr>\n",
       "    <tr>\n",
       "      <th>2789</th>\n",
       "      <td>clemero02</td>\n",
       "      <td>2000</td>\n",
       "      <td>ALCS</td>\n",
       "      <td>NYA</td>\n",
       "      <td>0.0</td>\n",
       "    </tr>\n",
       "    <tr>\n",
       "      <th>2790</th>\n",
       "      <td>coneda01</td>\n",
       "      <td>2000</td>\n",
       "      <td>ALCS</td>\n",
       "      <td>NYA</td>\n",
       "      <td>0.0</td>\n",
       "    </tr>\n",
       "    <tr>\n",
       "      <th>2791</th>\n",
       "      <td>goodedw01</td>\n",
       "      <td>2000</td>\n",
       "      <td>ALCS</td>\n",
       "      <td>NYA</td>\n",
       "      <td>0.0</td>\n",
       "    </tr>\n",
       "    <tr>\n",
       "      <th>2792</th>\n",
       "      <td>grimsja01</td>\n",
       "      <td>2000</td>\n",
       "      <td>ALCS</td>\n",
       "      <td>NYA</td>\n",
       "      <td>0.0</td>\n",
       "    </tr>\n",
       "  </tbody>\n",
       "</table>\n",
       "</div>"
      ],
      "text/plain": [
       "      player_id  year round team_id  era\n",
       "2788  choatra01  2000  ALCS     NYA  0.0\n",
       "2789  clemero02  2000  ALCS     NYA  0.0\n",
       "2790   coneda01  2000  ALCS     NYA  0.0\n",
       "2791  goodedw01  2000  ALCS     NYA  0.0\n",
       "2792  grimsja01  2000  ALCS     NYA  0.0"
      ]
     },
     "execution_count": 34,
     "metadata": {},
     "output_type": "execute_result"
    }
   ],
   "source": [
    "pitching_post_last_decade.head()"
   ]
  },
  {
   "cell_type": "code",
   "execution_count": 35,
   "metadata": {
    "collapsed": false,
    "scrolled": true
   },
   "outputs": [
    {
     "name": "stdout",
     "output_type": "stream",
     "text": [
      "<class 'pandas.core.frame.DataFrame'>\n",
      "Int64Index: 2215 entries, 2788 to 5108\n",
      "Data columns (total 5 columns):\n",
      "player_id    2215 non-null object\n",
      "year         2215 non-null int64\n",
      "round        2215 non-null object\n",
      "team_id      2215 non-null object\n",
      "era          2215 non-null float64\n",
      "dtypes: float64(1), int64(1), object(3)\n",
      "memory usage: 103.8+ KB\n"
     ]
    }
   ],
   "source": [
    "pitching_post_last_decade = pitching_post_last_decade.dropna()\n",
    "pitching_post_last_decade.info()"
   ]
  },
  {
   "cell_type": "code",
   "execution_count": 36,
   "metadata": {
    "collapsed": true
   },
   "outputs": [],
   "source": [
    "pitching_post_last_decade.to_pickle('pitching_post_last_decade')"
   ]
  },
  {
   "cell_type": "markdown",
   "metadata": {},
   "source": [
    "## Batting"
   ]
  },
  {
   "cell_type": "code",
   "execution_count": 39,
   "metadata": {
    "collapsed": true
   },
   "outputs": [],
   "source": [
    "batting = pd.read_csv(\"/data/jnogle/batting.csv\")\n",
    "batting_last_decade = batting[batting.year >= 2000]"
   ]
  },
  {
   "cell_type": "code",
   "execution_count": 51,
   "metadata": {
    "collapsed": true
   },
   "outputs": [],
   "source": [
    "batting_post = pd.read_csv(\"/data/jnogle/batting_postseason.csv\")\n",
    "batting_post_last_decade = batting_post[batting_post.year >= 2000]"
   ]
  },
  {
   "cell_type": "code",
   "execution_count": 41,
   "metadata": {
    "collapsed": false
   },
   "outputs": [
    {
     "data": {
      "text/html": [
       "<div>\n",
       "<table border=\"1\" class=\"dataframe\">\n",
       "  <thead>\n",
       "    <tr style=\"text-align: right;\">\n",
       "      <th></th>\n",
       "      <th>player_id</th>\n",
       "      <th>year</th>\n",
       "      <th>stint</th>\n",
       "      <th>team_id</th>\n",
       "      <th>league_id</th>\n",
       "      <th>g</th>\n",
       "      <th>ab</th>\n",
       "      <th>r</th>\n",
       "      <th>h</th>\n",
       "      <th>double</th>\n",
       "      <th>...</th>\n",
       "      <th>rbi</th>\n",
       "      <th>sb</th>\n",
       "      <th>cs</th>\n",
       "      <th>bb</th>\n",
       "      <th>so</th>\n",
       "      <th>ibb</th>\n",
       "      <th>hbp</th>\n",
       "      <th>sh</th>\n",
       "      <th>sf</th>\n",
       "      <th>g_idp</th>\n",
       "    </tr>\n",
       "  </thead>\n",
       "  <tbody>\n",
       "    <tr>\n",
       "      <th>79248</th>\n",
       "      <td>abbotje01</td>\n",
       "      <td>2000</td>\n",
       "      <td>1</td>\n",
       "      <td>CHA</td>\n",
       "      <td>AL</td>\n",
       "      <td>80</td>\n",
       "      <td>215.0</td>\n",
       "      <td>31.0</td>\n",
       "      <td>59.0</td>\n",
       "      <td>15.0</td>\n",
       "      <td>...</td>\n",
       "      <td>29.0</td>\n",
       "      <td>2.0</td>\n",
       "      <td>1.0</td>\n",
       "      <td>21.0</td>\n",
       "      <td>38.0</td>\n",
       "      <td>1.0</td>\n",
       "      <td>2.0</td>\n",
       "      <td>2.0</td>\n",
       "      <td>1.0</td>\n",
       "      <td>2.0</td>\n",
       "    </tr>\n",
       "    <tr>\n",
       "      <th>79249</th>\n",
       "      <td>abbotku01</td>\n",
       "      <td>2000</td>\n",
       "      <td>1</td>\n",
       "      <td>NYN</td>\n",
       "      <td>NL</td>\n",
       "      <td>79</td>\n",
       "      <td>157.0</td>\n",
       "      <td>22.0</td>\n",
       "      <td>34.0</td>\n",
       "      <td>7.0</td>\n",
       "      <td>...</td>\n",
       "      <td>12.0</td>\n",
       "      <td>1.0</td>\n",
       "      <td>1.0</td>\n",
       "      <td>14.0</td>\n",
       "      <td>51.0</td>\n",
       "      <td>2.0</td>\n",
       "      <td>1.0</td>\n",
       "      <td>0.0</td>\n",
       "      <td>1.0</td>\n",
       "      <td>2.0</td>\n",
       "    </tr>\n",
       "    <tr>\n",
       "      <th>79250</th>\n",
       "      <td>abbotpa01</td>\n",
       "      <td>2000</td>\n",
       "      <td>1</td>\n",
       "      <td>SEA</td>\n",
       "      <td>AL</td>\n",
       "      <td>35</td>\n",
       "      <td>5.0</td>\n",
       "      <td>1.0</td>\n",
       "      <td>2.0</td>\n",
       "      <td>1.0</td>\n",
       "      <td>...</td>\n",
       "      <td>0.0</td>\n",
       "      <td>0.0</td>\n",
       "      <td>0.0</td>\n",
       "      <td>0.0</td>\n",
       "      <td>1.0</td>\n",
       "      <td>0.0</td>\n",
       "      <td>0.0</td>\n",
       "      <td>1.0</td>\n",
       "      <td>0.0</td>\n",
       "      <td>0.0</td>\n",
       "    </tr>\n",
       "    <tr>\n",
       "      <th>79251</th>\n",
       "      <td>abreubo01</td>\n",
       "      <td>2000</td>\n",
       "      <td>1</td>\n",
       "      <td>PHI</td>\n",
       "      <td>NL</td>\n",
       "      <td>154</td>\n",
       "      <td>576.0</td>\n",
       "      <td>103.0</td>\n",
       "      <td>182.0</td>\n",
       "      <td>42.0</td>\n",
       "      <td>...</td>\n",
       "      <td>79.0</td>\n",
       "      <td>28.0</td>\n",
       "      <td>8.0</td>\n",
       "      <td>100.0</td>\n",
       "      <td>116.0</td>\n",
       "      <td>9.0</td>\n",
       "      <td>1.0</td>\n",
       "      <td>0.0</td>\n",
       "      <td>3.0</td>\n",
       "      <td>12.0</td>\n",
       "    </tr>\n",
       "    <tr>\n",
       "      <th>79252</th>\n",
       "      <td>aceveju01</td>\n",
       "      <td>2000</td>\n",
       "      <td>1</td>\n",
       "      <td>MIL</td>\n",
       "      <td>NL</td>\n",
       "      <td>62</td>\n",
       "      <td>1.0</td>\n",
       "      <td>1.0</td>\n",
       "      <td>0.0</td>\n",
       "      <td>0.0</td>\n",
       "      <td>...</td>\n",
       "      <td>0.0</td>\n",
       "      <td>0.0</td>\n",
       "      <td>0.0</td>\n",
       "      <td>1.0</td>\n",
       "      <td>1.0</td>\n",
       "      <td>0.0</td>\n",
       "      <td>0.0</td>\n",
       "      <td>0.0</td>\n",
       "      <td>0.0</td>\n",
       "      <td>0.0</td>\n",
       "    </tr>\n",
       "  </tbody>\n",
       "</table>\n",
       "<p>5 rows × 22 columns</p>\n",
       "</div>"
      ],
      "text/plain": [
       "       player_id  year  stint team_id league_id    g     ab      r      h  \\\n",
       "79248  abbotje01  2000      1     CHA        AL   80  215.0   31.0   59.0   \n",
       "79249  abbotku01  2000      1     NYN        NL   79  157.0   22.0   34.0   \n",
       "79250  abbotpa01  2000      1     SEA        AL   35    5.0    1.0    2.0   \n",
       "79251  abreubo01  2000      1     PHI        NL  154  576.0  103.0  182.0   \n",
       "79252  aceveju01  2000      1     MIL        NL   62    1.0    1.0    0.0   \n",
       "\n",
       "       double  ...     rbi    sb   cs     bb     so  ibb  hbp   sh   sf  g_idp  \n",
       "79248    15.0  ...    29.0   2.0  1.0   21.0   38.0  1.0  2.0  2.0  1.0    2.0  \n",
       "79249     7.0  ...    12.0   1.0  1.0   14.0   51.0  2.0  1.0  0.0  1.0    2.0  \n",
       "79250     1.0  ...     0.0   0.0  0.0    0.0    1.0  0.0  0.0  1.0  0.0    0.0  \n",
       "79251    42.0  ...    79.0  28.0  8.0  100.0  116.0  9.0  1.0  0.0  3.0   12.0  \n",
       "79252     0.0  ...     0.0   0.0  0.0    1.0    1.0  0.0  0.0  0.0  0.0    0.0  \n",
       "\n",
       "[5 rows x 22 columns]"
      ]
     },
     "execution_count": 41,
     "metadata": {},
     "output_type": "execute_result"
    }
   ],
   "source": [
    "batting_last_decade.head()"
   ]
  },
  {
   "cell_type": "markdown",
   "metadata": {},
   "source": [
    "The above dataframe contains the batting statistics for MLB players during the regular season from the years 2000-2015. We are going to drop columns that have no relevance to the measurement of the team's overall success in a season. This results in the dataframe below."
   ]
  },
  {
   "cell_type": "code",
   "execution_count": 42,
   "metadata": {
    "collapsed": false
   },
   "outputs": [],
   "source": [
    "batting_last_decade = batting_last_decade.drop(['stint','double','triple','hr','sb','cs','bb','hr','bb','so',\n",
    "                           'ibb','hbp','sh','sf','r','g_idp','rbi','g','league_id'],axis=1)"
   ]
  },
  {
   "cell_type": "code",
   "execution_count": 43,
   "metadata": {
    "collapsed": false,
    "scrolled": false
   },
   "outputs": [
    {
     "data": {
      "text/html": [
       "<div>\n",
       "<table border=\"1\" class=\"dataframe\">\n",
       "  <thead>\n",
       "    <tr style=\"text-align: right;\">\n",
       "      <th></th>\n",
       "      <th>player_id</th>\n",
       "      <th>year</th>\n",
       "      <th>team_id</th>\n",
       "      <th>ab</th>\n",
       "      <th>h</th>\n",
       "    </tr>\n",
       "  </thead>\n",
       "  <tbody>\n",
       "    <tr>\n",
       "      <th>79248</th>\n",
       "      <td>abbotje01</td>\n",
       "      <td>2000</td>\n",
       "      <td>CHA</td>\n",
       "      <td>215.0</td>\n",
       "      <td>59.0</td>\n",
       "    </tr>\n",
       "    <tr>\n",
       "      <th>79249</th>\n",
       "      <td>abbotku01</td>\n",
       "      <td>2000</td>\n",
       "      <td>NYN</td>\n",
       "      <td>157.0</td>\n",
       "      <td>34.0</td>\n",
       "    </tr>\n",
       "    <tr>\n",
       "      <th>79250</th>\n",
       "      <td>abbotpa01</td>\n",
       "      <td>2000</td>\n",
       "      <td>SEA</td>\n",
       "      <td>5.0</td>\n",
       "      <td>2.0</td>\n",
       "    </tr>\n",
       "    <tr>\n",
       "      <th>79251</th>\n",
       "      <td>abreubo01</td>\n",
       "      <td>2000</td>\n",
       "      <td>PHI</td>\n",
       "      <td>576.0</td>\n",
       "      <td>182.0</td>\n",
       "    </tr>\n",
       "    <tr>\n",
       "      <th>79252</th>\n",
       "      <td>aceveju01</td>\n",
       "      <td>2000</td>\n",
       "      <td>MIL</td>\n",
       "      <td>1.0</td>\n",
       "      <td>0.0</td>\n",
       "    </tr>\n",
       "  </tbody>\n",
       "</table>\n",
       "</div>"
      ],
      "text/plain": [
       "       player_id  year team_id     ab      h\n",
       "79248  abbotje01  2000     CHA  215.0   59.0\n",
       "79249  abbotku01  2000     NYN  157.0   34.0\n",
       "79250  abbotpa01  2000     SEA    5.0    2.0\n",
       "79251  abreubo01  2000     PHI  576.0  182.0\n",
       "79252  aceveju01  2000     MIL    1.0    0.0"
      ]
     },
     "execution_count": 43,
     "metadata": {},
     "output_type": "execute_result"
    }
   ],
   "source": [
    "batting_last_decade.head()"
   ]
  },
  {
   "cell_type": "markdown",
   "metadata": {},
   "source": [
    "Instead of having the \"ab\" (at bats) and \"h\" (hits) column, we will create a \"ba\" (batting average = h/ab) column to measure success of individual players and teams and their hitting. "
   ]
  },
  {
   "cell_type": "code",
   "execution_count": 44,
   "metadata": {
    "collapsed": false
   },
   "outputs": [],
   "source": [
    "batting_last_decade['ba'] = batting_last_decade.h/batting_last_decade.ab\n",
    "batting_last_decade = batting_last_decade.drop(['ab','h'],axis=1)"
   ]
  },
  {
   "cell_type": "code",
   "execution_count": 45,
   "metadata": {
    "collapsed": false
   },
   "outputs": [
    {
     "data": {
      "text/html": [
       "<div>\n",
       "<table border=\"1\" class=\"dataframe\">\n",
       "  <thead>\n",
       "    <tr style=\"text-align: right;\">\n",
       "      <th></th>\n",
       "      <th>player_id</th>\n",
       "      <th>year</th>\n",
       "      <th>team_id</th>\n",
       "      <th>ba</th>\n",
       "    </tr>\n",
       "  </thead>\n",
       "  <tbody>\n",
       "    <tr>\n",
       "      <th>79248</th>\n",
       "      <td>abbotje01</td>\n",
       "      <td>2000</td>\n",
       "      <td>CHA</td>\n",
       "      <td>0.274419</td>\n",
       "    </tr>\n",
       "    <tr>\n",
       "      <th>79249</th>\n",
       "      <td>abbotku01</td>\n",
       "      <td>2000</td>\n",
       "      <td>NYN</td>\n",
       "      <td>0.216561</td>\n",
       "    </tr>\n",
       "    <tr>\n",
       "      <th>79250</th>\n",
       "      <td>abbotpa01</td>\n",
       "      <td>2000</td>\n",
       "      <td>SEA</td>\n",
       "      <td>0.400000</td>\n",
       "    </tr>\n",
       "    <tr>\n",
       "      <th>79251</th>\n",
       "      <td>abreubo01</td>\n",
       "      <td>2000</td>\n",
       "      <td>PHI</td>\n",
       "      <td>0.315972</td>\n",
       "    </tr>\n",
       "    <tr>\n",
       "      <th>79252</th>\n",
       "      <td>aceveju01</td>\n",
       "      <td>2000</td>\n",
       "      <td>MIL</td>\n",
       "      <td>0.000000</td>\n",
       "    </tr>\n",
       "  </tbody>\n",
       "</table>\n",
       "</div>"
      ],
      "text/plain": [
       "       player_id  year team_id        ba\n",
       "79248  abbotje01  2000     CHA  0.274419\n",
       "79249  abbotku01  2000     NYN  0.216561\n",
       "79250  abbotpa01  2000     SEA  0.400000\n",
       "79251  abreubo01  2000     PHI  0.315972\n",
       "79252  aceveju01  2000     MIL  0.000000"
      ]
     },
     "execution_count": 45,
     "metadata": {},
     "output_type": "execute_result"
    }
   ],
   "source": [
    "batting_last_decade.head()"
   ]
  },
  {
   "cell_type": "markdown",
   "metadata": {},
   "source": [
    "About 5000 entries in this table have 0 at bats, thus resulting in a null value for batting average (dividing by zero). We will drop these entries, being that a player with no at bats will not contribute any valuable information to our data analysis for batting."
   ]
  },
  {
   "cell_type": "code",
   "execution_count": 46,
   "metadata": {
    "collapsed": false,
    "scrolled": true
   },
   "outputs": [
    {
     "name": "stdout",
     "output_type": "stream",
     "text": [
      "<class 'pandas.core.frame.DataFrame'>\n",
      "Int64Index: 16269 entries, 79248 to 101330\n",
      "Data columns (total 4 columns):\n",
      "player_id    16269 non-null object\n",
      "year         16269 non-null int64\n",
      "team_id      16269 non-null object\n",
      "ba           16269 non-null float64\n",
      "dtypes: float64(1), int64(1), object(2)\n",
      "memory usage: 635.5+ KB\n"
     ]
    }
   ],
   "source": [
    "batting_last_decade = batting_last_decade.dropna()\n",
    "batting_last_decade.info()"
   ]
  },
  {
   "cell_type": "code",
   "execution_count": 47,
   "metadata": {
    "collapsed": true
   },
   "outputs": [],
   "source": [
    "batting_last_decade.to_pickle('batting_last_decade')"
   ]
  },
  {
   "cell_type": "markdown",
   "metadata": {},
   "source": [
    "Just as we did with pitching, we will create a postseason dataframe for batting as well. We will create the \"ba\" column as we did above."
   ]
  },
  {
   "cell_type": "code",
   "execution_count": 52,
   "metadata": {
    "collapsed": false
   },
   "outputs": [],
   "source": [
    "batting_post_last_decade = batting_post_last_decade.drop(['double','triple','hr','sb','cs','bb','hr','bb','so',\n",
    "                           'ibb','hbp','r','sh','sf','g_idp','rbi','g','league_id'],axis=1)\n",
    "batting_post_last_decade['ba'] = batting_post_last_decade.h/batting_post_last_decade.ab\n",
    "batting_post_last_decade = batting_post_last_decade.drop(['ab','h'],axis=1)\n",
    "batting_post_last_decade = batting_post_last_decade.dropna()"
   ]
  },
  {
   "cell_type": "code",
   "execution_count": 53,
   "metadata": {
    "collapsed": false
   },
   "outputs": [
    {
     "data": {
      "text/html": [
       "<div>\n",
       "<table border=\"1\" class=\"dataframe\">\n",
       "  <thead>\n",
       "    <tr style=\"text-align: right;\">\n",
       "      <th></th>\n",
       "      <th>year</th>\n",
       "      <th>round</th>\n",
       "      <th>player_id</th>\n",
       "      <th>team_id</th>\n",
       "      <th>ba</th>\n",
       "    </tr>\n",
       "  </thead>\n",
       "  <tbody>\n",
       "    <tr>\n",
       "      <th>6982</th>\n",
       "      <td>2000</td>\n",
       "      <td>ALCS</td>\n",
       "      <td>bellda01</td>\n",
       "      <td>SEA</td>\n",
       "      <td>0.222222</td>\n",
       "    </tr>\n",
       "    <tr>\n",
       "      <th>6984</th>\n",
       "      <td>2000</td>\n",
       "      <td>ALCS</td>\n",
       "      <td>brosisc01</td>\n",
       "      <td>NYA</td>\n",
       "      <td>0.222222</td>\n",
       "    </tr>\n",
       "    <tr>\n",
       "      <th>6985</th>\n",
       "      <td>2000</td>\n",
       "      <td>ALCS</td>\n",
       "      <td>buhneja01</td>\n",
       "      <td>SEA</td>\n",
       "      <td>0.181818</td>\n",
       "    </tr>\n",
       "    <tr>\n",
       "      <th>6986</th>\n",
       "      <td>2000</td>\n",
       "      <td>ALCS</td>\n",
       "      <td>camermi01</td>\n",
       "      <td>SEA</td>\n",
       "      <td>0.111111</td>\n",
       "    </tr>\n",
       "    <tr>\n",
       "      <th>6988</th>\n",
       "      <td>2000</td>\n",
       "      <td>ALCS</td>\n",
       "      <td>guillca01</td>\n",
       "      <td>SEA</td>\n",
       "      <td>0.200000</td>\n",
       "    </tr>\n",
       "  </tbody>\n",
       "</table>\n",
       "</div>"
      ],
      "text/plain": [
       "      year round  player_id team_id        ba\n",
       "6982  2000  ALCS   bellda01     SEA  0.222222\n",
       "6984  2000  ALCS  brosisc01     NYA  0.222222\n",
       "6985  2000  ALCS  buhneja01     SEA  0.181818\n",
       "6986  2000  ALCS  camermi01     SEA  0.111111\n",
       "6988  2000  ALCS  guillca01     SEA  0.200000"
      ]
     },
     "execution_count": 53,
     "metadata": {},
     "output_type": "execute_result"
    }
   ],
   "source": [
    "batting_post_last_decade.head()"
   ]
  },
  {
   "cell_type": "code",
   "execution_count": 54,
   "metadata": {
    "collapsed": false,
    "scrolled": true
   },
   "outputs": [
    {
     "name": "stdout",
     "output_type": "stream",
     "text": [
      "<class 'pandas.core.frame.DataFrame'>\n",
      "Int64Index: 3421 entries, 6982 to 11689\n",
      "Data columns (total 5 columns):\n",
      "year         3421 non-null int64\n",
      "round        3421 non-null object\n",
      "player_id    3421 non-null object\n",
      "team_id      3421 non-null object\n",
      "ba           3421 non-null float64\n",
      "dtypes: float64(1), int64(1), object(3)\n",
      "memory usage: 160.4+ KB\n"
     ]
    }
   ],
   "source": [
    "batting_post_last_decade.info()"
   ]
  },
  {
   "cell_type": "code",
   "execution_count": 55,
   "metadata": {
    "collapsed": true
   },
   "outputs": [],
   "source": [
    "batting_post_last_decade.to_pickle('batting_post_last_decade')"
   ]
  },
  {
   "cell_type": "markdown",
   "metadata": {},
   "source": [
    "## Fielding"
   ]
  },
  {
   "cell_type": "code",
   "execution_count": 56,
   "metadata": {
    "collapsed": true
   },
   "outputs": [],
   "source": [
    "fielding = pd.read_csv(\"/data/jnogle/fielding.csv\")\n",
    "fielding_last_decade = fielding[fielding.year >= 2000]"
   ]
  },
  {
   "cell_type": "code",
   "execution_count": 57,
   "metadata": {
    "collapsed": true
   },
   "outputs": [],
   "source": [
    "fielding_post = pd.read_csv(\"/data/jnogle/fielding_postseason.csv\")\n",
    "fielding_post_last_decade = fielding_post[fielding_post.year >= 2000]"
   ]
  },
  {
   "cell_type": "code",
   "execution_count": 28,
   "metadata": {
    "collapsed": false
   },
   "outputs": [
    {
     "data": {
      "text/html": [
       "<div>\n",
       "<table border=\"1\" class=\"dataframe\">\n",
       "  <thead>\n",
       "    <tr style=\"text-align: right;\">\n",
       "      <th></th>\n",
       "      <th>player_id</th>\n",
       "      <th>year</th>\n",
       "      <th>stint</th>\n",
       "      <th>team_id</th>\n",
       "      <th>league_id</th>\n",
       "      <th>pos</th>\n",
       "      <th>g</th>\n",
       "      <th>gs</th>\n",
       "      <th>inn_outs</th>\n",
       "      <th>po</th>\n",
       "      <th>a</th>\n",
       "      <th>e</th>\n",
       "      <th>dp</th>\n",
       "      <th>pb</th>\n",
       "      <th>wp</th>\n",
       "      <th>sb</th>\n",
       "      <th>cs</th>\n",
       "      <th>zr</th>\n",
       "    </tr>\n",
       "  </thead>\n",
       "  <tbody>\n",
       "    <tr>\n",
       "      <th>132439</th>\n",
       "      <td>abbotje01</td>\n",
       "      <td>2000</td>\n",
       "      <td>1</td>\n",
       "      <td>CHA</td>\n",
       "      <td>AL</td>\n",
       "      <td>CF</td>\n",
       "      <td>33</td>\n",
       "      <td>NaN</td>\n",
       "      <td>NaN</td>\n",
       "      <td>NaN</td>\n",
       "      <td>NaN</td>\n",
       "      <td>NaN</td>\n",
       "      <td>NaN</td>\n",
       "      <td>NaN</td>\n",
       "      <td>NaN</td>\n",
       "      <td>NaN</td>\n",
       "      <td>NaN</td>\n",
       "      <td>NaN</td>\n",
       "    </tr>\n",
       "    <tr>\n",
       "      <th>132440</th>\n",
       "      <td>abbotje01</td>\n",
       "      <td>2000</td>\n",
       "      <td>1</td>\n",
       "      <td>CHA</td>\n",
       "      <td>AL</td>\n",
       "      <td>LF</td>\n",
       "      <td>20</td>\n",
       "      <td>NaN</td>\n",
       "      <td>NaN</td>\n",
       "      <td>NaN</td>\n",
       "      <td>NaN</td>\n",
       "      <td>NaN</td>\n",
       "      <td>NaN</td>\n",
       "      <td>NaN</td>\n",
       "      <td>NaN</td>\n",
       "      <td>NaN</td>\n",
       "      <td>NaN</td>\n",
       "      <td>NaN</td>\n",
       "    </tr>\n",
       "    <tr>\n",
       "      <th>132441</th>\n",
       "      <td>abbotje01</td>\n",
       "      <td>2000</td>\n",
       "      <td>1</td>\n",
       "      <td>CHA</td>\n",
       "      <td>AL</td>\n",
       "      <td>OF</td>\n",
       "      <td>65</td>\n",
       "      <td>NaN</td>\n",
       "      <td>1356.0</td>\n",
       "      <td>101.0</td>\n",
       "      <td>2.0</td>\n",
       "      <td>2.0</td>\n",
       "      <td>0.0</td>\n",
       "      <td>NaN</td>\n",
       "      <td>NaN</td>\n",
       "      <td>NaN</td>\n",
       "      <td>NaN</td>\n",
       "      <td>NaN</td>\n",
       "    </tr>\n",
       "    <tr>\n",
       "      <th>132442</th>\n",
       "      <td>abbotje01</td>\n",
       "      <td>2000</td>\n",
       "      <td>1</td>\n",
       "      <td>CHA</td>\n",
       "      <td>AL</td>\n",
       "      <td>RF</td>\n",
       "      <td>16</td>\n",
       "      <td>NaN</td>\n",
       "      <td>NaN</td>\n",
       "      <td>NaN</td>\n",
       "      <td>NaN</td>\n",
       "      <td>NaN</td>\n",
       "      <td>NaN</td>\n",
       "      <td>NaN</td>\n",
       "      <td>NaN</td>\n",
       "      <td>NaN</td>\n",
       "      <td>NaN</td>\n",
       "      <td>NaN</td>\n",
       "    </tr>\n",
       "    <tr>\n",
       "      <th>132443</th>\n",
       "      <td>abbotku01</td>\n",
       "      <td>2000</td>\n",
       "      <td>1</td>\n",
       "      <td>NYN</td>\n",
       "      <td>NL</td>\n",
       "      <td>2B</td>\n",
       "      <td>23</td>\n",
       "      <td>NaN</td>\n",
       "      <td>312.0</td>\n",
       "      <td>23.0</td>\n",
       "      <td>29.0</td>\n",
       "      <td>1.0</td>\n",
       "      <td>3.0</td>\n",
       "      <td>NaN</td>\n",
       "      <td>NaN</td>\n",
       "      <td>NaN</td>\n",
       "      <td>NaN</td>\n",
       "      <td>NaN</td>\n",
       "    </tr>\n",
       "  </tbody>\n",
       "</table>\n",
       "</div>"
      ],
      "text/plain": [
       "        player_id  year  stint team_id league_id pos   g  gs  inn_outs     po  \\\n",
       "132439  abbotje01  2000      1     CHA        AL  CF  33 NaN       NaN    NaN   \n",
       "132440  abbotje01  2000      1     CHA        AL  LF  20 NaN       NaN    NaN   \n",
       "132441  abbotje01  2000      1     CHA        AL  OF  65 NaN    1356.0  101.0   \n",
       "132442  abbotje01  2000      1     CHA        AL  RF  16 NaN       NaN    NaN   \n",
       "132443  abbotku01  2000      1     NYN        NL  2B  23 NaN     312.0   23.0   \n",
       "\n",
       "           a    e   dp  pb  wp  sb  cs  zr  \n",
       "132439   NaN  NaN  NaN NaN NaN NaN NaN NaN  \n",
       "132440   NaN  NaN  NaN NaN NaN NaN NaN NaN  \n",
       "132441   2.0  2.0  0.0 NaN NaN NaN NaN NaN  \n",
       "132442   NaN  NaN  NaN NaN NaN NaN NaN NaN  \n",
       "132443  29.0  1.0  3.0 NaN NaN NaN NaN NaN  "
      ]
     },
     "execution_count": 28,
     "metadata": {},
     "output_type": "execute_result"
    }
   ],
   "source": [
    "fielding_last_decade.head()"
   ]
  },
  {
   "cell_type": "markdown",
   "metadata": {},
   "source": [
    "The above dataframe contains the fielding statistics for MLB players during the regular season from the years 2000-2015. We are going to drop columns that have no relevance to the measurement of the team's overall success in a season. We will also drop entries that have no errors (null-value in the \"e\" column), as this will be how we are measuring fielding success.  This results in the dataframe below."
   ]
  },
  {
   "cell_type": "code",
   "execution_count": 58,
   "metadata": {
    "collapsed": false
   },
   "outputs": [],
   "source": [
    "fielding_last_decade = fielding_last_decade.drop(['stint','pos','gs','inn_outs','po','a','dp','pb','wp','sb',\n",
    "                           'cs','zr','g'],axis=1)\n",
    "fielding_last_decade = fielding_last_decade.dropna()"
   ]
  },
  {
   "cell_type": "code",
   "execution_count": 59,
   "metadata": {
    "collapsed": false
   },
   "outputs": [
    {
     "data": {
      "text/html": [
       "<div>\n",
       "<table border=\"1\" class=\"dataframe\">\n",
       "  <thead>\n",
       "    <tr style=\"text-align: right;\">\n",
       "      <th></th>\n",
       "      <th>player_id</th>\n",
       "      <th>year</th>\n",
       "      <th>team_id</th>\n",
       "      <th>league_id</th>\n",
       "      <th>e</th>\n",
       "    </tr>\n",
       "  </thead>\n",
       "  <tbody>\n",
       "    <tr>\n",
       "      <th>132441</th>\n",
       "      <td>abbotje01</td>\n",
       "      <td>2000</td>\n",
       "      <td>CHA</td>\n",
       "      <td>AL</td>\n",
       "      <td>2.0</td>\n",
       "    </tr>\n",
       "    <tr>\n",
       "      <th>132443</th>\n",
       "      <td>abbotku01</td>\n",
       "      <td>2000</td>\n",
       "      <td>NYN</td>\n",
       "      <td>NL</td>\n",
       "      <td>1.0</td>\n",
       "    </tr>\n",
       "    <tr>\n",
       "      <th>132444</th>\n",
       "      <td>abbotku01</td>\n",
       "      <td>2000</td>\n",
       "      <td>NYN</td>\n",
       "      <td>NL</td>\n",
       "      <td>0.0</td>\n",
       "    </tr>\n",
       "    <tr>\n",
       "      <th>132446</th>\n",
       "      <td>abbotku01</td>\n",
       "      <td>2000</td>\n",
       "      <td>NYN</td>\n",
       "      <td>NL</td>\n",
       "      <td>0.0</td>\n",
       "    </tr>\n",
       "    <tr>\n",
       "      <th>132447</th>\n",
       "      <td>abbotku01</td>\n",
       "      <td>2000</td>\n",
       "      <td>NYN</td>\n",
       "      <td>NL</td>\n",
       "      <td>6.0</td>\n",
       "    </tr>\n",
       "  </tbody>\n",
       "</table>\n",
       "</div>"
      ],
      "text/plain": [
       "        player_id  year team_id league_id    e\n",
       "132441  abbotje01  2000     CHA        AL  2.0\n",
       "132443  abbotku01  2000     NYN        NL  1.0\n",
       "132444  abbotku01  2000     NYN        NL  0.0\n",
       "132446  abbotku01  2000     NYN        NL  0.0\n",
       "132447  abbotku01  2000     NYN        NL  6.0"
      ]
     },
     "execution_count": 59,
     "metadata": {},
     "output_type": "execute_result"
    }
   ],
   "source": [
    "fielding_last_decade.head()"
   ]
  },
  {
   "cell_type": "code",
   "execution_count": 60,
   "metadata": {
    "collapsed": false,
    "scrolled": true
   },
   "outputs": [
    {
     "name": "stdout",
     "output_type": "stream",
     "text": [
      "<class 'pandas.core.frame.DataFrame'>\n",
      "Int64Index: 29019 entries, 132441 to 170525\n",
      "Data columns (total 5 columns):\n",
      "player_id    29019 non-null object\n",
      "year         29019 non-null int64\n",
      "team_id      29019 non-null object\n",
      "league_id    29019 non-null object\n",
      "e            29019 non-null float64\n",
      "dtypes: float64(1), int64(1), object(3)\n",
      "memory usage: 1.3+ MB\n"
     ]
    }
   ],
   "source": [
    "fielding_last_decade.info()"
   ]
  },
  {
   "cell_type": "code",
   "execution_count": 61,
   "metadata": {
    "collapsed": true
   },
   "outputs": [],
   "source": [
    "fielding_last_decade.to_pickle('fielding_last_decade')"
   ]
  },
  {
   "cell_type": "markdown",
   "metadata": {},
   "source": [
    "Below is the dataframe for postseason fielding statistics."
   ]
  },
  {
   "cell_type": "code",
   "execution_count": 62,
   "metadata": {
    "collapsed": false
   },
   "outputs": [],
   "source": [
    "fielding_post_last_decade = fielding_post_last_decade.drop(['pos','gs','inn_outs','po','a','dp','pb','sb',\n",
    "                           'cs','tp'],axis=1)"
   ]
  },
  {
   "cell_type": "code",
   "execution_count": 63,
   "metadata": {
    "collapsed": false
   },
   "outputs": [
    {
     "name": "stdout",
     "output_type": "stream",
     "text": [
      "<class 'pandas.core.frame.DataFrame'>\n",
      "Int64Index: 5243 entries, 7068 to 12310\n",
      "Data columns (total 7 columns):\n",
      "player_id    5243 non-null object\n",
      "year         5243 non-null int64\n",
      "team_id      5243 non-null object\n",
      "league_id    5243 non-null object\n",
      "round        5243 non-null object\n",
      "g            5243 non-null int64\n",
      "e            5243 non-null int64\n",
      "dtypes: int64(3), object(4)\n",
      "memory usage: 327.7+ KB\n"
     ]
    }
   ],
   "source": [
    "fielding_post_last_decade.info()"
   ]
  },
  {
   "cell_type": "code",
   "execution_count": 64,
   "metadata": {
    "collapsed": true
   },
   "outputs": [],
   "source": [
    "fielding_post_last_decade.to_pickle('fielding_post_last_decade')"
   ]
  },
  {
   "cell_type": "markdown",
   "metadata": {},
   "source": [
    "## Team Performance"
   ]
  },
  {
   "cell_type": "markdown",
   "metadata": {},
   "source": [
    "Finally, we will create a dataframe to analyze how teams performed in a given season. We will measure the success of teams by their rank, number of wins, and whether or not they won the World Series."
   ]
  },
  {
   "cell_type": "code",
   "execution_count": 65,
   "metadata": {
    "collapsed": false
   },
   "outputs": [],
   "source": [
    "team = pd.read_csv(\"/data/jnogle/team.csv\")\n",
    "team_last_decade = team[team.year >= 2000]\n",
    "team_last_decade = team_last_decade.drop(['franchise_id','league_id','ghome','l','div_win','wc_win','lg_win','r','ab',\n",
    "                                         'h','double','triple','hr','bb','so','sb','cs','hbp','sf','ra','er',\n",
    "                                          'era','cg','sho','sv','ipouts','ha','hra','bba','soa','e','dp','fp',\n",
    "                                          'park','attendance','bpf','ppf','team_id_br','team_id_lahman45','team_id_retro'],axis=1)"
   ]
  },
  {
   "cell_type": "code",
   "execution_count": 66,
   "metadata": {
    "collapsed": false,
    "scrolled": false
   },
   "outputs": [
    {
     "data": {
      "text/html": [
       "<div>\n",
       "<table border=\"1\" class=\"dataframe\">\n",
       "  <thead>\n",
       "    <tr style=\"text-align: right;\">\n",
       "      <th></th>\n",
       "      <th>year</th>\n",
       "      <th>team_id</th>\n",
       "      <th>div_id</th>\n",
       "      <th>rank</th>\n",
       "      <th>g</th>\n",
       "      <th>w</th>\n",
       "      <th>ws_win</th>\n",
       "      <th>name</th>\n",
       "    </tr>\n",
       "  </thead>\n",
       "  <tbody>\n",
       "    <tr>\n",
       "      <th>2325</th>\n",
       "      <td>2000</td>\n",
       "      <td>ANA</td>\n",
       "      <td>W</td>\n",
       "      <td>3</td>\n",
       "      <td>162</td>\n",
       "      <td>82</td>\n",
       "      <td>N</td>\n",
       "      <td>Anaheim Angels</td>\n",
       "    </tr>\n",
       "    <tr>\n",
       "      <th>2326</th>\n",
       "      <td>2000</td>\n",
       "      <td>ARI</td>\n",
       "      <td>W</td>\n",
       "      <td>3</td>\n",
       "      <td>162</td>\n",
       "      <td>85</td>\n",
       "      <td>N</td>\n",
       "      <td>Arizona Diamondbacks</td>\n",
       "    </tr>\n",
       "    <tr>\n",
       "      <th>2327</th>\n",
       "      <td>2000</td>\n",
       "      <td>ATL</td>\n",
       "      <td>E</td>\n",
       "      <td>1</td>\n",
       "      <td>162</td>\n",
       "      <td>95</td>\n",
       "      <td>N</td>\n",
       "      <td>Atlanta Braves</td>\n",
       "    </tr>\n",
       "    <tr>\n",
       "      <th>2328</th>\n",
       "      <td>2000</td>\n",
       "      <td>BAL</td>\n",
       "      <td>E</td>\n",
       "      <td>4</td>\n",
       "      <td>162</td>\n",
       "      <td>74</td>\n",
       "      <td>N</td>\n",
       "      <td>Baltimore Orioles</td>\n",
       "    </tr>\n",
       "    <tr>\n",
       "      <th>2329</th>\n",
       "      <td>2000</td>\n",
       "      <td>BOS</td>\n",
       "      <td>E</td>\n",
       "      <td>2</td>\n",
       "      <td>162</td>\n",
       "      <td>85</td>\n",
       "      <td>N</td>\n",
       "      <td>Boston Red Sox</td>\n",
       "    </tr>\n",
       "  </tbody>\n",
       "</table>\n",
       "</div>"
      ],
      "text/plain": [
       "      year team_id div_id  rank    g   w ws_win                  name\n",
       "2325  2000     ANA      W     3  162  82      N        Anaheim Angels\n",
       "2326  2000     ARI      W     3  162  85      N  Arizona Diamondbacks\n",
       "2327  2000     ATL      E     1  162  95      N        Atlanta Braves\n",
       "2328  2000     BAL      E     4  162  74      N     Baltimore Orioles\n",
       "2329  2000     BOS      E     2  162  85      N        Boston Red Sox"
      ]
     },
     "execution_count": 66,
     "metadata": {},
     "output_type": "execute_result"
    }
   ],
   "source": [
    "team_last_decade.head()"
   ]
  },
  {
   "cell_type": "code",
   "execution_count": 67,
   "metadata": {
    "collapsed": false,
    "scrolled": false
   },
   "outputs": [
    {
     "name": "stdout",
     "output_type": "stream",
     "text": [
      "<class 'pandas.core.frame.DataFrame'>\n",
      "Int64Index: 480 entries, 2325 to 2804\n",
      "Data columns (total 8 columns):\n",
      "year       480 non-null int64\n",
      "team_id    480 non-null object\n",
      "div_id     480 non-null object\n",
      "rank       480 non-null int64\n",
      "g          480 non-null int64\n",
      "w          480 non-null int64\n",
      "ws_win     480 non-null object\n",
      "name       480 non-null object\n",
      "dtypes: int64(4), object(4)\n",
      "memory usage: 33.8+ KB\n"
     ]
    }
   ],
   "source": [
    "team_last_decade.info()"
   ]
  },
  {
   "cell_type": "code",
   "execution_count": 68,
   "metadata": {
    "collapsed": true
   },
   "outputs": [],
   "source": [
    "team_last_decade.to_pickle('team_last_decade')"
   ]
  }
 ],
 "metadata": {
  "kernelspec": {
   "display_name": "Python 3",
   "language": "python",
   "name": "python3"
  },
  "language_info": {
   "codemirror_mode": {
    "name": "ipython",
    "version": 3
   },
   "file_extension": ".py",
   "mimetype": "text/x-python",
   "name": "python",
   "nbconvert_exporter": "python",
   "pygments_lexer": "ipython3",
   "version": "3.5.2"
  }
 },
 "nbformat": 4,
 "nbformat_minor": 2
}
